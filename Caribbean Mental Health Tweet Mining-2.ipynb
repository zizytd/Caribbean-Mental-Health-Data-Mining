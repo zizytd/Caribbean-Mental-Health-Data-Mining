{
 "cells": [
  {
   "cell_type": "markdown",
   "id": "f848eb6a",
   "metadata": {},
   "source": [
    "This notebook is the second part of the mental health analysis of the Caribbean project which seeks to assess the prevalence of mental health disorders regionally. The inspiration behind the report came from my report on youth mental health in Jamaica which assessed the resources available for care. The report found that the resources available are distressfully inadequate to service the need.  The full report can be accessed here: https://www.capricaribbean.org/documents/mind-gap-inadequacy-mental-health-services-children-revised-october-2021.\n",
    "The report lacked a comprehensive and current analysis of the prevalence of disorders regionally which this data science project aimed to address.\n",
    "\n",
    "The first part of the project assessed disorder prevalence across the region using a Dataset taken from Kaggle. It showed that depression and anxiety were the most prevalent disorders in the region and there were significant relationships between both disorders and alcohol consumption and drug use. The full analysis can be accessed here: \n",
    "\n",
    "The analysis below seeks to gain the opinions and sentiments of Caribbean Twitter users on anxiety, depression and mental health. "
   ]
  },
  {
   "cell_type": "code",
   "execution_count": 1,
   "id": "90a5fe6f",
   "metadata": {},
   "outputs": [],
   "source": [
    "import snscrape.modules.twitter as sntwitter #I first added this to the terminal as a new command\n",
    "import itertools\n",
    "import pandas as pd\n",
    "import seaborn as sns\n",
    "import numpy as np\n",
    "import matplotlib.pyplot as plt\n",
    "from functools import reduce #To carry out merging of multiple data frames\n",
    "from textblob import TextBlob\n",
    "from transformers import AutoTokenizer, AutoModelForSequenceClassification #For Sentiment Analysis\n",
    "from scipy.special import softmax #For Sentiment Analysis\n",
    "import torch \n",
    "import re\n",
    "import nltk\n",
    "from nltk.sentiment.vader import SentimentIntensityAnalyzer\n",
    "import warnings\n",
    "warnings.filterwarnings('ignore')\n"
   ]
  },
  {
   "cell_type": "markdown",
   "id": "e4fca4a6",
   "metadata": {},
   "source": [
    "# Checking Mental Health Terms Across Four Countries"
   ]
  },
  {
   "cell_type": "code",
   "execution_count": 2,
   "id": "dbb0c4b7",
   "metadata": {},
   "outputs": [],
   "source": [
    "#Checking tweets on depression\n",
    "\n",
    "maxtweets = 300\n",
    "\n",
    "tweets1_list = []\n",
    "\n",
    "# locations = ['Montego Bay', 'Port of Spain']\n",
    "\n",
    "for i,tweet in enumerate(sntwitter.TwitterSearchScraper('depressed near:\"Port of Spain\" within:50km').get_items()):\n",
    "    if i>maxtweets:\n",
    "        break\n",
    "    \n",
    "    tweets1_list.append([tweet.id, tweet.date, tweet.content, tweet.replyCount, tweet.likeCount, tweet.retweetCount, tweet.quotedTweet])\n",
    "\n",
    "#I was unable to put all CARICOM countries in a list & then use a for loop to run the Twitter location search through each one\n",
    "#As a work around, I ran searches on depression & anxiety in 4 islands (one island per search term) and then mental health search across all\n",
    "#No need for a specific time range as the sample I ran for Barbados gave tweets dating back to 2017.  \n",
    "#I decided to remove searches for anxious because the term can be used for frivolous things that are not mental health related"
   ]
  },
  {
   "cell_type": "code",
   "execution_count": 3,
   "id": "29a7cdf5",
   "metadata": {},
   "outputs": [],
   "source": [
    "#Checking tweets for anxiety \n",
    "maxtweets = 300\n",
    "\n",
    "tweets2_list = []\n",
    "\n",
    "# locations = ['Jamaica', 'Trinidad & Tobago']\n",
    "\n",
    "for i,tweet in enumerate(sntwitter.TwitterSearchScraper('anxiety near:\"Bridgetown\" within:50km').get_items()):\n",
    "    if i>maxtweets:\n",
    "        break\n",
    "    tweets2_list.append([tweet.id, tweet.date, tweet.content, tweet.replyCount, tweet.likeCount, tweet.retweetCount, tweet.quotedTweet])"
   ]
  },
  {
   "cell_type": "code",
   "execution_count": 4,
   "id": "7e9fefff",
   "metadata": {},
   "outputs": [],
   "source": [
    "#Checking tweets on depression\n",
    "maxtweets = 300\n",
    "\n",
    "tweets3_list = []\n",
    "\n",
    "for i,tweet in enumerate(sntwitter.TwitterSearchScraper('depressed near:\"Montego Bay\" within:50km').get_items()):\n",
    "    if i>maxtweets:\n",
    "        break\n",
    "    tweets3_list.append([tweet.id, tweet.date, tweet.content, tweet.replyCount, tweet.likeCount, tweet.retweetCount, tweet.quotedTweet])"
   ]
  },
  {
   "cell_type": "code",
   "execution_count": 5,
   "id": "5392ea03",
   "metadata": {},
   "outputs": [],
   "source": [
    "#Checking tweets on depression/anxiety\n",
    "maxtweets = 300\n",
    "\n",
    "tweets4_list = []\n",
    "\n",
    "for i,tweet in enumerate(sntwitter.TwitterSearchScraper('stressed near:\"Guyana\" within:10km').get_items()):\n",
    "    if i>maxtweets:\n",
    "        break\n",
    "    tweets4_list.append([tweet.id, tweet.date, tweet.content, tweet.replyCount, tweet.likeCount, tweet.retweetCount, tweet.quotedTweet])"
   ]
  },
  {
   "cell_type": "markdown",
   "id": "5c2686f3",
   "metadata": {},
   "source": [
    "# Checking Tweets About Mental Health in Each of the Countries"
   ]
  },
  {
   "cell_type": "code",
   "execution_count": 6,
   "id": "3199054e",
   "metadata": {},
   "outputs": [],
   "source": [
    "maxtweets = 300\n",
    "\n",
    "tweets5_list = []\n",
    "\n",
    "for i,tweet in enumerate(sntwitter.TwitterSearchScraper('mental health near:\"Montego Bay\" within:50km').get_items()):\n",
    "    if i>maxtweets:\n",
    "        break\n",
    "    tweets5_list.append([tweet.id, tweet.date, tweet.content, tweet.replyCount, tweet.likeCount, tweet.retweetCount, tweet.quotedTweet])"
   ]
  },
  {
   "cell_type": "code",
   "execution_count": 7,
   "id": "9bcf4b45",
   "metadata": {},
   "outputs": [],
   "source": [
    "maxtweets = 300\n",
    "\n",
    "tweets6_list = []\n",
    "\n",
    "for i,tweet in enumerate(sntwitter.TwitterSearchScraper('mental health near:\"Port of Spain\" within:50km').get_items()):\n",
    "    if i>maxtweets:\n",
    "        break\n",
    "    tweets6_list.append([tweet.id, tweet.date, tweet.content, tweet.replyCount, tweet.likeCount, tweet.retweetCount, tweet.quotedTweet])"
   ]
  },
  {
   "cell_type": "code",
   "execution_count": 8,
   "id": "2e654b78",
   "metadata": {},
   "outputs": [],
   "source": [
    "maxtweets = 300\n",
    "\n",
    "tweets7_list = []\n",
    "\n",
    "for i,tweet in enumerate(sntwitter.TwitterSearchScraper('mental health near:\"Bridgetown\" within:50km').get_items()):\n",
    "    if i>maxtweets:\n",
    "        break\n",
    "    tweets7_list.append([tweet.id, tweet.date, tweet.content, tweet.replyCount, tweet.likeCount, tweet.retweetCount, tweet.quotedTweet])"
   ]
  },
  {
   "cell_type": "code",
   "execution_count": 12,
   "id": "f21dcd62",
   "metadata": {},
   "outputs": [],
   "source": [
    "maxtweets = 300\n",
    "\n",
    "tweets8_list = []\n",
    "\n",
    "for i,tweet in enumerate(sntwitter.TwitterSearchScraper('mental health near:\"Guyana\" within:50km').get_items()):\n",
    "    if i>maxtweets:\n",
    "        break\n",
    "    tweets8_list.append([tweet.id, tweet.date, tweet.content, tweet.replyCount, tweet.likeCount, tweet.retweetCount, tweet.quotedTweet])"
   ]
  },
  {
   "cell_type": "markdown",
   "id": "a710604e",
   "metadata": {},
   "source": [
    "# Creating Data Frames & Merging These into One"
   ]
  },
  {
   "cell_type": "code",
   "execution_count": 13,
   "id": "f128a36d",
   "metadata": {},
   "outputs": [],
   "source": [
    "#Creating Dataframe\n",
    "tweets1_df = pd.DataFrame(tweets1_list, columns=['ID', 'Date', 'Content', 'Reply Count', 'Likes', 'Retweets', 'Quotes'])"
   ]
  },
  {
   "cell_type": "code",
   "execution_count": 14,
   "id": "2c307ba9",
   "metadata": {},
   "outputs": [],
   "source": [
    "#Creating Dataframe\n",
    "tweets2_df = pd.DataFrame(tweets2_list, columns=['ID', 'Date', 'Content', 'Reply Count', 'Likes', 'Retweets', 'Quotes'])"
   ]
  },
  {
   "cell_type": "code",
   "execution_count": 15,
   "id": "c6bca936",
   "metadata": {},
   "outputs": [],
   "source": [
    "#Creating Dataframe\n",
    "tweets3_df = pd.DataFrame(tweets3_list, columns=['ID', 'Date','Content', 'Reply Count', 'Likes', 'Retweets', 'Quotes'])"
   ]
  },
  {
   "cell_type": "code",
   "execution_count": 16,
   "id": "9248fa3c",
   "metadata": {},
   "outputs": [],
   "source": [
    "#Creating Dataframe\n",
    "tweets4_df = pd.DataFrame(tweets4_list, columns=['ID', 'Date', 'Content', 'Reply Count', 'Likes', 'Retweets', 'Quotes'])"
   ]
  },
  {
   "cell_type": "code",
   "execution_count": 17,
   "id": "3ddd7706",
   "metadata": {},
   "outputs": [],
   "source": [
    "#Creating Dataframe\n",
    "tweets5_df = pd.DataFrame(tweets5_list, columns=['ID', 'Date', 'Content', 'Reply Count', 'Likes', 'Retweets', 'Quotes'])"
   ]
  },
  {
   "cell_type": "code",
   "execution_count": 18,
   "id": "aa096403",
   "metadata": {},
   "outputs": [],
   "source": [
    "#Creating Dataframe\n",
    "tweets6_df = pd.DataFrame(tweets6_list, columns=['ID', 'Date','Content', 'Reply Count', 'Likes', 'Retweets', 'Quotes'])"
   ]
  },
  {
   "cell_type": "code",
   "execution_count": 19,
   "id": "b7283c4a",
   "metadata": {},
   "outputs": [],
   "source": [
    "tweets7_df = pd.DataFrame(tweets7_list, columns=['ID', 'Date', 'Content', 'Reply Count', 'Likes', 'Retweets', 'Quotes'])"
   ]
  },
  {
   "cell_type": "code",
   "execution_count": 20,
   "id": "12994acf",
   "metadata": {},
   "outputs": [],
   "source": [
    "tweets8_df = pd.DataFrame(tweets8_list, columns=['ID', 'Date', 'Content', 'Reply Count', 'Likes', 'Retweets', 'Quotes'])"
   ]
  },
  {
   "cell_type": "markdown",
   "id": "572a4e39",
   "metadata": {},
   "source": [
    "There was a problem with merging the datasets using the following code as I was losing over 80% of info throughout the dataframe: \n",
    "\n",
    "df_merged = reduce(lambda  left,right: pd.merge(left,right,on=['Content'],\n",
    "                                            how='outer'), data_frames\n",
    "\n",
    "\n",
    "The individual dataframes did not have that high % of null values so the merge was erasing information. I searched around and used the code below to successfully merge the datasets. The code below also automatically removed duplicate columns. "
   ]
  },
  {
   "cell_type": "code",
   "execution_count": 21,
   "id": "8f976d6a",
   "metadata": {},
   "outputs": [
    {
     "data": {
      "text/html": [
       "<div>\n",
       "<style scoped>\n",
       "    .dataframe tbody tr th:only-of-type {\n",
       "        vertical-align: middle;\n",
       "    }\n",
       "\n",
       "    .dataframe tbody tr th {\n",
       "        vertical-align: top;\n",
       "    }\n",
       "\n",
       "    .dataframe thead th {\n",
       "        text-align: right;\n",
       "    }\n",
       "</style>\n",
       "<table border=\"1\" class=\"dataframe\">\n",
       "  <thead>\n",
       "    <tr style=\"text-align: right;\">\n",
       "      <th></th>\n",
       "      <th>ID</th>\n",
       "      <th>Date</th>\n",
       "      <th>Content</th>\n",
       "      <th>Reply Count</th>\n",
       "      <th>Likes</th>\n",
       "      <th>Retweets</th>\n",
       "      <th>Quotes</th>\n",
       "    </tr>\n",
       "  </thead>\n",
       "  <tbody>\n",
       "    <tr>\n",
       "      <th>0</th>\n",
       "      <td>1591879584877891588</td>\n",
       "      <td>2022-11-13 19:44:03+00:00</td>\n",
       "      <td>@PaulMitchell_AB @Dr_Voll So if you call the s...</td>\n",
       "      <td>0</td>\n",
       "      <td>0</td>\n",
       "      <td>0</td>\n",
       "      <td>None</td>\n",
       "    </tr>\n",
       "    <tr>\n",
       "      <th>1</th>\n",
       "      <td>1591484387388194816</td>\n",
       "      <td>2022-11-12 17:33:40+00:00</td>\n",
       "      <td>This is, um, horrific.\\n\\nStarting March 17th,...</td>\n",
       "      <td>0</td>\n",
       "      <td>1</td>\n",
       "      <td>0</td>\n",
       "      <td>https://twitter.com/globeandmail/status/159117...</td>\n",
       "    </tr>\n",
       "    <tr>\n",
       "      <th>2</th>\n",
       "      <td>1591278282242109440</td>\n",
       "      <td>2022-11-12 03:54:41+00:00</td>\n",
       "      <td>@HomerTrajan I don't think I got very much out...</td>\n",
       "      <td>1</td>\n",
       "      <td>1</td>\n",
       "      <td>0</td>\n",
       "      <td>None</td>\n",
       "    </tr>\n",
       "    <tr>\n",
       "      <th>3</th>\n",
       "      <td>1591123844601114624</td>\n",
       "      <td>2022-11-11 17:41:00+00:00</td>\n",
       "      <td>Every time I have a conversation with my colle...</td>\n",
       "      <td>0</td>\n",
       "      <td>7</td>\n",
       "      <td>2</td>\n",
       "      <td>None</td>\n",
       "    </tr>\n",
       "    <tr>\n",
       "      <th>4</th>\n",
       "      <td>1591080966227128320</td>\n",
       "      <td>2022-11-11 14:50:37+00:00</td>\n",
       "      <td>i get depressed for like 6-8 hours and then i’...</td>\n",
       "      <td>1</td>\n",
       "      <td>1</td>\n",
       "      <td>1</td>\n",
       "      <td>None</td>\n",
       "    </tr>\n",
       "  </tbody>\n",
       "</table>\n",
       "</div>"
      ],
      "text/plain": [
       "                    ID                      Date  \\\n",
       "0  1591879584877891588 2022-11-13 19:44:03+00:00   \n",
       "1  1591484387388194816 2022-11-12 17:33:40+00:00   \n",
       "2  1591278282242109440 2022-11-12 03:54:41+00:00   \n",
       "3  1591123844601114624 2022-11-11 17:41:00+00:00   \n",
       "4  1591080966227128320 2022-11-11 14:50:37+00:00   \n",
       "\n",
       "                                             Content  Reply Count  Likes  \\\n",
       "0  @PaulMitchell_AB @Dr_Voll So if you call the s...            0      0   \n",
       "1  This is, um, horrific.\\n\\nStarting March 17th,...            0      1   \n",
       "2  @HomerTrajan I don't think I got very much out...            1      1   \n",
       "3  Every time I have a conversation with my colle...            0      7   \n",
       "4  i get depressed for like 6-8 hours and then i’...            1      1   \n",
       "\n",
       "   Retweets                                             Quotes  \n",
       "0         0                                               None  \n",
       "1         0  https://twitter.com/globeandmail/status/159117...  \n",
       "2         0                                               None  \n",
       "3         2                                               None  \n",
       "4         1                                               None  "
      ]
     },
     "execution_count": 21,
     "metadata": {},
     "output_type": "execute_result"
    }
   ],
   "source": [
    "# Merging multiple data frames into one \n",
    "data_frames = [tweets1_df, tweets2_df, tweets3_df, tweets4_df, tweets5_df, tweets6_df, tweets7_df, tweets8_df]\n",
    "\n",
    "tweets_df = pd.concat(data_frames, axis=0, ignore_index=True)\n",
    "\n",
    "tweets_df.head()"
   ]
  },
  {
   "cell_type": "markdown",
   "id": "0cc5cbd6",
   "metadata": {},
   "source": [
    "# Data Cleaning "
   ]
  },
  {
   "cell_type": "code",
   "execution_count": 22,
   "id": "0042d9b8",
   "metadata": {},
   "outputs": [
    {
     "data": {
      "text/plain": [
       "(1600, 7)"
      ]
     },
     "execution_count": 22,
     "metadata": {},
     "output_type": "execute_result"
    }
   ],
   "source": [
    "#Getting number of rows & columns. Note that the results are less than the no. of tweets I specfied above as some countries did not yield the no. requested. \n",
    "\n",
    "tweets_df.shape"
   ]
  },
  {
   "cell_type": "code",
   "execution_count": 23,
   "id": "7ed0f1ad",
   "metadata": {},
   "outputs": [
    {
     "name": "stdout",
     "output_type": "stream",
     "text": [
      " ID - 0%\n",
      " Date - 0%\n",
      " Content - 0%\n",
      " Reply Count - 0%\n",
      " Likes - 0%\n",
      " Retweets - 0%\n",
      " Quotes - 90%\n"
     ]
    }
   ],
   "source": [
    "#Checking for any Null Values\n",
    "\n",
    "for col in tweets_df.columns:\n",
    "    pct_missing = np.mean(tweets_df[col].isnull())\n",
    "    print(' {} - {}%'.format(col, round(pct_missing*100)))"
   ]
  },
  {
   "cell_type": "code",
   "execution_count": 24,
   "id": "1d3ea6d7",
   "metadata": {},
   "outputs": [
    {
     "data": {
      "text/html": [
       "<div>\n",
       "<style scoped>\n",
       "    .dataframe tbody tr th:only-of-type {\n",
       "        vertical-align: middle;\n",
       "    }\n",
       "\n",
       "    .dataframe tbody tr th {\n",
       "        vertical-align: top;\n",
       "    }\n",
       "\n",
       "    .dataframe thead th {\n",
       "        text-align: right;\n",
       "    }\n",
       "</style>\n",
       "<table border=\"1\" class=\"dataframe\">\n",
       "  <thead>\n",
       "    <tr style=\"text-align: right;\">\n",
       "      <th></th>\n",
       "      <th>ID</th>\n",
       "      <th>Reply Count</th>\n",
       "      <th>Likes</th>\n",
       "      <th>Retweets</th>\n",
       "    </tr>\n",
       "  </thead>\n",
       "  <tbody>\n",
       "    <tr>\n",
       "      <th>count</th>\n",
       "      <td>1.600000e+03</td>\n",
       "      <td>1600.000000</td>\n",
       "      <td>1600.000000</td>\n",
       "      <td>1600.000000</td>\n",
       "    </tr>\n",
       "    <tr>\n",
       "      <th>mean</th>\n",
       "      <td>1.317547e+18</td>\n",
       "      <td>0.488125</td>\n",
       "      <td>6.201250</td>\n",
       "      <td>1.226875</td>\n",
       "    </tr>\n",
       "    <tr>\n",
       "      <th>std</th>\n",
       "      <td>2.617210e+17</td>\n",
       "      <td>2.416818</td>\n",
       "      <td>29.946765</td>\n",
       "      <td>6.368536</td>\n",
       "    </tr>\n",
       "    <tr>\n",
       "      <th>min</th>\n",
       "      <td>1.473220e+17</td>\n",
       "      <td>0.000000</td>\n",
       "      <td>0.000000</td>\n",
       "      <td>0.000000</td>\n",
       "    </tr>\n",
       "    <tr>\n",
       "      <th>25%</th>\n",
       "      <td>1.262616e+18</td>\n",
       "      <td>0.000000</td>\n",
       "      <td>0.000000</td>\n",
       "      <td>0.000000</td>\n",
       "    </tr>\n",
       "    <tr>\n",
       "      <th>50%</th>\n",
       "      <td>1.367165e+18</td>\n",
       "      <td>0.000000</td>\n",
       "      <td>1.000000</td>\n",
       "      <td>0.000000</td>\n",
       "    </tr>\n",
       "    <tr>\n",
       "      <th>75%</th>\n",
       "      <td>1.477474e+18</td>\n",
       "      <td>1.000000</td>\n",
       "      <td>3.000000</td>\n",
       "      <td>0.000000</td>\n",
       "    </tr>\n",
       "    <tr>\n",
       "      <th>max</th>\n",
       "      <td>1.591922e+18</td>\n",
       "      <td>70.000000</td>\n",
       "      <td>591.000000</td>\n",
       "      <td>99.000000</td>\n",
       "    </tr>\n",
       "  </tbody>\n",
       "</table>\n",
       "</div>"
      ],
      "text/plain": [
       "                 ID  Reply Count        Likes     Retweets\n",
       "count  1.600000e+03  1600.000000  1600.000000  1600.000000\n",
       "mean   1.317547e+18     0.488125     6.201250     1.226875\n",
       "std    2.617210e+17     2.416818    29.946765     6.368536\n",
       "min    1.473220e+17     0.000000     0.000000     0.000000\n",
       "25%    1.262616e+18     0.000000     0.000000     0.000000\n",
       "50%    1.367165e+18     0.000000     1.000000     0.000000\n",
       "75%    1.477474e+18     1.000000     3.000000     0.000000\n",
       "max    1.591922e+18    70.000000   591.000000    99.000000"
      ]
     },
     "execution_count": 24,
     "metadata": {},
     "output_type": "execute_result"
    }
   ],
   "source": [
    "#Running a quick statistical overview of the dataframe\n",
    "tweets_df.describe()"
   ]
  },
  {
   "cell_type": "markdown",
   "id": "1ebadd64",
   "metadata": {},
   "source": [
    "The standard deviation across key numeric values is larger than the mean which signifies that the data is spread out across the dataframe. This is particularly the case for the likes and retweets which are between 5 and 7 times larger than the mean. The average likes and retweets are low which means there is no way to conclusively determine whether others support or feel the same about the tweet in question. "
   ]
  },
  {
   "cell_type": "code",
   "execution_count": 25,
   "id": "99761749",
   "metadata": {},
   "outputs": [
    {
     "data": {
      "text/html": [
       "<div>\n",
       "<style scoped>\n",
       "    .dataframe tbody tr th:only-of-type {\n",
       "        vertical-align: middle;\n",
       "    }\n",
       "\n",
       "    .dataframe tbody tr th {\n",
       "        vertical-align: top;\n",
       "    }\n",
       "\n",
       "    .dataframe thead th {\n",
       "        text-align: right;\n",
       "    }\n",
       "</style>\n",
       "<table border=\"1\" class=\"dataframe\">\n",
       "  <thead>\n",
       "    <tr style=\"text-align: right;\">\n",
       "      <th></th>\n",
       "      <th>ID</th>\n",
       "      <th>Date</th>\n",
       "      <th>Content</th>\n",
       "      <th>Reply Count</th>\n",
       "      <th>Likes</th>\n",
       "      <th>Retweets</th>\n",
       "      <th>Quotes</th>\n",
       "    </tr>\n",
       "  </thead>\n",
       "  <tbody>\n",
       "    <tr>\n",
       "      <th>129</th>\n",
       "      <td>1349801270790524929</td>\n",
       "      <td>2021-01-14 19:31:15+00:00</td>\n",
       "      <td>So many holes in this Sonny story... I’m going...</td>\n",
       "      <td>70</td>\n",
       "      <td>303</td>\n",
       "      <td>23</td>\n",
       "      <td>None</td>\n",
       "    </tr>\n",
       "    <tr>\n",
       "      <th>1274</th>\n",
       "      <td>1473690361356824587</td>\n",
       "      <td>2021-12-22 16:22:16+00:00</td>\n",
       "      <td>I’m doing a #MentalHealth experiment with my t...</td>\n",
       "      <td>48</td>\n",
       "      <td>545</td>\n",
       "      <td>23</td>\n",
       "      <td>None</td>\n",
       "    </tr>\n",
       "    <tr>\n",
       "      <th>511</th>\n",
       "      <td>1308456355360108546</td>\n",
       "      <td>2020-09-22 17:21:19+00:00</td>\n",
       "      <td>Do people who have anxiety actually enjoy thei...</td>\n",
       "      <td>19</td>\n",
       "      <td>75</td>\n",
       "      <td>7</td>\n",
       "      <td>None</td>\n",
       "    </tr>\n",
       "    <tr>\n",
       "      <th>1264</th>\n",
       "      <td>1481600732071661571</td>\n",
       "      <td>2022-01-13 12:15:15+00:00</td>\n",
       "      <td>Okay friends: this talk on #MentalHealth at wo...</td>\n",
       "      <td>17</td>\n",
       "      <td>48</td>\n",
       "      <td>6</td>\n",
       "      <td>None</td>\n",
       "    </tr>\n",
       "    <tr>\n",
       "      <th>1454</th>\n",
       "      <td>1285921755236900865</td>\n",
       "      <td>2020-07-22 12:56:52+00:00</td>\n",
       "      <td>Jim Morrison\\nChris Cornell\\nWayne Static\\nChe...</td>\n",
       "      <td>15</td>\n",
       "      <td>177</td>\n",
       "      <td>41</td>\n",
       "      <td>None</td>\n",
       "    </tr>\n",
       "    <tr>\n",
       "      <th>1269</th>\n",
       "      <td>1478008106781138944</td>\n",
       "      <td>2022-01-03 14:19:27+00:00</td>\n",
       "      <td>Because I have both focus + commitment issues,...</td>\n",
       "      <td>13</td>\n",
       "      <td>124</td>\n",
       "      <td>3</td>\n",
       "      <td>None</td>\n",
       "    </tr>\n",
       "    <tr>\n",
       "      <th>1272</th>\n",
       "      <td>1476538053749575685</td>\n",
       "      <td>2021-12-30 12:57:59+00:00</td>\n",
       "      <td>I’m proactively scheduling a new fun thing eve...</td>\n",
       "      <td>11</td>\n",
       "      <td>105</td>\n",
       "      <td>3</td>\n",
       "      <td>None</td>\n",
       "    </tr>\n",
       "    <tr>\n",
       "      <th>1221</th>\n",
       "      <td>1579148951152103425</td>\n",
       "      <td>2022-10-09 16:37:03+00:00</td>\n",
       "      <td>@andie1105 Wait… you are a supporter of a ment...</td>\n",
       "      <td>9</td>\n",
       "      <td>65</td>\n",
       "      <td>2</td>\n",
       "      <td>None</td>\n",
       "    </tr>\n",
       "    <tr>\n",
       "      <th>942</th>\n",
       "      <td>1574534233712103424</td>\n",
       "      <td>2022-09-26 22:59:49+00:00</td>\n",
       "      <td>Rows wrong for saying people should leave at a...</td>\n",
       "      <td>9</td>\n",
       "      <td>591</td>\n",
       "      <td>95</td>\n",
       "      <td>None</td>\n",
       "    </tr>\n",
       "    <tr>\n",
       "      <th>171</th>\n",
       "      <td>1303900684333580288</td>\n",
       "      <td>2020-09-10 03:38:43+00:00</td>\n",
       "      <td>Lol think I’m gonna get depressed PLUS fuck to...</td>\n",
       "      <td>7</td>\n",
       "      <td>52</td>\n",
       "      <td>8</td>\n",
       "      <td>https://twitter.com/__ur_highness/status/13035...</td>\n",
       "    </tr>\n",
       "  </tbody>\n",
       "</table>\n",
       "</div>"
      ],
      "text/plain": [
       "                       ID                      Date  \\\n",
       "129   1349801270790524929 2021-01-14 19:31:15+00:00   \n",
       "1274  1473690361356824587 2021-12-22 16:22:16+00:00   \n",
       "511   1308456355360108546 2020-09-22 17:21:19+00:00   \n",
       "1264  1481600732071661571 2022-01-13 12:15:15+00:00   \n",
       "1454  1285921755236900865 2020-07-22 12:56:52+00:00   \n",
       "1269  1478008106781138944 2022-01-03 14:19:27+00:00   \n",
       "1272  1476538053749575685 2021-12-30 12:57:59+00:00   \n",
       "1221  1579148951152103425 2022-10-09 16:37:03+00:00   \n",
       "942   1574534233712103424 2022-09-26 22:59:49+00:00   \n",
       "171   1303900684333580288 2020-09-10 03:38:43+00:00   \n",
       "\n",
       "                                                Content  Reply Count  Likes  \\\n",
       "129   So many holes in this Sonny story... I’m going...           70    303   \n",
       "1274  I’m doing a #MentalHealth experiment with my t...           48    545   \n",
       "511   Do people who have anxiety actually enjoy thei...           19     75   \n",
       "1264  Okay friends: this talk on #MentalHealth at wo...           17     48   \n",
       "1454  Jim Morrison\\nChris Cornell\\nWayne Static\\nChe...           15    177   \n",
       "1269  Because I have both focus + commitment issues,...           13    124   \n",
       "1272  I’m proactively scheduling a new fun thing eve...           11    105   \n",
       "1221  @andie1105 Wait… you are a supporter of a ment...            9     65   \n",
       "942   Rows wrong for saying people should leave at a...            9    591   \n",
       "171   Lol think I’m gonna get depressed PLUS fuck to...            7     52   \n",
       "\n",
       "      Retweets                                             Quotes  \n",
       "129         23                                               None  \n",
       "1274        23                                               None  \n",
       "511          7                                               None  \n",
       "1264         6                                               None  \n",
       "1454        41                                               None  \n",
       "1269         3                                               None  \n",
       "1272         3                                               None  \n",
       "1221         2                                               None  \n",
       "942         95                                               None  \n",
       "171          8  https://twitter.com/__ur_highness/status/13035...  "
      ]
     },
     "execution_count": 25,
     "metadata": {},
     "output_type": "execute_result"
    }
   ],
   "source": [
    "#Fetching the tweets with the most replies\n",
    "\n",
    "tweets_df.sort_values(by='Reply Count', ascending=False)[:10]"
   ]
  },
  {
   "cell_type": "code",
   "execution_count": 26,
   "id": "3ed5310c",
   "metadata": {},
   "outputs": [
    {
     "data": {
      "text/html": [
       "<div>\n",
       "<style scoped>\n",
       "    .dataframe tbody tr th:only-of-type {\n",
       "        vertical-align: middle;\n",
       "    }\n",
       "\n",
       "    .dataframe tbody tr th {\n",
       "        vertical-align: top;\n",
       "    }\n",
       "\n",
       "    .dataframe thead th {\n",
       "        text-align: right;\n",
       "    }\n",
       "</style>\n",
       "<table border=\"1\" class=\"dataframe\">\n",
       "  <thead>\n",
       "    <tr style=\"text-align: right;\">\n",
       "      <th></th>\n",
       "      <th>ID</th>\n",
       "      <th>Date</th>\n",
       "      <th>Content</th>\n",
       "      <th>Reply Count</th>\n",
       "      <th>Likes</th>\n",
       "      <th>Retweets</th>\n",
       "      <th>Quotes</th>\n",
       "    </tr>\n",
       "  </thead>\n",
       "  <tbody>\n",
       "    <tr>\n",
       "      <th>942</th>\n",
       "      <td>1574534233712103424</td>\n",
       "      <td>2022-09-26 22:59:49+00:00</td>\n",
       "      <td>Rows wrong for saying people should leave at a...</td>\n",
       "      <td>9</td>\n",
       "      <td>591</td>\n",
       "      <td>95</td>\n",
       "      <td>None</td>\n",
       "    </tr>\n",
       "    <tr>\n",
       "      <th>1274</th>\n",
       "      <td>1473690361356824587</td>\n",
       "      <td>2021-12-22 16:22:16+00:00</td>\n",
       "      <td>I’m doing a #MentalHealth experiment with my t...</td>\n",
       "      <td>48</td>\n",
       "      <td>545</td>\n",
       "      <td>23</td>\n",
       "      <td>None</td>\n",
       "    </tr>\n",
       "    <tr>\n",
       "      <th>931</th>\n",
       "      <td>1579487550179512324</td>\n",
       "      <td>2022-10-10 15:02:32+00:00</td>\n",
       "      <td>Today is world Mental Health Day and they didn...</td>\n",
       "      <td>5</td>\n",
       "      <td>303</td>\n",
       "      <td>43</td>\n",
       "      <td>None</td>\n",
       "    </tr>\n",
       "    <tr>\n",
       "      <th>129</th>\n",
       "      <td>1349801270790524929</td>\n",
       "      <td>2021-01-14 19:31:15+00:00</td>\n",
       "      <td>So many holes in this Sonny story... I’m going...</td>\n",
       "      <td>70</td>\n",
       "      <td>303</td>\n",
       "      <td>23</td>\n",
       "      <td>None</td>\n",
       "    </tr>\n",
       "    <tr>\n",
       "      <th>1239</th>\n",
       "      <td>1550512881061531650</td>\n",
       "      <td>2022-07-22 16:07:32+00:00</td>\n",
       "      <td>A lot of wanna on hear talking bout mental hea...</td>\n",
       "      <td>0</td>\n",
       "      <td>300</td>\n",
       "      <td>75</td>\n",
       "      <td>None</td>\n",
       "    </tr>\n",
       "    <tr>\n",
       "      <th>1193</th>\n",
       "      <td>1394630184251412482</td>\n",
       "      <td>2021-05-18 12:25:21+00:00</td>\n",
       "      <td>Wishing that straight people gay children as s...</td>\n",
       "      <td>0</td>\n",
       "      <td>274</td>\n",
       "      <td>44</td>\n",
       "      <td>None</td>\n",
       "    </tr>\n",
       "    <tr>\n",
       "      <th>1056</th>\n",
       "      <td>1480011148925800458</td>\n",
       "      <td>2022-01-09 02:58:49+00:00</td>\n",
       "      <td>We making mental health a big priority this ye...</td>\n",
       "      <td>0</td>\n",
       "      <td>252</td>\n",
       "      <td>55</td>\n",
       "      <td>None</td>\n",
       "    </tr>\n",
       "    <tr>\n",
       "      <th>1347</th>\n",
       "      <td>1368367735521050625</td>\n",
       "      <td>2021-03-07 01:07:45+00:00</td>\n",
       "      <td>Can we acknowledge the positive effect that th...</td>\n",
       "      <td>0</td>\n",
       "      <td>242</td>\n",
       "      <td>55</td>\n",
       "      <td>None</td>\n",
       "    </tr>\n",
       "    <tr>\n",
       "      <th>1454</th>\n",
       "      <td>1285921755236900865</td>\n",
       "      <td>2020-07-22 12:56:52+00:00</td>\n",
       "      <td>Jim Morrison\\nChris Cornell\\nWayne Static\\nChe...</td>\n",
       "      <td>15</td>\n",
       "      <td>177</td>\n",
       "      <td>41</td>\n",
       "      <td>None</td>\n",
       "    </tr>\n",
       "    <tr>\n",
       "      <th>729</th>\n",
       "      <td>1308188845448536064</td>\n",
       "      <td>2020-09-21 23:38:20+00:00</td>\n",
       "      <td>Hey Siri , play #wizkid No Stress \\n@wizkidayo...</td>\n",
       "      <td>1</td>\n",
       "      <td>167</td>\n",
       "      <td>30</td>\n",
       "      <td>None</td>\n",
       "    </tr>\n",
       "  </tbody>\n",
       "</table>\n",
       "</div>"
      ],
      "text/plain": [
       "                       ID                      Date  \\\n",
       "942   1574534233712103424 2022-09-26 22:59:49+00:00   \n",
       "1274  1473690361356824587 2021-12-22 16:22:16+00:00   \n",
       "931   1579487550179512324 2022-10-10 15:02:32+00:00   \n",
       "129   1349801270790524929 2021-01-14 19:31:15+00:00   \n",
       "1239  1550512881061531650 2022-07-22 16:07:32+00:00   \n",
       "1193  1394630184251412482 2021-05-18 12:25:21+00:00   \n",
       "1056  1480011148925800458 2022-01-09 02:58:49+00:00   \n",
       "1347  1368367735521050625 2021-03-07 01:07:45+00:00   \n",
       "1454  1285921755236900865 2020-07-22 12:56:52+00:00   \n",
       "729   1308188845448536064 2020-09-21 23:38:20+00:00   \n",
       "\n",
       "                                                Content  Reply Count  Likes  \\\n",
       "942   Rows wrong for saying people should leave at a...            9    591   \n",
       "1274  I’m doing a #MentalHealth experiment with my t...           48    545   \n",
       "931   Today is world Mental Health Day and they didn...            5    303   \n",
       "129   So many holes in this Sonny story... I’m going...           70    303   \n",
       "1239  A lot of wanna on hear talking bout mental hea...            0    300   \n",
       "1193  Wishing that straight people gay children as s...            0    274   \n",
       "1056  We making mental health a big priority this ye...            0    252   \n",
       "1347  Can we acknowledge the positive effect that th...            0    242   \n",
       "1454  Jim Morrison\\nChris Cornell\\nWayne Static\\nChe...           15    177   \n",
       "729   Hey Siri , play #wizkid No Stress \\n@wizkidayo...            1    167   \n",
       "\n",
       "      Retweets Quotes  \n",
       "942         95   None  \n",
       "1274        23   None  \n",
       "931         43   None  \n",
       "129         23   None  \n",
       "1239        75   None  \n",
       "1193        44   None  \n",
       "1056        55   None  \n",
       "1347        55   None  \n",
       "1454        41   None  \n",
       "729         30   None  "
      ]
     },
     "execution_count": 26,
     "metadata": {},
     "output_type": "execute_result"
    }
   ],
   "source": [
    "#Most Likes\n",
    "\n",
    "tweets_df.sort_values(by='Likes', ascending=False)[:10]"
   ]
  },
  {
   "cell_type": "code",
   "execution_count": 27,
   "id": "ee4dcad1",
   "metadata": {
    "scrolled": true
   },
   "outputs": [
    {
     "data": {
      "text/html": [
       "<div>\n",
       "<style scoped>\n",
       "    .dataframe tbody tr th:only-of-type {\n",
       "        vertical-align: middle;\n",
       "    }\n",
       "\n",
       "    .dataframe tbody tr th {\n",
       "        vertical-align: top;\n",
       "    }\n",
       "\n",
       "    .dataframe thead th {\n",
       "        text-align: right;\n",
       "    }\n",
       "</style>\n",
       "<table border=\"1\" class=\"dataframe\">\n",
       "  <thead>\n",
       "    <tr style=\"text-align: right;\">\n",
       "      <th></th>\n",
       "      <th>ID</th>\n",
       "      <th>Date</th>\n",
       "      <th>Content</th>\n",
       "      <th>Reply Count</th>\n",
       "      <th>Likes</th>\n",
       "      <th>Retweets</th>\n",
       "      <th>Quotes</th>\n",
       "    </tr>\n",
       "  </thead>\n",
       "  <tbody>\n",
       "    <tr>\n",
       "      <th>1492</th>\n",
       "      <td>1208504290446315521</td>\n",
       "      <td>2019-12-21 21:47:30+00:00</td>\n",
       "      <td>Never underestimate how important your mental ...</td>\n",
       "      <td>1</td>\n",
       "      <td>109</td>\n",
       "      <td>99</td>\n",
       "      <td>None</td>\n",
       "    </tr>\n",
       "    <tr>\n",
       "      <th>942</th>\n",
       "      <td>1574534233712103424</td>\n",
       "      <td>2022-09-26 22:59:49+00:00</td>\n",
       "      <td>Rows wrong for saying people should leave at a...</td>\n",
       "      <td>9</td>\n",
       "      <td>591</td>\n",
       "      <td>95</td>\n",
       "      <td>None</td>\n",
       "    </tr>\n",
       "    <tr>\n",
       "      <th>1239</th>\n",
       "      <td>1550512881061531650</td>\n",
       "      <td>2022-07-22 16:07:32+00:00</td>\n",
       "      <td>A lot of wanna on hear talking bout mental hea...</td>\n",
       "      <td>0</td>\n",
       "      <td>300</td>\n",
       "      <td>75</td>\n",
       "      <td>None</td>\n",
       "    </tr>\n",
       "    <tr>\n",
       "      <th>1501</th>\n",
       "      <td>1189545929684213763</td>\n",
       "      <td>2019-10-30 14:13:44+00:00</td>\n",
       "      <td>Iz work in customer service. And I KNOW that w...</td>\n",
       "      <td>2</td>\n",
       "      <td>115</td>\n",
       "      <td>71</td>\n",
       "      <td>None</td>\n",
       "    </tr>\n",
       "    <tr>\n",
       "      <th>19</th>\n",
       "      <td>1589081222302826496</td>\n",
       "      <td>2022-11-06 02:24:21+00:00</td>\n",
       "      <td>CHARMING  SPRINGS - she is 20 y.o. \\nMother of...</td>\n",
       "      <td>3</td>\n",
       "      <td>52</td>\n",
       "      <td>69</td>\n",
       "      <td>None</td>\n",
       "    </tr>\n",
       "    <tr>\n",
       "      <th>1056</th>\n",
       "      <td>1480011148925800458</td>\n",
       "      <td>2022-01-09 02:58:49+00:00</td>\n",
       "      <td>We making mental health a big priority this ye...</td>\n",
       "      <td>0</td>\n",
       "      <td>252</td>\n",
       "      <td>55</td>\n",
       "      <td>None</td>\n",
       "    </tr>\n",
       "    <tr>\n",
       "      <th>1347</th>\n",
       "      <td>1368367735521050625</td>\n",
       "      <td>2021-03-07 01:07:45+00:00</td>\n",
       "      <td>Can we acknowledge the positive effect that th...</td>\n",
       "      <td>0</td>\n",
       "      <td>242</td>\n",
       "      <td>55</td>\n",
       "      <td>None</td>\n",
       "    </tr>\n",
       "    <tr>\n",
       "      <th>1336</th>\n",
       "      <td>1382647032272281600</td>\n",
       "      <td>2021-04-15 10:48:35+00:00</td>\n",
       "      <td>The “stop complaining and be grateful because ...</td>\n",
       "      <td>2</td>\n",
       "      <td>129</td>\n",
       "      <td>52</td>\n",
       "      <td>None</td>\n",
       "    </tr>\n",
       "    <tr>\n",
       "      <th>1388</th>\n",
       "      <td>1344215683165544454</td>\n",
       "      <td>2020-12-30 09:36:07+00:00</td>\n",
       "      <td>Dont advocate mental health importance and mak...</td>\n",
       "      <td>1</td>\n",
       "      <td>144</td>\n",
       "      <td>47</td>\n",
       "      <td>None</td>\n",
       "    </tr>\n",
       "    <tr>\n",
       "      <th>1490</th>\n",
       "      <td>1219324994200707074</td>\n",
       "      <td>2020-01-20 18:25:07+00:00</td>\n",
       "      <td>Wunna does bully people on hay then champion f...</td>\n",
       "      <td>1</td>\n",
       "      <td>75</td>\n",
       "      <td>45</td>\n",
       "      <td>None</td>\n",
       "    </tr>\n",
       "  </tbody>\n",
       "</table>\n",
       "</div>"
      ],
      "text/plain": [
       "                       ID                      Date  \\\n",
       "1492  1208504290446315521 2019-12-21 21:47:30+00:00   \n",
       "942   1574534233712103424 2022-09-26 22:59:49+00:00   \n",
       "1239  1550512881061531650 2022-07-22 16:07:32+00:00   \n",
       "1501  1189545929684213763 2019-10-30 14:13:44+00:00   \n",
       "19    1589081222302826496 2022-11-06 02:24:21+00:00   \n",
       "1056  1480011148925800458 2022-01-09 02:58:49+00:00   \n",
       "1347  1368367735521050625 2021-03-07 01:07:45+00:00   \n",
       "1336  1382647032272281600 2021-04-15 10:48:35+00:00   \n",
       "1388  1344215683165544454 2020-12-30 09:36:07+00:00   \n",
       "1490  1219324994200707074 2020-01-20 18:25:07+00:00   \n",
       "\n",
       "                                                Content  Reply Count  Likes  \\\n",
       "1492  Never underestimate how important your mental ...            1    109   \n",
       "942   Rows wrong for saying people should leave at a...            9    591   \n",
       "1239  A lot of wanna on hear talking bout mental hea...            0    300   \n",
       "1501  Iz work in customer service. And I KNOW that w...            2    115   \n",
       "19    CHARMING  SPRINGS - she is 20 y.o. \\nMother of...            3     52   \n",
       "1056  We making mental health a big priority this ye...            0    252   \n",
       "1347  Can we acknowledge the positive effect that th...            0    242   \n",
       "1336  The “stop complaining and be grateful because ...            2    129   \n",
       "1388  Dont advocate mental health importance and mak...            1    144   \n",
       "1490  Wunna does bully people on hay then champion f...            1     75   \n",
       "\n",
       "      Retweets Quotes  \n",
       "1492        99   None  \n",
       "942         95   None  \n",
       "1239        75   None  \n",
       "1501        71   None  \n",
       "19          69   None  \n",
       "1056        55   None  \n",
       "1347        55   None  \n",
       "1336        52   None  \n",
       "1388        47   None  \n",
       "1490        45   None  "
      ]
     },
     "execution_count": 27,
     "metadata": {},
     "output_type": "execute_result"
    }
   ],
   "source": [
    "#Most Retweets\n",
    "\n",
    "tweets_df.sort_values(by='Retweets', ascending=False)[:10]"
   ]
  },
  {
   "cell_type": "markdown",
   "id": "6222992c",
   "metadata": {},
   "source": [
    "# Sentiment Analysis "
   ]
  },
  {
   "cell_type": "code",
   "execution_count": 28,
   "id": "c410327e",
   "metadata": {
    "scrolled": true
   },
   "outputs": [
    {
     "name": "stderr",
     "output_type": "stream",
     "text": [
      "[nltk_data] Downloading package vader_lexicon to\n",
      "[nltk_data]     /Users/tochukwuonyido/nltk_data...\n",
      "[nltk_data] Downloading package words to\n",
      "[nltk_data]     /Users/tochukwuonyido/nltk_data...\n",
      "[nltk_data]   Unzipping corpora/words.zip.\n"
     ]
    }
   ],
   "source": [
    "nltk.download('vader_lexicon')\n",
    "sid = SentimentIntensityAnalyzer()\n",
    "nltk.download('words')\n",
    "words = set(nltk.corpus.words.words())"
   ]
  },
  {
   "cell_type": "code",
   "execution_count": 29,
   "id": "b38756ab",
   "metadata": {},
   "outputs": [],
   "source": [
    "#How to do a quick test on the tweet with the most retweets to test if the sentiment is assigned\n",
    "# sentence = tweets_df['Content'][1494]\n",
    "# sid.polarity_scores(sentence)['compound']\n",
    "\n"
   ]
  },
  {
   "cell_type": "code",
   "execution_count": 30,
   "id": "7e25223e",
   "metadata": {},
   "outputs": [
    {
     "data": {
      "text/html": [
       "<div>\n",
       "<style scoped>\n",
       "    .dataframe tbody tr th:only-of-type {\n",
       "        vertical-align: middle;\n",
       "    }\n",
       "\n",
       "    .dataframe tbody tr th {\n",
       "        vertical-align: top;\n",
       "    }\n",
       "\n",
       "    .dataframe thead th {\n",
       "        text-align: right;\n",
       "    }\n",
       "</style>\n",
       "<table border=\"1\" class=\"dataframe\">\n",
       "  <thead>\n",
       "    <tr style=\"text-align: right;\">\n",
       "      <th></th>\n",
       "      <th>ID</th>\n",
       "      <th>Date</th>\n",
       "      <th>Content</th>\n",
       "      <th>Reply Count</th>\n",
       "      <th>Likes</th>\n",
       "      <th>Retweets</th>\n",
       "      <th>Quotes</th>\n",
       "      <th>tweet_clean</th>\n",
       "    </tr>\n",
       "  </thead>\n",
       "  <tbody>\n",
       "    <tr>\n",
       "      <th>0</th>\n",
       "      <td>1591879584877891588</td>\n",
       "      <td>2022-11-13 19:44:03+00:00</td>\n",
       "      <td>@PaulMitchell_AB @Dr_Voll So if you call the s...</td>\n",
       "      <td>0</td>\n",
       "      <td>0</td>\n",
       "      <td>0</td>\n",
       "      <td>None</td>\n",
       "      <td>So if you call the suicide , it ' s actually t...</td>\n",
       "    </tr>\n",
       "    <tr>\n",
       "      <th>1</th>\n",
       "      <td>1591484387388194816</td>\n",
       "      <td>2022-11-12 17:33:40+00:00</td>\n",
       "      <td>This is, um, horrific.\\n\\nStarting March 17th,...</td>\n",
       "      <td>0</td>\n",
       "      <td>1</td>\n",
       "      <td>0</td>\n",
       "      <td>https://twitter.com/globeandmail/status/159117...</td>\n",
       "      <td>This is , um , horrific . Starting March 17th ...</td>\n",
       "    </tr>\n",
       "    <tr>\n",
       "      <th>2</th>\n",
       "      <td>1591278282242109440</td>\n",
       "      <td>2022-11-12 03:54:41+00:00</td>\n",
       "      <td>@HomerTrajan I don't think I got very much out...</td>\n",
       "      <td>1</td>\n",
       "      <td>1</td>\n",
       "      <td>0</td>\n",
       "      <td>None</td>\n",
       "      <td>I don ' t think I got very much out of college...</td>\n",
       "    </tr>\n",
       "    <tr>\n",
       "      <th>3</th>\n",
       "      <td>1591123844601114624</td>\n",
       "      <td>2022-11-11 17:41:00+00:00</td>\n",
       "      <td>Every time I have a conversation with my colle...</td>\n",
       "      <td>0</td>\n",
       "      <td>7</td>\n",
       "      <td>2</td>\n",
       "      <td>None</td>\n",
       "      <td>Every time I have a conversation with my about...</td>\n",
       "    </tr>\n",
       "    <tr>\n",
       "      <th>4</th>\n",
       "      <td>1591080966227128320</td>\n",
       "      <td>2022-11-11 14:50:37+00:00</td>\n",
       "      <td>i get depressed for like 6-8 hours and then i’...</td>\n",
       "      <td>1</td>\n",
       "      <td>1</td>\n",
       "      <td>1</td>\n",
       "      <td>None</td>\n",
       "      <td>i get depressed for like 6 - 8 and then i ’ m ...</td>\n",
       "    </tr>\n",
       "  </tbody>\n",
       "</table>\n",
       "</div>"
      ],
      "text/plain": [
       "                    ID                      Date  \\\n",
       "0  1591879584877891588 2022-11-13 19:44:03+00:00   \n",
       "1  1591484387388194816 2022-11-12 17:33:40+00:00   \n",
       "2  1591278282242109440 2022-11-12 03:54:41+00:00   \n",
       "3  1591123844601114624 2022-11-11 17:41:00+00:00   \n",
       "4  1591080966227128320 2022-11-11 14:50:37+00:00   \n",
       "\n",
       "                                             Content  Reply Count  Likes  \\\n",
       "0  @PaulMitchell_AB @Dr_Voll So if you call the s...            0      0   \n",
       "1  This is, um, horrific.\\n\\nStarting March 17th,...            0      1   \n",
       "2  @HomerTrajan I don't think I got very much out...            1      1   \n",
       "3  Every time I have a conversation with my colle...            0      7   \n",
       "4  i get depressed for like 6-8 hours and then i’...            1      1   \n",
       "\n",
       "   Retweets                                             Quotes  \\\n",
       "0         0                                               None   \n",
       "1         0  https://twitter.com/globeandmail/status/159117...   \n",
       "2         0                                               None   \n",
       "3         2                                               None   \n",
       "4         1                                               None   \n",
       "\n",
       "                                         tweet_clean  \n",
       "0  So if you call the suicide , it ' s actually t...  \n",
       "1  This is , um , horrific . Starting March 17th ...  \n",
       "2  I don ' t think I got very much out of college...  \n",
       "3  Every time I have a conversation with my about...  \n",
       "4  i get depressed for like 6 - 8 and then i ’ m ...  "
      ]
     },
     "execution_count": 30,
     "metadata": {},
     "output_type": "execute_result"
    }
   ],
   "source": [
    "#Cleaning tweets, removing non-word elements & creating a new column with clean tweets\n",
    "def cleaner(tweet):\n",
    "    tweet = re.sub(\"@[A-Za-z0-9]+\",\"\",tweet) #Remove @ sign\n",
    "    tweet = re.sub(r\"(?:\\@|http?\\://|https?\\://|www)\\S+\", \"\", tweet) #Remove http links\n",
    "    tweet = \" \".join(tweet.split())\n",
    "    tweet = tweet.replace(\"#\", \"\").replace(\"_\", \" \") #Remove hashtag sign but keep the text\n",
    "    tweet = \" \".join(w for w in nltk.wordpunct_tokenize(tweet)\n",
    "         if w.lower() in words or not w.isalpha())\n",
    "    return tweet\n",
    "    \n",
    "\n",
    "tweets_df['tweet_clean'] = tweets_df['Content'].apply(cleaner)\n",
    "\n",
    "tweets_df.head() "
   ]
  },
  {
   "cell_type": "code",
   "execution_count": 31,
   "id": "a271bd8d",
   "metadata": {},
   "outputs": [],
   "source": [
    "#Looping through tweets and assigning sentiments to each one\n",
    "list1 = []\n",
    "for i in tweets_df['tweet_clean']:\n",
    "    list1.append((sid.polarity_scores(str(i)))['compound'])"
   ]
  },
  {
   "cell_type": "code",
   "execution_count": 32,
   "id": "67962aa5",
   "metadata": {},
   "outputs": [],
   "source": [
    "#Including a written description for each tweet for easier interpretation\n",
    "\n",
    "tweets_df['sentiment'] = pd.Series(list1)\n",
    "\n",
    "def sentiment_category(sentiment):\n",
    "    label = ''\n",
    "    if(sentiment>0):\n",
    "        label = 'positive'\n",
    "    elif(sentiment == 0):\n",
    "        label = 'neutral'\n",
    "    else:\n",
    "        label = 'negative'\n",
    "    return(label)\n",
    "\n",
    "tweets_df['sentiment_category'] = tweets_df['sentiment'].apply(sentiment_category)"
   ]
  },
  {
   "cell_type": "code",
   "execution_count": 33,
   "id": "5ffe9a4a",
   "metadata": {},
   "outputs": [
    {
     "data": {
      "text/html": [
       "<div>\n",
       "<style scoped>\n",
       "    .dataframe tbody tr th:only-of-type {\n",
       "        vertical-align: middle;\n",
       "    }\n",
       "\n",
       "    .dataframe tbody tr th {\n",
       "        vertical-align: top;\n",
       "    }\n",
       "\n",
       "    .dataframe thead th {\n",
       "        text-align: right;\n",
       "    }\n",
       "</style>\n",
       "<table border=\"1\" class=\"dataframe\">\n",
       "  <thead>\n",
       "    <tr style=\"text-align: right;\">\n",
       "      <th></th>\n",
       "      <th>ID</th>\n",
       "      <th>Date</th>\n",
       "      <th>Content</th>\n",
       "      <th>Reply Count</th>\n",
       "      <th>Likes</th>\n",
       "      <th>Retweets</th>\n",
       "      <th>Quotes</th>\n",
       "      <th>tweet_clean</th>\n",
       "      <th>sentiment</th>\n",
       "      <th>sentiment_category</th>\n",
       "    </tr>\n",
       "  </thead>\n",
       "  <tbody>\n",
       "    <tr>\n",
       "      <th>0</th>\n",
       "      <td>1591879584877891588</td>\n",
       "      <td>2022-11-13 19:44:03+00:00</td>\n",
       "      <td>@PaulMitchell_AB @Dr_Voll So if you call the s...</td>\n",
       "      <td>0</td>\n",
       "      <td>0</td>\n",
       "      <td>0</td>\n",
       "      <td>None</td>\n",
       "      <td>So if you call the suicide , it ' s actually t...</td>\n",
       "      <td>-0.8555</td>\n",
       "      <td>negative</td>\n",
       "    </tr>\n",
       "    <tr>\n",
       "      <th>1</th>\n",
       "      <td>1591484387388194816</td>\n",
       "      <td>2022-11-12 17:33:40+00:00</td>\n",
       "      <td>This is, um, horrific.\\n\\nStarting March 17th,...</td>\n",
       "      <td>0</td>\n",
       "      <td>1</td>\n",
       "      <td>0</td>\n",
       "      <td>https://twitter.com/globeandmail/status/159117...</td>\n",
       "      <td>This is , um , horrific . Starting March 17th ...</td>\n",
       "      <td>-0.9565</td>\n",
       "      <td>negative</td>\n",
       "    </tr>\n",
       "    <tr>\n",
       "      <th>2</th>\n",
       "      <td>1591278282242109440</td>\n",
       "      <td>2022-11-12 03:54:41+00:00</td>\n",
       "      <td>@HomerTrajan I don't think I got very much out...</td>\n",
       "      <td>1</td>\n",
       "      <td>1</td>\n",
       "      <td>0</td>\n",
       "      <td>None</td>\n",
       "      <td>I don ' t think I got very much out of college...</td>\n",
       "      <td>-0.5106</td>\n",
       "      <td>negative</td>\n",
       "    </tr>\n",
       "    <tr>\n",
       "      <th>3</th>\n",
       "      <td>1591123844601114624</td>\n",
       "      <td>2022-11-11 17:41:00+00:00</td>\n",
       "      <td>Every time I have a conversation with my colle...</td>\n",
       "      <td>0</td>\n",
       "      <td>7</td>\n",
       "      <td>2</td>\n",
       "      <td>None</td>\n",
       "      <td>Every time I have a conversation with my about...</td>\n",
       "      <td>-0.5106</td>\n",
       "      <td>negative</td>\n",
       "    </tr>\n",
       "    <tr>\n",
       "      <th>4</th>\n",
       "      <td>1591080966227128320</td>\n",
       "      <td>2022-11-11 14:50:37+00:00</td>\n",
       "      <td>i get depressed for like 6-8 hours and then i’...</td>\n",
       "      <td>1</td>\n",
       "      <td>1</td>\n",
       "      <td>1</td>\n",
       "      <td>None</td>\n",
       "      <td>i get depressed for like 6 - 8 and then i ’ m ...</td>\n",
       "      <td>0.4019</td>\n",
       "      <td>positive</td>\n",
       "    </tr>\n",
       "  </tbody>\n",
       "</table>\n",
       "</div>"
      ],
      "text/plain": [
       "                    ID                      Date  \\\n",
       "0  1591879584877891588 2022-11-13 19:44:03+00:00   \n",
       "1  1591484387388194816 2022-11-12 17:33:40+00:00   \n",
       "2  1591278282242109440 2022-11-12 03:54:41+00:00   \n",
       "3  1591123844601114624 2022-11-11 17:41:00+00:00   \n",
       "4  1591080966227128320 2022-11-11 14:50:37+00:00   \n",
       "\n",
       "                                             Content  Reply Count  Likes  \\\n",
       "0  @PaulMitchell_AB @Dr_Voll So if you call the s...            0      0   \n",
       "1  This is, um, horrific.\\n\\nStarting March 17th,...            0      1   \n",
       "2  @HomerTrajan I don't think I got very much out...            1      1   \n",
       "3  Every time I have a conversation with my colle...            0      7   \n",
       "4  i get depressed for like 6-8 hours and then i’...            1      1   \n",
       "\n",
       "   Retweets                                             Quotes  \\\n",
       "0         0                                               None   \n",
       "1         0  https://twitter.com/globeandmail/status/159117...   \n",
       "2         0                                               None   \n",
       "3         2                                               None   \n",
       "4         1                                               None   \n",
       "\n",
       "                                         tweet_clean  sentiment  \\\n",
       "0  So if you call the suicide , it ' s actually t...    -0.8555   \n",
       "1  This is , um , horrific . Starting March 17th ...    -0.9565   \n",
       "2  I don ' t think I got very much out of college...    -0.5106   \n",
       "3  Every time I have a conversation with my about...    -0.5106   \n",
       "4  i get depressed for like 6 - 8 and then i ’ m ...     0.4019   \n",
       "\n",
       "  sentiment_category  \n",
       "0           negative  \n",
       "1           negative  \n",
       "2           negative  \n",
       "3           negative  \n",
       "4           positive  "
      ]
     },
     "execution_count": 33,
     "metadata": {},
     "output_type": "execute_result"
    }
   ],
   "source": [
    "tweets_df.head()"
   ]
  },
  {
   "cell_type": "code",
   "execution_count": 34,
   "id": "21671c6c",
   "metadata": {},
   "outputs": [
    {
     "data": {
      "text/plain": [
       "negative    793\n",
       "positive    612\n",
       "neutral     195\n",
       "Name: sentiment_category, dtype: int64"
      ]
     },
     "execution_count": 34,
     "metadata": {},
     "output_type": "execute_result"
    }
   ],
   "source": [
    "#Checking the count of sentiments\n",
    "\n",
    "tweets_df['sentiment_category'].value_counts()"
   ]
  },
  {
   "cell_type": "code",
   "execution_count": 37,
   "id": "7c7bdf0b",
   "metadata": {},
   "outputs": [],
   "source": [
    "#Creating wordcloud to see positive words\n",
    "\n",
    "from wordcloud import WordCloud"
   ]
  },
  {
   "cell_type": "code",
   "execution_count": 38,
   "id": "fba97e4f",
   "metadata": {},
   "outputs": [],
   "source": [
    "#Checking changes in sentiment over time\n",
    "neg = tweets_df[tweets_df['sentiment_category']=='negative']\n",
    "neg = neg.groupby(['Date'],as_index=False).count()\n",
    "\n",
    "pos = tweets_df[tweets_df['sentiment_category']=='positive']\n",
    "pos = pos.groupby(['Date'],as_index=False).count()\n",
    "\n",
    "pos = pos[['Date', 'ID']]\n",
    "neg = neg[['Date', 'ID']]"
   ]
  },
  {
   "cell_type": "code",
   "execution_count": 114,
   "id": "437ee731",
   "metadata": {},
   "outputs": [],
   "source": [
    "import orca"
   ]
  },
  {
   "cell_type": "code",
   "execution_count": 115,
   "id": "0055725f",
   "metadata": {},
   "outputs": [],
   "source": [
    "import plotly.graph_objs as go\n",
    "fig = go.Figure()\n",
    "for col in pos.columns:\n",
    "    fig.add_trace(go.Scatter(x=pos['Date'], y=pos['ID'],\n",
    "                             name = col,\n",
    "                             mode = 'markers+lines',\n",
    "                             line=dict(shape='linear'),\n",
    "                             connectgaps=True,\n",
    "                             line_color='green'\n",
    "                             )\n",
    "                 )\n",
    "\n",
    "for col in neg.columns:\n",
    "    fig.add_trace(go.Scatter(x=neg['Date'], y=neg['ID'],\n",
    "                             name = col,\n",
    "                             mode = 'markers+lines',\n",
    "                             line=dict(shape='linear'),\n",
    "                             connectgaps=True,\n",
    "                             line_color='red'\n",
    "                             )\n",
    "                 )"
   ]
  },
  {
   "cell_type": "code",
   "execution_count": 122,
   "id": "a925a23f",
   "metadata": {
    "scrolled": true
   },
   "outputs": [
    {
     "data": {
      "image/png": "[encoded data removed]"
     },
     "metadata": {},
     "output_type": "display_data"
    }
   ],
   "source": [
    "fig.show('png')\n",
    "#fig.write_image('fig.png', engine='orca')"
   ]
  },
  {
   "cell_type": "markdown",
   "id": "c92c612c",
   "metadata": {},
   "source": [
    "Firstly, there are more instances of spiking for negative sentiments than positive sentiments specifically from July to December 2016, January to February 2021 and October 2021 to November 2021. There are also spikes in July and October 2022. It is interesting to note that there is only one positive spike in the analysis period. The spike took place in October 2020 which was at the heights of the second wave of Covid-19 pandemic.  "
   ]
  },
  {
   "cell_type": "markdown",
   "id": "7c590d71",
   "metadata": {},
   "source": [
    "I will assess the spikes in negative sentiments to determine any key words that could point to significant events that could have caused the spikes. In addition, I will also focus specifically on tweets that contain the term 'mental health' from the original dataset to see if there are any hidden findings. "
   ]
  },
  {
   "cell_type": "code",
   "execution_count": 123,
   "id": "32af82ba",
   "metadata": {},
   "outputs": [],
   "source": [
    "spike1_df = tweets_df[(tweets_df['Date']>='2016-07-01') & (tweets_df['Date']<='2016-12-31')]\n",
    "\n",
    "neg = spike1_df[spike1_df['sentiment_category']=='negative']\n",
    "neg = neg.groupby(['Date'],as_index=False).count()\n",
    "\n",
    "pos = spike1_df[spike1_df['sentiment_category']=='positive']\n",
    "pos = pos.groupby(['Date'],as_index=False).count()\n",
    "\n",
    "pos = pos[['Date','ID']]\n",
    "neg = neg[['Date','ID']]"
   ]
  },
  {
   "cell_type": "code",
   "execution_count": 124,
   "id": "66f0038c",
   "metadata": {},
   "outputs": [],
   "source": [
    "#Generating chart for visualization\n",
    "\n",
    "fig = go.Figure()\n",
    "for col in pos.columns:\n",
    "    fig.add_trace(go.Scatter(x=pos['Date'], y=pos['ID'],\n",
    "                             name = col,\n",
    "                             mode = 'markers+lines',\n",
    "                             line=dict(shape='linear'),\n",
    "                             connectgaps=True,\n",
    "                             line_color='green'\n",
    "                             )\n",
    "                 )\n",
    "\n",
    "for col in neg.columns:\n",
    "    fig.add_trace(go.Scatter(x=neg['Date'], y=neg['ID'],\n",
    "                             name = col,\n",
    "                             mode = 'markers+lines',\n",
    "                             line=dict(shape='linear'),\n",
    "                             connectgaps=True,\n",
    "                             line_color='red'\n",
    "                             )\n",
    "                 )\n"
   ]
  },
  {
   "cell_type": "code",
   "execution_count": 125,
   "id": "32127af1",
   "metadata": {},
   "outputs": [
    {
     "data": {
      "application/vnd.plotly.v1+json": {
       "config": {
        "plotlyServerURL": "https://plot.ly"
       },
       "data": [
        {
         "connectgaps": true,
         "line": {
          "color": "green",
          "shape": "linear"
         },
         "mode": "markers+lines",
         "name": "Date",
         "type": "scatter",
         "x": [],
         "y": []
        },
        {
         "connectgaps": true,
         "line": {
          "color": "green",
          "shape": "linear"
         },
         "mode": "markers+lines",
         "name": "ID",
         "type": "scatter",
         "x": [],
         "y": []
        },
        {
         "connectgaps": true,
         "line": {
          "color": "red",
          "shape": "linear"
         },
         "mode": "markers+lines",
         "name": "Date",
         "type": "scatter",
         "x": [
          "2016-07-02T17:58:39+00:00",
          "2016-07-10T20:09:22+00:00",
          "2016-10-19T17:54:19+00:00",
          "2016-12-26T23:45:34+00:00"
         ],
         "y": [
          1,
          1,
          2,
          1
         ]
        },
        {
         "connectgaps": true,
         "line": {
          "color": "red",
          "shape": "linear"
         },
         "mode": "markers+lines",
         "name": "ID",
         "type": "scatter",
         "x": [
          "2016-07-02T17:58:39+00:00",
          "2016-07-10T20:09:22+00:00",
          "2016-10-19T17:54:19+00:00",
          "2016-12-26T23:45:34+00:00"
         ],
         "y": [
          1,
          1,
          2,
          1
         ]
        }
       ],
       "layout": {
        "template": {
         "data": {
          "bar": [
           {
            "error_x": {
             "color": "#2a3f5f"
            },
            "error_y": {
             "color": "#2a3f5f"
            },
            "marker": {
             "line": {
              "color": "#E5ECF6",
              "width": 0.5
             },
             "pattern": {
              "fillmode": "overlay",
              "size": 10,
              "solidity": 0.2
             }
            },
            "type": "bar"
           }
          ],
          "barpolar": [
           {
            "marker": {
             "line": {
              "color": "#E5ECF6",
              "width": 0.5
             },
             "pattern": {
              "fillmode": "overlay",
              "size": 10,
              "solidity": 0.2
             }
            },
            "type": "barpolar"
           }
          ],
          "carpet": [
           {
            "aaxis": {
             "endlinecolor": "#2a3f5f",
             "gridcolor": "white",
             "linecolor": "white",
             "minorgridcolor": "white",
             "startlinecolor": "#2a3f5f"
            },
            "baxis": {
             "endlinecolor": "#2a3f5f",
             "gridcolor": "white",
             "linecolor": "white",
             "minorgridcolor": "white",
             "startlinecolor": "#2a3f5f"
            },
            "type": "carpet"
           }
          ],
          "choropleth": [
           {
            "colorbar": {
             "outlinewidth": 0,
             "ticks": ""
            },
            "type": "choropleth"
           }
          ],
          "contour": [
           {
            "colorbar": {
             "outlinewidth": 0,
             "ticks": ""
            },
            "colorscale": [
             [
              0,
              "#0d0887"
             ],
             [
              0.1111111111111111,
              "#46039f"
             ],
             [
              0.2222222222222222,
              "#7201a8"
             ],
             [
              0.3333333333333333,
              "#9c179e"
             ],
             [
              0.4444444444444444,
              "#bd3786"
             ],
             [
              0.5555555555555556,
              "#d8576b"
             ],
             [
              0.6666666666666666,
              "#ed7953"
             ],
             [
              0.7777777777777778,
              "#fb9f3a"
             ],
             [
              0.8888888888888888,
              "#fdca26"
             ],
             [
              1,
              "#f0f921"
             ]
            ],
            "type": "contour"
           }
          ],
          "contourcarpet": [
           {
            "colorbar": {
             "outlinewidth": 0,
             "ticks": ""
            },
            "type": "contourcarpet"
           }
          ],
          "heatmap": [
           {
            "colorbar": {
             "outlinewidth": 0,
             "ticks": ""
            },
            "colorscale": [
             [
              0,
              "#0d0887"
             ],
             [
              0.1111111111111111,
              "#46039f"
             ],
             [
              0.2222222222222222,
              "#7201a8"
             ],
             [
              0.3333333333333333,
              "#9c179e"
             ],
             [
              0.4444444444444444,
              "#bd3786"
             ],
             [
              0.5555555555555556,
              "#d8576b"
             ],
             [
              0.6666666666666666,
              "#ed7953"
             ],
             [
              0.7777777777777778,
              "#fb9f3a"
             ],
             [
              0.8888888888888888,
              "#fdca26"
             ],
             [
              1,
              "#f0f921"
             ]
            ],
            "type": "heatmap"
           }
          ],
          "heatmapgl": [
           {
            "colorbar": {
             "outlinewidth": 0,
             "ticks": ""
            },
            "colorscale": [
             [
              0,
              "#0d0887"
             ],
             [
              0.1111111111111111,
              "#46039f"
             ],
             [
              0.2222222222222222,
              "#7201a8"
             ],
             [
              0.3333333333333333,
              "#9c179e"
             ],
             [
              0.4444444444444444,
              "#bd3786"
             ],
             [
              0.5555555555555556,
              "#d8576b"
             ],
             [
              0.6666666666666666,
              "#ed7953"
             ],
             [
              0.7777777777777778,
              "#fb9f3a"
             ],
             [
              0.8888888888888888,
              "#fdca26"
             ],
             [
              1,
              "#f0f921"
             ]
            ],
            "type": "heatmapgl"
           }
          ],
          "histogram": [
           {
            "marker": {
             "pattern": {
              "fillmode": "overlay",
              "size": 10,
              "solidity": 0.2
             }
            },
            "type": "histogram"
           }
          ],
          "histogram2d": [
           {
            "colorbar": {
             "outlinewidth": 0,
             "ticks": ""
            },
            "colorscale": [
             [
              0,
              "#0d0887"
             ],
             [
              0.1111111111111111,
              "#46039f"
             ],
             [
              0.2222222222222222,
              "#7201a8"
             ],
             [
              0.3333333333333333,
              "#9c179e"
             ],
             [
              0.4444444444444444,
              "#bd3786"
             ],
             [
              0.5555555555555556,
              "#d8576b"
             ],
             [
              0.6666666666666666,
              "#ed7953"
             ],
             [
              0.7777777777777778,
              "#fb9f3a"
             ],
             [
              0.8888888888888888,
              "#fdca26"
             ],
             [
              1,
              "#f0f921"
             ]
            ],
            "type": "histogram2d"
           }
          ],
          "histogram2dcontour": [
           {
            "colorbar": {
             "outlinewidth": 0,
             "ticks": ""
            },
            "colorscale": [
             [
              0,
              "#0d0887"
             ],
             [
              0.1111111111111111,
              "#46039f"
             ],
             [
              0.2222222222222222,
              "#7201a8"
             ],
             [
              0.3333333333333333,
              "#9c179e"
             ],
             [
              0.4444444444444444,
              "#bd3786"
             ],
             [
              0.5555555555555556,
              "#d8576b"
             ],
             [
              0.6666666666666666,
              "#ed7953"
             ],
             [
              0.7777777777777778,
              "#fb9f3a"
             ],
             [
              0.8888888888888888,
              "#fdca26"
             ],
             [
              1,
              "#f0f921"
             ]
            ],
            "type": "histogram2dcontour"
           }
          ],
          "mesh3d": [
           {
            "colorbar": {
             "outlinewidth": 0,
             "ticks": ""
            },
            "type": "mesh3d"
           }
          ],
          "parcoords": [
           {
            "line": {
             "colorbar": {
              "outlinewidth": 0,
              "ticks": ""
             }
            },
            "type": "parcoords"
           }
          ],
          "pie": [
           {
            "automargin": true,
            "type": "pie"
           }
          ],
          "scatter": [
           {
            "fillpattern": {
             "fillmode": "overlay",
             "size": 10,
             "solidity": 0.2
            },
            "type": "scatter"
           }
          ],
          "scatter3d": [
           {
            "line": {
             "colorbar": {
              "outlinewidth": 0,
              "ticks": ""
             }
            },
            "marker": {
             "colorbar": {
              "outlinewidth": 0,
              "ticks": ""
             }
            },
            "type": "scatter3d"
           }
          ],
          "scattercarpet": [
           {
            "marker": {
             "colorbar": {
              "outlinewidth": 0,
              "ticks": ""
             }
            },
            "type": "scattercarpet"
           }
          ],
          "scattergeo": [
           {
            "marker": {
             "colorbar": {
              "outlinewidth": 0,
              "ticks": ""
             }
            },
            "type": "scattergeo"
           }
          ],
          "scattergl": [
           {
            "marker": {
             "colorbar": {
              "outlinewidth": 0,
              "ticks": ""
             }
            },
            "type": "scattergl"
           }
          ],
          "scattermapbox": [
           {
            "marker": {
             "colorbar": {
              "outlinewidth": 0,
              "ticks": ""
             }
            },
            "type": "scattermapbox"
           }
          ],
          "scatterpolar": [
           {
            "marker": {
             "colorbar": {
              "outlinewidth": 0,
              "ticks": ""
             }
            },
            "type": "scatterpolar"
           }
          ],
          "scatterpolargl": [
           {
            "marker": {
             "colorbar": {
              "outlinewidth": 0,
              "ticks": ""
             }
            },
            "type": "scatterpolargl"
           }
          ],
          "scatterternary": [
           {
            "marker": {
             "colorbar": {
              "outlinewidth": 0,
              "ticks": ""
             }
            },
            "type": "scatterternary"
           }
          ],
          "surface": [
           {
            "colorbar": {
             "outlinewidth": 0,
             "ticks": ""
            },
            "colorscale": [
             [
              0,
              "#0d0887"
             ],
             [
              0.1111111111111111,
              "#46039f"
             ],
             [
              0.2222222222222222,
              "#7201a8"
             ],
             [
              0.3333333333333333,
              "#9c179e"
             ],
             [
              0.4444444444444444,
              "#bd3786"
             ],
             [
              0.5555555555555556,
              "#d8576b"
             ],
             [
              0.6666666666666666,
              "#ed7953"
             ],
             [
              0.7777777777777778,
              "#fb9f3a"
             ],
             [
              0.8888888888888888,
              "#fdca26"
             ],
             [
              1,
              "#f0f921"
             ]
            ],
            "type": "surface"
           }
          ],
          "table": [
           {
            "cells": {
             "fill": {
              "color": "#EBF0F8"
             },
             "line": {
              "color": "white"
             }
            },
            "header": {
             "fill": {
              "color": "#C8D4E3"
             },
             "line": {
              "color": "white"
             }
            },
            "type": "table"
           }
          ]
         },
         "layout": {
          "annotationdefaults": {
           "arrowcolor": "#2a3f5f",
           "arrowhead": 0,
           "arrowwidth": 1
          },
          "autotypenumbers": "strict",
          "coloraxis": {
           "colorbar": {
            "outlinewidth": 0,
            "ticks": ""
           }
          },
          "colorscale": {
           "diverging": [
            [
             0,
             "#8e0152"
            ],
            [
             0.1,
             "#c51b7d"
            ],
            [
             0.2,
             "#de77ae"
            ],
            [
             0.3,
             "#f1b6da"
            ],
            [
             0.4,
             "#fde0ef"
            ],
            [
             0.5,
             "#f7f7f7"
            ],
            [
             0.6,
             "#e6f5d0"
            ],
            [
             0.7,
             "#b8e186"
            ],
            [
             0.8,
             "#7fbc41"
            ],
            [
             0.9,
             "#4d9221"
            ],
            [
             1,
             "#276419"
            ]
           ],
           "sequential": [
            [
             0,
             "#0d0887"
            ],
            [
             0.1111111111111111,
             "#46039f"
            ],
            [
             0.2222222222222222,
             "#7201a8"
            ],
            [
             0.3333333333333333,
             "#9c179e"
            ],
            [
             0.4444444444444444,
             "#bd3786"
            ],
            [
             0.5555555555555556,
             "#d8576b"
            ],
            [
             0.6666666666666666,
             "#ed7953"
            ],
            [
             0.7777777777777778,
             "#fb9f3a"
            ],
            [
             0.8888888888888888,
             "#fdca26"
            ],
            [
             1,
             "#f0f921"
            ]
           ],
           "sequentialminus": [
            [
             0,
             "#0d0887"
            ],
            [
             0.1111111111111111,
             "#46039f"
            ],
            [
             0.2222222222222222,
             "#7201a8"
            ],
            [
             0.3333333333333333,
             "#9c179e"
            ],
            [
             0.4444444444444444,
             "#bd3786"
            ],
            [
             0.5555555555555556,
             "#d8576b"
            ],
            [
             0.6666666666666666,
             "#ed7953"
            ],
            [
             0.7777777777777778,
             "#fb9f3a"
            ],
            [
             0.8888888888888888,
             "#fdca26"
            ],
            [
             1,
             "#f0f921"
            ]
           ]
          },
          "colorway": [
           "#636efa",
           "#EF553B",
           "#00cc96",
           "#ab63fa",
           "#FFA15A",
           "#19d3f3",
           "#FF6692",
           "#B6E880",
           "#FF97FF",
           "#FECB52"
          ],
          "font": {
           "color": "#2a3f5f"
          },
          "geo": {
           "bgcolor": "white",
           "lakecolor": "white",
           "landcolor": "#E5ECF6",
           "showlakes": true,
           "showland": true,
           "subunitcolor": "white"
          },
          "hoverlabel": {
           "align": "left"
          },
          "hovermode": "closest",
          "mapbox": {
           "style": "light"
          },
          "paper_bgcolor": "white",
          "plot_bgcolor": "#E5ECF6",
          "polar": {
           "angularaxis": {
            "gridcolor": "white",
            "linecolor": "white",
            "ticks": ""
           },
           "bgcolor": "#E5ECF6",
           "radialaxis": {
            "gridcolor": "white",
            "linecolor": "white",
            "ticks": ""
           }
          },
          "scene": {
           "xaxis": {
            "backgroundcolor": "#E5ECF6",
            "gridcolor": "white",
            "gridwidth": 2,
            "linecolor": "white",
            "showbackground": true,
            "ticks": "",
            "zerolinecolor": "white"
           },
           "yaxis": {
            "backgroundcolor": "#E5ECF6",
            "gridcolor": "white",
            "gridwidth": 2,
            "linecolor": "white",
            "showbackground": true,
            "ticks": "",
            "zerolinecolor": "white"
           },
           "zaxis": {
            "backgroundcolor": "#E5ECF6",
            "gridcolor": "white",
            "gridwidth": 2,
            "linecolor": "white",
            "showbackground": true,
            "ticks": "",
            "zerolinecolor": "white"
           }
          },
          "shapedefaults": {
           "line": {
            "color": "#2a3f5f"
           }
          },
          "ternary": {
           "aaxis": {
            "gridcolor": "white",
            "linecolor": "white",
            "ticks": ""
           },
           "baxis": {
            "gridcolor": "white",
            "linecolor": "white",
            "ticks": ""
           },
           "bgcolor": "#E5ECF6",
           "caxis": {
            "gridcolor": "white",
            "linecolor": "white",
            "ticks": ""
           }
          },
          "title": {
           "x": 0.05
          },
          "xaxis": {
           "automargin": true,
           "gridcolor": "white",
           "linecolor": "white",
           "ticks": "",
           "title": {
            "standoff": 15
           },
           "zerolinecolor": "white",
           "zerolinewidth": 2
          },
          "yaxis": {
           "automargin": true,
           "gridcolor": "white",
           "linecolor": "white",
           "ticks": "",
           "title": {
            "standoff": 15
           },
           "zerolinecolor": "white",
           "zerolinewidth": 2
          }
         }
        }
       }
      },
      "text/html": [
       "<div>                            <div id=\"46e11305-920a-4fd2-b578-6c2a40e384a8\" class=\"plotly-graph-div\" style=\"height:525px; width:100%;\"></div>            <script type=\"text/javascript\">                require([\"plotly\"], function(Plotly) {                    window.PLOTLYENV=window.PLOTLYENV || {};                                    if (document.getElementById(\"46e11305-920a-4fd2-b578-6c2a40e384a8\")) {                    Plotly.newPlot(                        \"46e11305-920a-4fd2-b578-6c2a40e384a8\",                        [{\"connectgaps\":true,\"line\":{\"color\":\"green\",\"shape\":\"linear\"},\"mode\":\"markers+lines\",\"name\":\"Date\",\"x\":[],\"y\":[],\"type\":\"scatter\"},{\"connectgaps\":true,\"line\":{\"color\":\"green\",\"shape\":\"linear\"},\"mode\":\"markers+lines\",\"name\":\"ID\",\"x\":[],\"y\":[],\"type\":\"scatter\"},{\"connectgaps\":true,\"line\":{\"color\":\"red\",\"shape\":\"linear\"},\"mode\":\"markers+lines\",\"name\":\"Date\",\"x\":[\"2016-07-02T17:58:39+00:00\",\"2016-07-10T20:09:22+00:00\",\"2016-10-19T17:54:19+00:00\",\"2016-12-26T23:45:34+00:00\"],\"y\":[1,1,2,1],\"type\":\"scatter\"},{\"connectgaps\":true,\"line\":{\"color\":\"red\",\"shape\":\"linear\"},\"mode\":\"markers+lines\",\"name\":\"ID\",\"x\":[\"2016-07-02T17:58:39+00:00\",\"2016-07-10T20:09:22+00:00\",\"2016-10-19T17:54:19+00:00\",\"2016-12-26T23:45:34+00:00\"],\"y\":[1,1,2,1],\"type\":\"scatter\"}],                        {\"template\":{\"data\":{\"histogram2dcontour\":[{\"type\":\"histogram2dcontour\",\"colorbar\":{\"outlinewidth\":0,\"ticks\":\"\"},\"colorscale\":[[0.0,\"#0d0887\"],[0.1111111111111111,\"#46039f\"],[0.2222222222222222,\"#7201a8\"],[0.3333333333333333,\"#9c179e\"],[0.4444444444444444,\"#bd3786\"],[0.5555555555555556,\"#d8576b\"],[0.6666666666666666,\"#ed7953\"],[0.7777777777777778,\"#fb9f3a\"],[0.8888888888888888,\"#fdca26\"],[1.0,\"#f0f921\"]]}],\"choropleth\":[{\"type\":\"choropleth\",\"colorbar\":{\"outlinewidth\":0,\"ticks\":\"\"}}],\"histogram2d\":[{\"type\":\"histogram2d\",\"colorbar\":{\"outlinewidth\":0,\"ticks\":\"\"},\"colorscale\":[[0.0,\"#0d0887\"],[0.1111111111111111,\"#46039f\"],[0.2222222222222222,\"#7201a8\"],[0.3333333333333333,\"#9c179e\"],[0.4444444444444444,\"#bd3786\"],[0.5555555555555556,\"#d8576b\"],[0.6666666666666666,\"#ed7953\"],[0.7777777777777778,\"#fb9f3a\"],[0.8888888888888888,\"#fdca26\"],[1.0,\"#f0f921\"]]}],\"heatmap\":[{\"type\":\"heatmap\",\"colorbar\":{\"outlinewidth\":0,\"ticks\":\"\"},\"colorscale\":[[0.0,\"#0d0887\"],[0.1111111111111111,\"#46039f\"],[0.2222222222222222,\"#7201a8\"],[0.3333333333333333,\"#9c179e\"],[0.4444444444444444,\"#bd3786\"],[0.5555555555555556,\"#d8576b\"],[0.6666666666666666,\"#ed7953\"],[0.7777777777777778,\"#fb9f3a\"],[0.8888888888888888,\"#fdca26\"],[1.0,\"#f0f921\"]]}],\"heatmapgl\":[{\"type\":\"heatmapgl\",\"colorbar\":{\"outlinewidth\":0,\"ticks\":\"\"},\"colorscale\":[[0.0,\"#0d0887\"],[0.1111111111111111,\"#46039f\"],[0.2222222222222222,\"#7201a8\"],[0.3333333333333333,\"#9c179e\"],[0.4444444444444444,\"#bd3786\"],[0.5555555555555556,\"#d8576b\"],[0.6666666666666666,\"#ed7953\"],[0.7777777777777778,\"#fb9f3a\"],[0.8888888888888888,\"#fdca26\"],[1.0,\"#f0f921\"]]}],\"contourcarpet\":[{\"type\":\"contourcarpet\",\"colorbar\":{\"outlinewidth\":0,\"ticks\":\"\"}}],\"contour\":[{\"type\":\"contour\",\"colorbar\":{\"outlinewidth\":0,\"ticks\":\"\"},\"colorscale\":[[0.0,\"#0d0887\"],[0.1111111111111111,\"#46039f\"],[0.2222222222222222,\"#7201a8\"],[0.3333333333333333,\"#9c179e\"],[0.4444444444444444,\"#bd3786\"],[0.5555555555555556,\"#d8576b\"],[0.6666666666666666,\"#ed7953\"],[0.7777777777777778,\"#fb9f3a\"],[0.8888888888888888,\"#fdca26\"],[1.0,\"#f0f921\"]]}],\"surface\":[{\"type\":\"surface\",\"colorbar\":{\"outlinewidth\":0,\"ticks\":\"\"},\"colorscale\":[[0.0,\"#0d0887\"],[0.1111111111111111,\"#46039f\"],[0.2222222222222222,\"#7201a8\"],[0.3333333333333333,\"#9c179e\"],[0.4444444444444444,\"#bd3786\"],[0.5555555555555556,\"#d8576b\"],[0.6666666666666666,\"#ed7953\"],[0.7777777777777778,\"#fb9f3a\"],[0.8888888888888888,\"#fdca26\"],[1.0,\"#f0f921\"]]}],\"mesh3d\":[{\"type\":\"mesh3d\",\"colorbar\":{\"outlinewidth\":0,\"ticks\":\"\"}}],\"scatter\":[{\"fillpattern\":{\"fillmode\":\"overlay\",\"size\":10,\"solidity\":0.2},\"type\":\"scatter\"}],\"parcoords\":[{\"type\":\"parcoords\",\"line\":{\"colorbar\":{\"outlinewidth\":0,\"ticks\":\"\"}}}],\"scatterpolargl\":[{\"type\":\"scatterpolargl\",\"marker\":{\"colorbar\":{\"outlinewidth\":0,\"ticks\":\"\"}}}],\"bar\":[{\"error_x\":{\"color\":\"#2a3f5f\"},\"error_y\":{\"color\":\"#2a3f5f\"},\"marker\":{\"line\":{\"color\":\"#E5ECF6\",\"width\":0.5},\"pattern\":{\"fillmode\":\"overlay\",\"size\":10,\"solidity\":0.2}},\"type\":\"bar\"}],\"scattergeo\":[{\"type\":\"scattergeo\",\"marker\":{\"colorbar\":{\"outlinewidth\":0,\"ticks\":\"\"}}}],\"scatterpolar\":[{\"type\":\"scatterpolar\",\"marker\":{\"colorbar\":{\"outlinewidth\":0,\"ticks\":\"\"}}}],\"histogram\":[{\"marker\":{\"pattern\":{\"fillmode\":\"overlay\",\"size\":10,\"solidity\":0.2}},\"type\":\"histogram\"}],\"scattergl\":[{\"type\":\"scattergl\",\"marker\":{\"colorbar\":{\"outlinewidth\":0,\"ticks\":\"\"}}}],\"scatter3d\":[{\"type\":\"scatter3d\",\"line\":{\"colorbar\":{\"outlinewidth\":0,\"ticks\":\"\"}},\"marker\":{\"colorbar\":{\"outlinewidth\":0,\"ticks\":\"\"}}}],\"scattermapbox\":[{\"type\":\"scattermapbox\",\"marker\":{\"colorbar\":{\"outlinewidth\":0,\"ticks\":\"\"}}}],\"scatterternary\":[{\"type\":\"scatterternary\",\"marker\":{\"colorbar\":{\"outlinewidth\":0,\"ticks\":\"\"}}}],\"scattercarpet\":[{\"type\":\"scattercarpet\",\"marker\":{\"colorbar\":{\"outlinewidth\":0,\"ticks\":\"\"}}}],\"carpet\":[{\"aaxis\":{\"endlinecolor\":\"#2a3f5f\",\"gridcolor\":\"white\",\"linecolor\":\"white\",\"minorgridcolor\":\"white\",\"startlinecolor\":\"#2a3f5f\"},\"baxis\":{\"endlinecolor\":\"#2a3f5f\",\"gridcolor\":\"white\",\"linecolor\":\"white\",\"minorgridcolor\":\"white\",\"startlinecolor\":\"#2a3f5f\"},\"type\":\"carpet\"}],\"table\":[{\"cells\":{\"fill\":{\"color\":\"#EBF0F8\"},\"line\":{\"color\":\"white\"}},\"header\":{\"fill\":{\"color\":\"#C8D4E3\"},\"line\":{\"color\":\"white\"}},\"type\":\"table\"}],\"barpolar\":[{\"marker\":{\"line\":{\"color\":\"#E5ECF6\",\"width\":0.5},\"pattern\":{\"fillmode\":\"overlay\",\"size\":10,\"solidity\":0.2}},\"type\":\"barpolar\"}],\"pie\":[{\"automargin\":true,\"type\":\"pie\"}]},\"layout\":{\"autotypenumbers\":\"strict\",\"colorway\":[\"#636efa\",\"#EF553B\",\"#00cc96\",\"#ab63fa\",\"#FFA15A\",\"#19d3f3\",\"#FF6692\",\"#B6E880\",\"#FF97FF\",\"#FECB52\"],\"font\":{\"color\":\"#2a3f5f\"},\"hovermode\":\"closest\",\"hoverlabel\":{\"align\":\"left\"},\"paper_bgcolor\":\"white\",\"plot_bgcolor\":\"#E5ECF6\",\"polar\":{\"bgcolor\":\"#E5ECF6\",\"angularaxis\":{\"gridcolor\":\"white\",\"linecolor\":\"white\",\"ticks\":\"\"},\"radialaxis\":{\"gridcolor\":\"white\",\"linecolor\":\"white\",\"ticks\":\"\"}},\"ternary\":{\"bgcolor\":\"#E5ECF6\",\"aaxis\":{\"gridcolor\":\"white\",\"linecolor\":\"white\",\"ticks\":\"\"},\"baxis\":{\"gridcolor\":\"white\",\"linecolor\":\"white\",\"ticks\":\"\"},\"caxis\":{\"gridcolor\":\"white\",\"linecolor\":\"white\",\"ticks\":\"\"}},\"coloraxis\":{\"colorbar\":{\"outlinewidth\":0,\"ticks\":\"\"}},\"colorscale\":{\"sequential\":[[0.0,\"#0d0887\"],[0.1111111111111111,\"#46039f\"],[0.2222222222222222,\"#7201a8\"],[0.3333333333333333,\"#9c179e\"],[0.4444444444444444,\"#bd3786\"],[0.5555555555555556,\"#d8576b\"],[0.6666666666666666,\"#ed7953\"],[0.7777777777777778,\"#fb9f3a\"],[0.8888888888888888,\"#fdca26\"],[1.0,\"#f0f921\"]],\"sequentialminus\":[[0.0,\"#0d0887\"],[0.1111111111111111,\"#46039f\"],[0.2222222222222222,\"#7201a8\"],[0.3333333333333333,\"#9c179e\"],[0.4444444444444444,\"#bd3786\"],[0.5555555555555556,\"#d8576b\"],[0.6666666666666666,\"#ed7953\"],[0.7777777777777778,\"#fb9f3a\"],[0.8888888888888888,\"#fdca26\"],[1.0,\"#f0f921\"]],\"diverging\":[[0,\"#8e0152\"],[0.1,\"#c51b7d\"],[0.2,\"#de77ae\"],[0.3,\"#f1b6da\"],[0.4,\"#fde0ef\"],[0.5,\"#f7f7f7\"],[0.6,\"#e6f5d0\"],[0.7,\"#b8e186\"],[0.8,\"#7fbc41\"],[0.9,\"#4d9221\"],[1,\"#276419\"]]},\"xaxis\":{\"gridcolor\":\"white\",\"linecolor\":\"white\",\"ticks\":\"\",\"title\":{\"standoff\":15},\"zerolinecolor\":\"white\",\"automargin\":true,\"zerolinewidth\":2},\"yaxis\":{\"gridcolor\":\"white\",\"linecolor\":\"white\",\"ticks\":\"\",\"title\":{\"standoff\":15},\"zerolinecolor\":\"white\",\"automargin\":true,\"zerolinewidth\":2},\"scene\":{\"xaxis\":{\"backgroundcolor\":\"#E5ECF6\",\"gridcolor\":\"white\",\"linecolor\":\"white\",\"showbackground\":true,\"ticks\":\"\",\"zerolinecolor\":\"white\",\"gridwidth\":2},\"yaxis\":{\"backgroundcolor\":\"#E5ECF6\",\"gridcolor\":\"white\",\"linecolor\":\"white\",\"showbackground\":true,\"ticks\":\"\",\"zerolinecolor\":\"white\",\"gridwidth\":2},\"zaxis\":{\"backgroundcolor\":\"#E5ECF6\",\"gridcolor\":\"white\",\"linecolor\":\"white\",\"showbackground\":true,\"ticks\":\"\",\"zerolinecolor\":\"white\",\"gridwidth\":2}},\"shapedefaults\":{\"line\":{\"color\":\"#2a3f5f\"}},\"annotationdefaults\":{\"arrowcolor\":\"#2a3f5f\",\"arrowhead\":0,\"arrowwidth\":1},\"geo\":{\"bgcolor\":\"white\",\"landcolor\":\"#E5ECF6\",\"subunitcolor\":\"white\",\"showland\":true,\"showlakes\":true,\"lakecolor\":\"white\"},\"title\":{\"x\":0.05},\"mapbox\":{\"style\":\"light\"}}}},                        {\"responsive\": true}                    ).then(function(){\n",
       "                            \n",
       "var gd = document.getElementById('46e11305-920a-4fd2-b578-6c2a40e384a8');\n",
       "var x = new MutationObserver(function (mutations, observer) {{\n",
       "        var display = window.getComputedStyle(gd).display;\n",
       "        if (!display || display === 'none') {{\n",
       "            console.log([gd, 'removed!']);\n",
       "            Plotly.purge(gd);\n",
       "            observer.disconnect();\n",
       "        }}\n",
       "}});\n",
       "\n",
       "// Listen for the removal of the full notebook cells\n",
       "var notebookContainer = gd.closest('#notebook-container');\n",
       "if (notebookContainer) {{\n",
       "    x.observe(notebookContainer, {childList: true});\n",
       "}}\n",
       "\n",
       "// Listen for the clearing of the current output cell\n",
       "var outputEl = gd.closest('.output');\n",
       "if (outputEl) {{\n",
       "    x.observe(outputEl, {childList: true});\n",
       "}}\n",
       "\n",
       "                        })                };                });            </script>        </div>"
      ]
     },
     "metadata": {},
     "output_type": "display_data"
    }
   ],
   "source": [
    "fig.show()\n",
    "  \n"
   ]
  },
  {
   "cell_type": "markdown",
   "id": "191bfbf2",
   "metadata": {},
   "source": [
    "There is a steady increase over the months of August, September with the peak on October 19, 2016. There is then a steady decline from that date until the end of December of that year. There aren't any notable events that could be identified which could have caused this spike. Let's look at the Wordcloud to see if we could get an indication of what was taking pace at that time. "
   ]
  },
  {
   "cell_type": "code",
   "execution_count": 126,
   "id": "f6a01687",
   "metadata": {},
   "outputs": [
    {
     "data": {
      "text/plain": [
       "(-0.5, 399.5, 199.5, -0.5)"
      ]
     },
     "execution_count": 126,
     "metadata": {},
     "output_type": "execute_result"
    },
    {
     "data": {
      "image/png": "[encoded data removed]",
      "text/plain": [
       "<Figure size 640x480 with 1 Axes>"
      ]
     },
     "metadata": {},
     "output_type": "display_data"
    }
   ],
   "source": [
    "#Checking wordcloud\n",
    "spike1_df = tweets_df[(tweets_df['Date']>='2016-07-01') & (tweets_df['Date']<='2016-12-31')]\n",
    "negative = spike1_df[spike1_df['sentiment_category']=='negative']\n",
    "wordcloud = WordCloud(max_font_size=50, max_words=500, background_color=\"white\").generate(str(negative['tweet_clean']))\n",
    "plt.figure()\n",
    "plt.imshow(wordcloud, interpolation=\"bilinear\")\n",
    "plt.axis(\"off\")"
   ]
  },
  {
   "cell_type": "code",
   "execution_count": 127,
   "id": "c2c16ec9",
   "metadata": {},
   "outputs": [],
   "source": [
    "plt.show()"
   ]
  },
  {
   "cell_type": "markdown",
   "id": "3df26500",
   "metadata": {},
   "source": [
    "The Wordcloud indicates that there were some strong negative feelings which were evident during this time period. Prominent words such as 'suicidal', 'brain', 'stress' & 'mental' can be seen in this small cloud. There are also other words such as 'young' & 'refuse'. Moving now to assess the other spikes. "
   ]
  },
  {
   "cell_type": "code",
   "execution_count": 128,
   "id": "5da2d01b",
   "metadata": {},
   "outputs": [],
   "source": [
    "spike2_df = tweets_df[(tweets_df['Date']>='2021-01-01') & (tweets_df['Date']<='2021-02-28')]\n",
    "\n",
    "neg = spike2_df[spike2_df['sentiment_category']=='negative']\n",
    "neg = neg.groupby(['Date'],as_index=False).count()\n",
    "\n",
    "pos = spike2_df[spike2_df['sentiment_category']=='positive']\n",
    "pos = pos.groupby(['Date'],as_index=False).count()\n",
    "\n",
    "pos = pos[['Date','ID']]\n",
    "neg = neg[['Date','ID']]"
   ]
  },
  {
   "cell_type": "code",
   "execution_count": 129,
   "id": "5f06573a",
   "metadata": {},
   "outputs": [],
   "source": [
    "#Generating chart for visualization\n",
    "\n",
    "fig = go.Figure()\n",
    "for col in pos.columns:\n",
    "    fig.add_trace(go.Scatter(x=pos['Date'], y=pos['ID'],\n",
    "                             name = col,\n",
    "                             mode = 'markers+lines',\n",
    "                             line=dict(shape='linear'),\n",
    "                             connectgaps=True,\n",
    "                             line_color='green'\n",
    "                             )\n",
    "                 )\n",
    "\n",
    "for col in neg.columns:\n",
    "    fig.add_trace(go.Scatter(x=neg['Date'], y=neg['ID'],\n",
    "                             name = col,\n",
    "                             mode = 'markers+lines',\n",
    "                             line=dict(shape='linear'),\n",
    "                             connectgaps=True,\n",
    "                             line_color='red'\n",
    "                             )\n",
    "                 )\n"
   ]
  },
  {
   "cell_type": "code",
   "execution_count": 130,
   "id": "92a30ce0",
   "metadata": {},
   "outputs": [
    {
     "data": {
      "application/vnd.plotly.v1+json": {
       "config": {
        "plotlyServerURL": "https://plot.ly"
       },
       "data": [
        {
         "connectgaps": true,
         "line": {
          "color": "green",
          "shape": "linear"
         },
         "mode": "markers+lines",
         "name": "Date",
         "type": "scatter",
         "x": [
          "2021-01-02T02:18:50+00:00",
          "2021-01-03T11:21:07+00:00",
          "2021-01-04T00:32:20+00:00",
          "2021-01-08T21:14:49+00:00",
          "2021-01-09T11:28:42+00:00",
          "2021-01-09T11:30:10+00:00",
          "2021-01-11T03:17:04+00:00",
          "2021-01-22T02:40:40+00:00",
          "2021-01-25T15:09:21+00:00",
          "2021-01-25T21:02:08+00:00",
          "2021-01-26T04:06:10+00:00",
          "2021-01-26T12:06:45+00:00",
          "2021-01-27T00:17:42+00:00",
          "2021-01-27T00:20:18+00:00",
          "2021-01-27T01:42:08+00:00",
          "2021-01-27T02:00:40+00:00",
          "2021-01-30T07:53:04+00:00",
          "2021-01-31T08:57:04+00:00",
          "2021-02-01T12:32:42+00:00",
          "2021-02-02T11:56:40+00:00",
          "2021-02-04T00:04:00+00:00",
          "2021-02-04T01:37:12+00:00",
          "2021-02-10T17:05:07+00:00",
          "2021-02-12T15:22:38+00:00",
          "2021-02-14T22:58:44+00:00",
          "2021-02-15T04:34:20+00:00",
          "2021-02-16T13:22:34+00:00",
          "2021-02-16T22:19:24+00:00",
          "2021-02-18T00:43:27+00:00",
          "2021-02-18T11:02:21+00:00",
          "2021-02-18T19:19:54+00:00",
          "2021-02-22T23:45:22+00:00",
          "2021-02-25T23:56:27+00:00",
          "2021-02-26T13:45:03+00:00"
         ],
         "y": [
          1,
          1,
          1,
          1,
          1,
          1,
          1,
          1,
          1,
          1,
          1,
          1,
          1,
          1,
          1,
          1,
          1,
          1,
          1,
          1,
          1,
          1,
          1,
          1,
          1,
          1,
          1,
          1,
          1,
          1,
          1,
          1,
          1,
          1
         ]
        },
        {
         "connectgaps": true,
         "line": {
          "color": "green",
          "shape": "linear"
         },
         "mode": "markers+lines",
         "name": "ID",
         "type": "scatter",
         "x": [
          "2021-01-02T02:18:50+00:00",
          "2021-01-03T11:21:07+00:00",
          "2021-01-04T00:32:20+00:00",
          "2021-01-08T21:14:49+00:00",
          "2021-01-09T11:28:42+00:00",
          "2021-01-09T11:30:10+00:00",
          "2021-01-11T03:17:04+00:00",
          "2021-01-22T02:40:40+00:00",
          "2021-01-25T15:09:21+00:00",
          "2021-01-25T21:02:08+00:00",
          "2021-01-26T04:06:10+00:00",
          "2021-01-26T12:06:45+00:00",
          "2021-01-27T00:17:42+00:00",
          "2021-01-27T00:20:18+00:00",
          "2021-01-27T01:42:08+00:00",
          "2021-01-27T02:00:40+00:00",
          "2021-01-30T07:53:04+00:00",
          "2021-01-31T08:57:04+00:00",
          "2021-02-01T12:32:42+00:00",
          "2021-02-02T11:56:40+00:00",
          "2021-02-04T00:04:00+00:00",
          "2021-02-04T01:37:12+00:00",
          "2021-02-10T17:05:07+00:00",
          "2021-02-12T15:22:38+00:00",
          "2021-02-14T22:58:44+00:00",
          "2021-02-15T04:34:20+00:00",
          "2021-02-16T13:22:34+00:00",
          "2021-02-16T22:19:24+00:00",
          "2021-02-18T00:43:27+00:00",
          "2021-02-18T11:02:21+00:00",
          "2021-02-18T19:19:54+00:00",
          "2021-02-22T23:45:22+00:00",
          "2021-02-25T23:56:27+00:00",
          "2021-02-26T13:45:03+00:00"
         ],
         "y": [
          1,
          1,
          1,
          1,
          1,
          1,
          1,
          1,
          1,
          1,
          1,
          1,
          1,
          1,
          1,
          1,
          1,
          1,
          1,
          1,
          1,
          1,
          1,
          1,
          1,
          1,
          1,
          1,
          1,
          1,
          1,
          1,
          1,
          1
         ]
        },
        {
         "connectgaps": true,
         "line": {
          "color": "red",
          "shape": "linear"
         },
         "mode": "markers+lines",
         "name": "Date",
         "type": "scatter",
         "x": [
          "2021-01-02T02:09:33+00:00",
          "2021-01-02T02:34:13+00:00",
          "2021-01-03T18:32:32+00:00",
          "2021-01-04T16:50:18+00:00",
          "2021-01-08T03:37:34+00:00",
          "2021-01-08T20:46:39+00:00",
          "2021-01-09T23:07:20+00:00",
          "2021-01-11T18:26:34+00:00",
          "2021-01-12T03:30:19+00:00",
          "2021-01-14T19:31:15+00:00",
          "2021-01-16T00:40:25+00:00",
          "2021-01-18T03:37:40+00:00",
          "2021-01-19T21:37:25+00:00",
          "2021-01-20T12:34:51+00:00",
          "2021-01-23T10:43:26+00:00",
          "2021-01-24T11:12:04+00:00",
          "2021-01-24T19:59:10+00:00",
          "2021-01-27T05:11:01+00:00",
          "2021-01-27T18:14:15+00:00",
          "2021-01-28T19:50:33+00:00",
          "2021-01-29T03:11:13+00:00",
          "2021-02-01T00:20:30+00:00",
          "2021-02-01T01:03:56+00:00",
          "2021-02-01T03:28:39+00:00",
          "2021-02-02T10:45:29+00:00",
          "2021-02-06T00:19:50+00:00",
          "2021-02-13T13:36:29+00:00",
          "2021-02-13T21:09:43+00:00",
          "2021-02-14T20:07:55+00:00",
          "2021-02-15T23:02:26+00:00",
          "2021-02-17T02:50:03+00:00",
          "2021-02-18T13:32:36+00:00",
          "2021-02-21T09:55:35+00:00",
          "2021-02-22T13:22:52+00:00",
          "2021-02-23T14:32:35+00:00",
          "2021-02-25T16:34:31+00:00",
          "2021-02-25T23:56:47+00:00",
          "2021-02-26T15:19:44+00:00",
          "2021-02-27T14:38:20+00:00",
          "2021-02-27T23:11:11+00:00"
         ],
         "y": [
          1,
          2,
          1,
          1,
          1,
          1,
          1,
          1,
          1,
          1,
          2,
          1,
          1,
          1,
          1,
          1,
          1,
          1,
          1,
          1,
          1,
          1,
          1,
          1,
          1,
          1,
          1,
          1,
          1,
          1,
          1,
          1,
          1,
          1,
          1,
          1,
          1,
          1,
          1,
          1
         ]
        },
        {
         "connectgaps": true,
         "line": {
          "color": "red",
          "shape": "linear"
         },
         "mode": "markers+lines",
         "name": "ID",
         "type": "scatter",
         "x": [
          "2021-01-02T02:09:33+00:00",
          "2021-01-02T02:34:13+00:00",
          "2021-01-03T18:32:32+00:00",
          "2021-01-04T16:50:18+00:00",
          "2021-01-08T03:37:34+00:00",
          "2021-01-08T20:46:39+00:00",
          "2021-01-09T23:07:20+00:00",
          "2021-01-11T18:26:34+00:00",
          "2021-01-12T03:30:19+00:00",
          "2021-01-14T19:31:15+00:00",
          "2021-01-16T00:40:25+00:00",
          "2021-01-18T03:37:40+00:00",
          "2021-01-19T21:37:25+00:00",
          "2021-01-20T12:34:51+00:00",
          "2021-01-23T10:43:26+00:00",
          "2021-01-24T11:12:04+00:00",
          "2021-01-24T19:59:10+00:00",
          "2021-01-27T05:11:01+00:00",
          "2021-01-27T18:14:15+00:00",
          "2021-01-28T19:50:33+00:00",
          "2021-01-29T03:11:13+00:00",
          "2021-02-01T00:20:30+00:00",
          "2021-02-01T01:03:56+00:00",
          "2021-02-01T03:28:39+00:00",
          "2021-02-02T10:45:29+00:00",
          "2021-02-06T00:19:50+00:00",
          "2021-02-13T13:36:29+00:00",
          "2021-02-13T21:09:43+00:00",
          "2021-02-14T20:07:55+00:00",
          "2021-02-15T23:02:26+00:00",
          "2021-02-17T02:50:03+00:00",
          "2021-02-18T13:32:36+00:00",
          "2021-02-21T09:55:35+00:00",
          "2021-02-22T13:22:52+00:00",
          "2021-02-23T14:32:35+00:00",
          "2021-02-25T16:34:31+00:00",
          "2021-02-25T23:56:47+00:00",
          "2021-02-26T15:19:44+00:00",
          "2021-02-27T14:38:20+00:00",
          "2021-02-27T23:11:11+00:00"
         ],
         "y": [
          1,
          2,
          1,
          1,
          1,
          1,
          1,
          1,
          1,
          1,
          2,
          1,
          1,
          1,
          1,
          1,
          1,
          1,
          1,
          1,
          1,
          1,
          1,
          1,
          1,
          1,
          1,
          1,
          1,
          1,
          1,
          1,
          1,
          1,
          1,
          1,
          1,
          1,
          1,
          1
         ]
        }
       ],
       "layout": {
        "template": {
         "data": {
          "bar": [
           {
            "error_x": {
             "color": "#2a3f5f"
            },
            "error_y": {
             "color": "#2a3f5f"
            },
            "marker": {
             "line": {
              "color": "#E5ECF6",
              "width": 0.5
             },
             "pattern": {
              "fillmode": "overlay",
              "size": 10,
              "solidity": 0.2
             }
            },
            "type": "bar"
           }
          ],
          "barpolar": [
           {
            "marker": {
             "line": {
              "color": "#E5ECF6",
              "width": 0.5
             },
             "pattern": {
              "fillmode": "overlay",
              "size": 10,
              "solidity": 0.2
             }
            },
            "type": "barpolar"
           }
          ],
          "carpet": [
           {
            "aaxis": {
             "endlinecolor": "#2a3f5f",
             "gridcolor": "white",
             "linecolor": "white",
             "minorgridcolor": "white",
             "startlinecolor": "#2a3f5f"
            },
            "baxis": {
             "endlinecolor": "#2a3f5f",
             "gridcolor": "white",
             "linecolor": "white",
             "minorgridcolor": "white",
             "startlinecolor": "#2a3f5f"
            },
            "type": "carpet"
           }
          ],
          "choropleth": [
           {
            "colorbar": {
             "outlinewidth": 0,
             "ticks": ""
            },
            "type": "choropleth"
           }
          ],
          "contour": [
           {
            "colorbar": {
             "outlinewidth": 0,
             "ticks": ""
            },
            "colorscale": [
             [
              0,
              "#0d0887"
             ],
             [
              0.1111111111111111,
              "#46039f"
             ],
             [
              0.2222222222222222,
              "#7201a8"
             ],
             [
              0.3333333333333333,
              "#9c179e"
             ],
             [
              0.4444444444444444,
              "#bd3786"
             ],
             [
              0.5555555555555556,
              "#d8576b"
             ],
             [
              0.6666666666666666,
              "#ed7953"
             ],
             [
              0.7777777777777778,
              "#fb9f3a"
             ],
             [
              0.8888888888888888,
              "#fdca26"
             ],
             [
              1,
              "#f0f921"
             ]
            ],
            "type": "contour"
           }
          ],
          "contourcarpet": [
           {
            "colorbar": {
             "outlinewidth": 0,
             "ticks": ""
            },
            "type": "contourcarpet"
           }
          ],
          "heatmap": [
           {
            "colorbar": {
             "outlinewidth": 0,
             "ticks": ""
            },
            "colorscale": [
             [
              0,
              "#0d0887"
             ],
             [
              0.1111111111111111,
              "#46039f"
             ],
             [
              0.2222222222222222,
              "#7201a8"
             ],
             [
              0.3333333333333333,
              "#9c179e"
             ],
             [
              0.4444444444444444,
              "#bd3786"
             ],
             [
              0.5555555555555556,
              "#d8576b"
             ],
             [
              0.6666666666666666,
              "#ed7953"
             ],
             [
              0.7777777777777778,
              "#fb9f3a"
             ],
             [
              0.8888888888888888,
              "#fdca26"
             ],
             [
              1,
              "#f0f921"
             ]
            ],
            "type": "heatmap"
           }
          ],
          "heatmapgl": [
           {
            "colorbar": {
             "outlinewidth": 0,
             "ticks": ""
            },
            "colorscale": [
             [
              0,
              "#0d0887"
             ],
             [
              0.1111111111111111,
              "#46039f"
             ],
             [
              0.2222222222222222,
              "#7201a8"
             ],
             [
              0.3333333333333333,
              "#9c179e"
             ],
             [
              0.4444444444444444,
              "#bd3786"
             ],
             [
              0.5555555555555556,
              "#d8576b"
             ],
             [
              0.6666666666666666,
              "#ed7953"
             ],
             [
              0.7777777777777778,
              "#fb9f3a"
             ],
             [
              0.8888888888888888,
              "#fdca26"
             ],
             [
              1,
              "#f0f921"
             ]
            ],
            "type": "heatmapgl"
           }
          ],
          "histogram": [
           {
            "marker": {
             "pattern": {
              "fillmode": "overlay",
              "size": 10,
              "solidity": 0.2
             }
            },
            "type": "histogram"
           }
          ],
          "histogram2d": [
           {
            "colorbar": {
             "outlinewidth": 0,
             "ticks": ""
            },
            "colorscale": [
             [
              0,
              "#0d0887"
             ],
             [
              0.1111111111111111,
              "#46039f"
             ],
             [
              0.2222222222222222,
              "#7201a8"
             ],
             [
              0.3333333333333333,
              "#9c179e"
             ],
             [
              0.4444444444444444,
              "#bd3786"
             ],
             [
              0.5555555555555556,
              "#d8576b"
             ],
             [
              0.6666666666666666,
              "#ed7953"
             ],
             [
              0.7777777777777778,
              "#fb9f3a"
             ],
             [
              0.8888888888888888,
              "#fdca26"
             ],
             [
              1,
              "#f0f921"
             ]
            ],
            "type": "histogram2d"
           }
          ],
          "histogram2dcontour": [
           {
            "colorbar": {
             "outlinewidth": 0,
             "ticks": ""
            },
            "colorscale": [
             [
              0,
              "#0d0887"
             ],
             [
              0.1111111111111111,
              "#46039f"
             ],
             [
              0.2222222222222222,
              "#7201a8"
             ],
             [
              0.3333333333333333,
              "#9c179e"
             ],
             [
              0.4444444444444444,
              "#bd3786"
             ],
             [
              0.5555555555555556,
              "#d8576b"
             ],
             [
              0.6666666666666666,
              "#ed7953"
             ],
             [
              0.7777777777777778,
              "#fb9f3a"
             ],
             [
              0.8888888888888888,
              "#fdca26"
             ],
             [
              1,
              "#f0f921"
             ]
            ],
            "type": "histogram2dcontour"
           }
          ],
          "mesh3d": [
           {
            "colorbar": {
             "outlinewidth": 0,
             "ticks": ""
            },
            "type": "mesh3d"
           }
          ],
          "parcoords": [
           {
            "line": {
             "colorbar": {
              "outlinewidth": 0,
              "ticks": ""
             }
            },
            "type": "parcoords"
           }
          ],
          "pie": [
           {
            "automargin": true,
            "type": "pie"
           }
          ],
          "scatter": [
           {
            "fillpattern": {
             "fillmode": "overlay",
             "size": 10,
             "solidity": 0.2
            },
            "type": "scatter"
           }
          ],
          "scatter3d": [
           {
            "line": {
             "colorbar": {
              "outlinewidth": 0,
              "ticks": ""
             }
            },
            "marker": {
             "colorbar": {
              "outlinewidth": 0,
              "ticks": ""
             }
            },
            "type": "scatter3d"
           }
          ],
          "scattercarpet": [
           {
            "marker": {
             "colorbar": {
              "outlinewidth": 0,
              "ticks": ""
             }
            },
            "type": "scattercarpet"
           }
          ],
          "scattergeo": [
           {
            "marker": {
             "colorbar": {
              "outlinewidth": 0,
              "ticks": ""
             }
            },
            "type": "scattergeo"
           }
          ],
          "scattergl": [
           {
            "marker": {
             "colorbar": {
              "outlinewidth": 0,
              "ticks": ""
             }
            },
            "type": "scattergl"
           }
          ],
          "scattermapbox": [
           {
            "marker": {
             "colorbar": {
              "outlinewidth": 0,
              "ticks": ""
             }
            },
            "type": "scattermapbox"
           }
          ],
          "scatterpolar": [
           {
            "marker": {
             "colorbar": {
              "outlinewidth": 0,
              "ticks": ""
             }
            },
            "type": "scatterpolar"
           }
          ],
          "scatterpolargl": [
           {
            "marker": {
             "colorbar": {
              "outlinewidth": 0,
              "ticks": ""
             }
            },
            "type": "scatterpolargl"
           }
          ],
          "scatterternary": [
           {
            "marker": {
             "colorbar": {
              "outlinewidth": 0,
              "ticks": ""
             }
            },
            "type": "scatterternary"
           }
          ],
          "surface": [
           {
            "colorbar": {
             "outlinewidth": 0,
             "ticks": ""
            },
            "colorscale": [
             [
              0,
              "#0d0887"
             ],
             [
              0.1111111111111111,
              "#46039f"
             ],
             [
              0.2222222222222222,
              "#7201a8"
             ],
             [
              0.3333333333333333,
              "#9c179e"
             ],
             [
              0.4444444444444444,
              "#bd3786"
             ],
             [
              0.5555555555555556,
              "#d8576b"
             ],
             [
              0.6666666666666666,
              "#ed7953"
             ],
             [
              0.7777777777777778,
              "#fb9f3a"
             ],
             [
              0.8888888888888888,
              "#fdca26"
             ],
             [
              1,
              "#f0f921"
             ]
            ],
            "type": "surface"
           }
          ],
          "table": [
           {
            "cells": {
             "fill": {
              "color": "#EBF0F8"
             },
             "line": {
              "color": "white"
             }
            },
            "header": {
             "fill": {
              "color": "#C8D4E3"
             },
             "line": {
              "color": "white"
             }
            },
            "type": "table"
           }
          ]
         },
         "layout": {
          "annotationdefaults": {
           "arrowcolor": "#2a3f5f",
           "arrowhead": 0,
           "arrowwidth": 1
          },
          "autotypenumbers": "strict",
          "coloraxis": {
           "colorbar": {
            "outlinewidth": 0,
            "ticks": ""
           }
          },
          "colorscale": {
           "diverging": [
            [
             0,
             "#8e0152"
            ],
            [
             0.1,
             "#c51b7d"
            ],
            [
             0.2,
             "#de77ae"
            ],
            [
             0.3,
             "#f1b6da"
            ],
            [
             0.4,
             "#fde0ef"
            ],
            [
             0.5,
             "#f7f7f7"
            ],
            [
             0.6,
             "#e6f5d0"
            ],
            [
             0.7,
             "#b8e186"
            ],
            [
             0.8,
             "#7fbc41"
            ],
            [
             0.9,
             "#4d9221"
            ],
            [
             1,
             "#276419"
            ]
           ],
           "sequential": [
            [
             0,
             "#0d0887"
            ],
            [
             0.1111111111111111,
             "#46039f"
            ],
            [
             0.2222222222222222,
             "#7201a8"
            ],
            [
             0.3333333333333333,
             "#9c179e"
            ],
            [
             0.4444444444444444,
             "#bd3786"
            ],
            [
             0.5555555555555556,
             "#d8576b"
            ],
            [
             0.6666666666666666,
             "#ed7953"
            ],
            [
             0.7777777777777778,
             "#fb9f3a"
            ],
            [
             0.8888888888888888,
             "#fdca26"
            ],
            [
             1,
             "#f0f921"
            ]
           ],
           "sequentialminus": [
            [
             0,
             "#0d0887"
            ],
            [
             0.1111111111111111,
             "#46039f"
            ],
            [
             0.2222222222222222,
             "#7201a8"
            ],
            [
             0.3333333333333333,
             "#9c179e"
            ],
            [
             0.4444444444444444,
             "#bd3786"
            ],
            [
             0.5555555555555556,
             "#d8576b"
            ],
            [
             0.6666666666666666,
             "#ed7953"
            ],
            [
             0.7777777777777778,
             "#fb9f3a"
            ],
            [
             0.8888888888888888,
             "#fdca26"
            ],
            [
             1,
             "#f0f921"
            ]
           ]
          },
          "colorway": [
           "#636efa",
           "#EF553B",
           "#00cc96",
           "#ab63fa",
           "#FFA15A",
           "#19d3f3",
           "#FF6692",
           "#B6E880",
           "#FF97FF",
           "#FECB52"
          ],
          "font": {
           "color": "#2a3f5f"
          },
          "geo": {
           "bgcolor": "white",
           "lakecolor": "white",
           "landcolor": "#E5ECF6",
           "showlakes": true,
           "showland": true,
           "subunitcolor": "white"
          },
          "hoverlabel": {
           "align": "left"
          },
          "hovermode": "closest",
          "mapbox": {
           "style": "light"
          },
          "paper_bgcolor": "white",
          "plot_bgcolor": "#E5ECF6",
          "polar": {
           "angularaxis": {
            "gridcolor": "white",
            "linecolor": "white",
            "ticks": ""
           },
           "bgcolor": "#E5ECF6",
           "radialaxis": {
            "gridcolor": "white",
            "linecolor": "white",
            "ticks": ""
           }
          },
          "scene": {
           "xaxis": {
            "backgroundcolor": "#E5ECF6",
            "gridcolor": "white",
            "gridwidth": 2,
            "linecolor": "white",
            "showbackground": true,
            "ticks": "",
            "zerolinecolor": "white"
           },
           "yaxis": {
            "backgroundcolor": "#E5ECF6",
            "gridcolor": "white",
            "gridwidth": 2,
            "linecolor": "white",
            "showbackground": true,
            "ticks": "",
            "zerolinecolor": "white"
           },
           "zaxis": {
            "backgroundcolor": "#E5ECF6",
            "gridcolor": "white",
            "gridwidth": 2,
            "linecolor": "white",
            "showbackground": true,
            "ticks": "",
            "zerolinecolor": "white"
           }
          },
          "shapedefaults": {
           "line": {
            "color": "#2a3f5f"
           }
          },
          "ternary": {
           "aaxis": {
            "gridcolor": "white",
            "linecolor": "white",
            "ticks": ""
           },
           "baxis": {
            "gridcolor": "white",
            "linecolor": "white",
            "ticks": ""
           },
           "bgcolor": "#E5ECF6",
           "caxis": {
            "gridcolor": "white",
            "linecolor": "white",
            "ticks": ""
           }
          },
          "title": {
           "x": 0.05
          },
          "xaxis": {
           "automargin": true,
           "gridcolor": "white",
           "linecolor": "white",
           "ticks": "",
           "title": {
            "standoff": 15
           },
           "zerolinecolor": "white",
           "zerolinewidth": 2
          },
          "yaxis": {
           "automargin": true,
           "gridcolor": "white",
           "linecolor": "white",
           "ticks": "",
           "title": {
            "standoff": 15
           },
           "zerolinecolor": "white",
           "zerolinewidth": 2
          }
         }
        }
       }
      },
      "text/html": [
       "<div>                            <div id=\"08fe38dc-e140-413c-8c83-447cfd2fb461\" class=\"plotly-graph-div\" style=\"height:525px; width:100%;\"></div>            <script type=\"text/javascript\">                require([\"plotly\"], function(Plotly) {                    window.PLOTLYENV=window.PLOTLYENV || {};                                    if (document.getElementById(\"08fe38dc-e140-413c-8c83-447cfd2fb461\")) {                    Plotly.newPlot(                        \"08fe38dc-e140-413c-8c83-447cfd2fb461\",                        [{\"connectgaps\":true,\"line\":{\"color\":\"green\",\"shape\":\"linear\"},\"mode\":\"markers+lines\",\"name\":\"Date\",\"x\":[\"2021-01-02T02:18:50+00:00\",\"2021-01-03T11:21:07+00:00\",\"2021-01-04T00:32:20+00:00\",\"2021-01-08T21:14:49+00:00\",\"2021-01-09T11:28:42+00:00\",\"2021-01-09T11:30:10+00:00\",\"2021-01-11T03:17:04+00:00\",\"2021-01-22T02:40:40+00:00\",\"2021-01-25T15:09:21+00:00\",\"2021-01-25T21:02:08+00:00\",\"2021-01-26T04:06:10+00:00\",\"2021-01-26T12:06:45+00:00\",\"2021-01-27T00:17:42+00:00\",\"2021-01-27T00:20:18+00:00\",\"2021-01-27T01:42:08+00:00\",\"2021-01-27T02:00:40+00:00\",\"2021-01-30T07:53:04+00:00\",\"2021-01-31T08:57:04+00:00\",\"2021-02-01T12:32:42+00:00\",\"2021-02-02T11:56:40+00:00\",\"2021-02-04T00:04:00+00:00\",\"2021-02-04T01:37:12+00:00\",\"2021-02-10T17:05:07+00:00\",\"2021-02-12T15:22:38+00:00\",\"2021-02-14T22:58:44+00:00\",\"2021-02-15T04:34:20+00:00\",\"2021-02-16T13:22:34+00:00\",\"2021-02-16T22:19:24+00:00\",\"2021-02-18T00:43:27+00:00\",\"2021-02-18T11:02:21+00:00\",\"2021-02-18T19:19:54+00:00\",\"2021-02-22T23:45:22+00:00\",\"2021-02-25T23:56:27+00:00\",\"2021-02-26T13:45:03+00:00\"],\"y\":[1,1,1,1,1,1,1,1,1,1,1,1,1,1,1,1,1,1,1,1,1,1,1,1,1,1,1,1,1,1,1,1,1,1],\"type\":\"scatter\"},{\"connectgaps\":true,\"line\":{\"color\":\"green\",\"shape\":\"linear\"},\"mode\":\"markers+lines\",\"name\":\"ID\",\"x\":[\"2021-01-02T02:18:50+00:00\",\"2021-01-03T11:21:07+00:00\",\"2021-01-04T00:32:20+00:00\",\"2021-01-08T21:14:49+00:00\",\"2021-01-09T11:28:42+00:00\",\"2021-01-09T11:30:10+00:00\",\"2021-01-11T03:17:04+00:00\",\"2021-01-22T02:40:40+00:00\",\"2021-01-25T15:09:21+00:00\",\"2021-01-25T21:02:08+00:00\",\"2021-01-26T04:06:10+00:00\",\"2021-01-26T12:06:45+00:00\",\"2021-01-27T00:17:42+00:00\",\"2021-01-27T00:20:18+00:00\",\"2021-01-27T01:42:08+00:00\",\"2021-01-27T02:00:40+00:00\",\"2021-01-30T07:53:04+00:00\",\"2021-01-31T08:57:04+00:00\",\"2021-02-01T12:32:42+00:00\",\"2021-02-02T11:56:40+00:00\",\"2021-02-04T00:04:00+00:00\",\"2021-02-04T01:37:12+00:00\",\"2021-02-10T17:05:07+00:00\",\"2021-02-12T15:22:38+00:00\",\"2021-02-14T22:58:44+00:00\",\"2021-02-15T04:34:20+00:00\",\"2021-02-16T13:22:34+00:00\",\"2021-02-16T22:19:24+00:00\",\"2021-02-18T00:43:27+00:00\",\"2021-02-18T11:02:21+00:00\",\"2021-02-18T19:19:54+00:00\",\"2021-02-22T23:45:22+00:00\",\"2021-02-25T23:56:27+00:00\",\"2021-02-26T13:45:03+00:00\"],\"y\":[1,1,1,1,1,1,1,1,1,1,1,1,1,1,1,1,1,1,1,1,1,1,1,1,1,1,1,1,1,1,1,1,1,1],\"type\":\"scatter\"},{\"connectgaps\":true,\"line\":{\"color\":\"red\",\"shape\":\"linear\"},\"mode\":\"markers+lines\",\"name\":\"Date\",\"x\":[\"2021-01-02T02:09:33+00:00\",\"2021-01-02T02:34:13+00:00\",\"2021-01-03T18:32:32+00:00\",\"2021-01-04T16:50:18+00:00\",\"2021-01-08T03:37:34+00:00\",\"2021-01-08T20:46:39+00:00\",\"2021-01-09T23:07:20+00:00\",\"2021-01-11T18:26:34+00:00\",\"2021-01-12T03:30:19+00:00\",\"2021-01-14T19:31:15+00:00\",\"2021-01-16T00:40:25+00:00\",\"2021-01-18T03:37:40+00:00\",\"2021-01-19T21:37:25+00:00\",\"2021-01-20T12:34:51+00:00\",\"2021-01-23T10:43:26+00:00\",\"2021-01-24T11:12:04+00:00\",\"2021-01-24T19:59:10+00:00\",\"2021-01-27T05:11:01+00:00\",\"2021-01-27T18:14:15+00:00\",\"2021-01-28T19:50:33+00:00\",\"2021-01-29T03:11:13+00:00\",\"2021-02-01T00:20:30+00:00\",\"2021-02-01T01:03:56+00:00\",\"2021-02-01T03:28:39+00:00\",\"2021-02-02T10:45:29+00:00\",\"2021-02-06T00:19:50+00:00\",\"2021-02-13T13:36:29+00:00\",\"2021-02-13T21:09:43+00:00\",\"2021-02-14T20:07:55+00:00\",\"2021-02-15T23:02:26+00:00\",\"2021-02-17T02:50:03+00:00\",\"2021-02-18T13:32:36+00:00\",\"2021-02-21T09:55:35+00:00\",\"2021-02-22T13:22:52+00:00\",\"2021-02-23T14:32:35+00:00\",\"2021-02-25T16:34:31+00:00\",\"2021-02-25T23:56:47+00:00\",\"2021-02-26T15:19:44+00:00\",\"2021-02-27T14:38:20+00:00\",\"2021-02-27T23:11:11+00:00\"],\"y\":[1,2,1,1,1,1,1,1,1,1,2,1,1,1,1,1,1,1,1,1,1,1,1,1,1,1,1,1,1,1,1,1,1,1,1,1,1,1,1,1],\"type\":\"scatter\"},{\"connectgaps\":true,\"line\":{\"color\":\"red\",\"shape\":\"linear\"},\"mode\":\"markers+lines\",\"name\":\"ID\",\"x\":[\"2021-01-02T02:09:33+00:00\",\"2021-01-02T02:34:13+00:00\",\"2021-01-03T18:32:32+00:00\",\"2021-01-04T16:50:18+00:00\",\"2021-01-08T03:37:34+00:00\",\"2021-01-08T20:46:39+00:00\",\"2021-01-09T23:07:20+00:00\",\"2021-01-11T18:26:34+00:00\",\"2021-01-12T03:30:19+00:00\",\"2021-01-14T19:31:15+00:00\",\"2021-01-16T00:40:25+00:00\",\"2021-01-18T03:37:40+00:00\",\"2021-01-19T21:37:25+00:00\",\"2021-01-20T12:34:51+00:00\",\"2021-01-23T10:43:26+00:00\",\"2021-01-24T11:12:04+00:00\",\"2021-01-24T19:59:10+00:00\",\"2021-01-27T05:11:01+00:00\",\"2021-01-27T18:14:15+00:00\",\"2021-01-28T19:50:33+00:00\",\"2021-01-29T03:11:13+00:00\",\"2021-02-01T00:20:30+00:00\",\"2021-02-01T01:03:56+00:00\",\"2021-02-01T03:28:39+00:00\",\"2021-02-02T10:45:29+00:00\",\"2021-02-06T00:19:50+00:00\",\"2021-02-13T13:36:29+00:00\",\"2021-02-13T21:09:43+00:00\",\"2021-02-14T20:07:55+00:00\",\"2021-02-15T23:02:26+00:00\",\"2021-02-17T02:50:03+00:00\",\"2021-02-18T13:32:36+00:00\",\"2021-02-21T09:55:35+00:00\",\"2021-02-22T13:22:52+00:00\",\"2021-02-23T14:32:35+00:00\",\"2021-02-25T16:34:31+00:00\",\"2021-02-25T23:56:47+00:00\",\"2021-02-26T15:19:44+00:00\",\"2021-02-27T14:38:20+00:00\",\"2021-02-27T23:11:11+00:00\"],\"y\":[1,2,1,1,1,1,1,1,1,1,2,1,1,1,1,1,1,1,1,1,1,1,1,1,1,1,1,1,1,1,1,1,1,1,1,1,1,1,1,1],\"type\":\"scatter\"}],                        {\"template\":{\"data\":{\"histogram2dcontour\":[{\"type\":\"histogram2dcontour\",\"colorbar\":{\"outlinewidth\":0,\"ticks\":\"\"},\"colorscale\":[[0.0,\"#0d0887\"],[0.1111111111111111,\"#46039f\"],[0.2222222222222222,\"#7201a8\"],[0.3333333333333333,\"#9c179e\"],[0.4444444444444444,\"#bd3786\"],[0.5555555555555556,\"#d8576b\"],[0.6666666666666666,\"#ed7953\"],[0.7777777777777778,\"#fb9f3a\"],[0.8888888888888888,\"#fdca26\"],[1.0,\"#f0f921\"]]}],\"choropleth\":[{\"type\":\"choropleth\",\"colorbar\":{\"outlinewidth\":0,\"ticks\":\"\"}}],\"histogram2d\":[{\"type\":\"histogram2d\",\"colorbar\":{\"outlinewidth\":0,\"ticks\":\"\"},\"colorscale\":[[0.0,\"#0d0887\"],[0.1111111111111111,\"#46039f\"],[0.2222222222222222,\"#7201a8\"],[0.3333333333333333,\"#9c179e\"],[0.4444444444444444,\"#bd3786\"],[0.5555555555555556,\"#d8576b\"],[0.6666666666666666,\"#ed7953\"],[0.7777777777777778,\"#fb9f3a\"],[0.8888888888888888,\"#fdca26\"],[1.0,\"#f0f921\"]]}],\"heatmap\":[{\"type\":\"heatmap\",\"colorbar\":{\"outlinewidth\":0,\"ticks\":\"\"},\"colorscale\":[[0.0,\"#0d0887\"],[0.1111111111111111,\"#46039f\"],[0.2222222222222222,\"#7201a8\"],[0.3333333333333333,\"#9c179e\"],[0.4444444444444444,\"#bd3786\"],[0.5555555555555556,\"#d8576b\"],[0.6666666666666666,\"#ed7953\"],[0.7777777777777778,\"#fb9f3a\"],[0.8888888888888888,\"#fdca26\"],[1.0,\"#f0f921\"]]}],\"heatmapgl\":[{\"type\":\"heatmapgl\",\"colorbar\":{\"outlinewidth\":0,\"ticks\":\"\"},\"colorscale\":[[0.0,\"#0d0887\"],[0.1111111111111111,\"#46039f\"],[0.2222222222222222,\"#7201a8\"],[0.3333333333333333,\"#9c179e\"],[0.4444444444444444,\"#bd3786\"],[0.5555555555555556,\"#d8576b\"],[0.6666666666666666,\"#ed7953\"],[0.7777777777777778,\"#fb9f3a\"],[0.8888888888888888,\"#fdca26\"],[1.0,\"#f0f921\"]]}],\"contourcarpet\":[{\"type\":\"contourcarpet\",\"colorbar\":{\"outlinewidth\":0,\"ticks\":\"\"}}],\"contour\":[{\"type\":\"contour\",\"colorbar\":{\"outlinewidth\":0,\"ticks\":\"\"},\"colorscale\":[[0.0,\"#0d0887\"],[0.1111111111111111,\"#46039f\"],[0.2222222222222222,\"#7201a8\"],[0.3333333333333333,\"#9c179e\"],[0.4444444444444444,\"#bd3786\"],[0.5555555555555556,\"#d8576b\"],[0.6666666666666666,\"#ed7953\"],[0.7777777777777778,\"#fb9f3a\"],[0.8888888888888888,\"#fdca26\"],[1.0,\"#f0f921\"]]}],\"surface\":[{\"type\":\"surface\",\"colorbar\":{\"outlinewidth\":0,\"ticks\":\"\"},\"colorscale\":[[0.0,\"#0d0887\"],[0.1111111111111111,\"#46039f\"],[0.2222222222222222,\"#7201a8\"],[0.3333333333333333,\"#9c179e\"],[0.4444444444444444,\"#bd3786\"],[0.5555555555555556,\"#d8576b\"],[0.6666666666666666,\"#ed7953\"],[0.7777777777777778,\"#fb9f3a\"],[0.8888888888888888,\"#fdca26\"],[1.0,\"#f0f921\"]]}],\"mesh3d\":[{\"type\":\"mesh3d\",\"colorbar\":{\"outlinewidth\":0,\"ticks\":\"\"}}],\"scatter\":[{\"fillpattern\":{\"fillmode\":\"overlay\",\"size\":10,\"solidity\":0.2},\"type\":\"scatter\"}],\"parcoords\":[{\"type\":\"parcoords\",\"line\":{\"colorbar\":{\"outlinewidth\":0,\"ticks\":\"\"}}}],\"scatterpolargl\":[{\"type\":\"scatterpolargl\",\"marker\":{\"colorbar\":{\"outlinewidth\":0,\"ticks\":\"\"}}}],\"bar\":[{\"error_x\":{\"color\":\"#2a3f5f\"},\"error_y\":{\"color\":\"#2a3f5f\"},\"marker\":{\"line\":{\"color\":\"#E5ECF6\",\"width\":0.5},\"pattern\":{\"fillmode\":\"overlay\",\"size\":10,\"solidity\":0.2}},\"type\":\"bar\"}],\"scattergeo\":[{\"type\":\"scattergeo\",\"marker\":{\"colorbar\":{\"outlinewidth\":0,\"ticks\":\"\"}}}],\"scatterpolar\":[{\"type\":\"scatterpolar\",\"marker\":{\"colorbar\":{\"outlinewidth\":0,\"ticks\":\"\"}}}],\"histogram\":[{\"marker\":{\"pattern\":{\"fillmode\":\"overlay\",\"size\":10,\"solidity\":0.2}},\"type\":\"histogram\"}],\"scattergl\":[{\"type\":\"scattergl\",\"marker\":{\"colorbar\":{\"outlinewidth\":0,\"ticks\":\"\"}}}],\"scatter3d\":[{\"type\":\"scatter3d\",\"line\":{\"colorbar\":{\"outlinewidth\":0,\"ticks\":\"\"}},\"marker\":{\"colorbar\":{\"outlinewidth\":0,\"ticks\":\"\"}}}],\"scattermapbox\":[{\"type\":\"scattermapbox\",\"marker\":{\"colorbar\":{\"outlinewidth\":0,\"ticks\":\"\"}}}],\"scatterternary\":[{\"type\":\"scatterternary\",\"marker\":{\"colorbar\":{\"outlinewidth\":0,\"ticks\":\"\"}}}],\"scattercarpet\":[{\"type\":\"scattercarpet\",\"marker\":{\"colorbar\":{\"outlinewidth\":0,\"ticks\":\"\"}}}],\"carpet\":[{\"aaxis\":{\"endlinecolor\":\"#2a3f5f\",\"gridcolor\":\"white\",\"linecolor\":\"white\",\"minorgridcolor\":\"white\",\"startlinecolor\":\"#2a3f5f\"},\"baxis\":{\"endlinecolor\":\"#2a3f5f\",\"gridcolor\":\"white\",\"linecolor\":\"white\",\"minorgridcolor\":\"white\",\"startlinecolor\":\"#2a3f5f\"},\"type\":\"carpet\"}],\"table\":[{\"cells\":{\"fill\":{\"color\":\"#EBF0F8\"},\"line\":{\"color\":\"white\"}},\"header\":{\"fill\":{\"color\":\"#C8D4E3\"},\"line\":{\"color\":\"white\"}},\"type\":\"table\"}],\"barpolar\":[{\"marker\":{\"line\":{\"color\":\"#E5ECF6\",\"width\":0.5},\"pattern\":{\"fillmode\":\"overlay\",\"size\":10,\"solidity\":0.2}},\"type\":\"barpolar\"}],\"pie\":[{\"automargin\":true,\"type\":\"pie\"}]},\"layout\":{\"autotypenumbers\":\"strict\",\"colorway\":[\"#636efa\",\"#EF553B\",\"#00cc96\",\"#ab63fa\",\"#FFA15A\",\"#19d3f3\",\"#FF6692\",\"#B6E880\",\"#FF97FF\",\"#FECB52\"],\"font\":{\"color\":\"#2a3f5f\"},\"hovermode\":\"closest\",\"hoverlabel\":{\"align\":\"left\"},\"paper_bgcolor\":\"white\",\"plot_bgcolor\":\"#E5ECF6\",\"polar\":{\"bgcolor\":\"#E5ECF6\",\"angularaxis\":{\"gridcolor\":\"white\",\"linecolor\":\"white\",\"ticks\":\"\"},\"radialaxis\":{\"gridcolor\":\"white\",\"linecolor\":\"white\",\"ticks\":\"\"}},\"ternary\":{\"bgcolor\":\"#E5ECF6\",\"aaxis\":{\"gridcolor\":\"white\",\"linecolor\":\"white\",\"ticks\":\"\"},\"baxis\":{\"gridcolor\":\"white\",\"linecolor\":\"white\",\"ticks\":\"\"},\"caxis\":{\"gridcolor\":\"white\",\"linecolor\":\"white\",\"ticks\":\"\"}},\"coloraxis\":{\"colorbar\":{\"outlinewidth\":0,\"ticks\":\"\"}},\"colorscale\":{\"sequential\":[[0.0,\"#0d0887\"],[0.1111111111111111,\"#46039f\"],[0.2222222222222222,\"#7201a8\"],[0.3333333333333333,\"#9c179e\"],[0.4444444444444444,\"#bd3786\"],[0.5555555555555556,\"#d8576b\"],[0.6666666666666666,\"#ed7953\"],[0.7777777777777778,\"#fb9f3a\"],[0.8888888888888888,\"#fdca26\"],[1.0,\"#f0f921\"]],\"sequentialminus\":[[0.0,\"#0d0887\"],[0.1111111111111111,\"#46039f\"],[0.2222222222222222,\"#7201a8\"],[0.3333333333333333,\"#9c179e\"],[0.4444444444444444,\"#bd3786\"],[0.5555555555555556,\"#d8576b\"],[0.6666666666666666,\"#ed7953\"],[0.7777777777777778,\"#fb9f3a\"],[0.8888888888888888,\"#fdca26\"],[1.0,\"#f0f921\"]],\"diverging\":[[0,\"#8e0152\"],[0.1,\"#c51b7d\"],[0.2,\"#de77ae\"],[0.3,\"#f1b6da\"],[0.4,\"#fde0ef\"],[0.5,\"#f7f7f7\"],[0.6,\"#e6f5d0\"],[0.7,\"#b8e186\"],[0.8,\"#7fbc41\"],[0.9,\"#4d9221\"],[1,\"#276419\"]]},\"xaxis\":{\"gridcolor\":\"white\",\"linecolor\":\"white\",\"ticks\":\"\",\"title\":{\"standoff\":15},\"zerolinecolor\":\"white\",\"automargin\":true,\"zerolinewidth\":2},\"yaxis\":{\"gridcolor\":\"white\",\"linecolor\":\"white\",\"ticks\":\"\",\"title\":{\"standoff\":15},\"zerolinecolor\":\"white\",\"automargin\":true,\"zerolinewidth\":2},\"scene\":{\"xaxis\":{\"backgroundcolor\":\"#E5ECF6\",\"gridcolor\":\"white\",\"linecolor\":\"white\",\"showbackground\":true,\"ticks\":\"\",\"zerolinecolor\":\"white\",\"gridwidth\":2},\"yaxis\":{\"backgroundcolor\":\"#E5ECF6\",\"gridcolor\":\"white\",\"linecolor\":\"white\",\"showbackground\":true,\"ticks\":\"\",\"zerolinecolor\":\"white\",\"gridwidth\":2},\"zaxis\":{\"backgroundcolor\":\"#E5ECF6\",\"gridcolor\":\"white\",\"linecolor\":\"white\",\"showbackground\":true,\"ticks\":\"\",\"zerolinecolor\":\"white\",\"gridwidth\":2}},\"shapedefaults\":{\"line\":{\"color\":\"#2a3f5f\"}},\"annotationdefaults\":{\"arrowcolor\":\"#2a3f5f\",\"arrowhead\":0,\"arrowwidth\":1},\"geo\":{\"bgcolor\":\"white\",\"landcolor\":\"#E5ECF6\",\"subunitcolor\":\"white\",\"showland\":true,\"showlakes\":true,\"lakecolor\":\"white\"},\"title\":{\"x\":0.05},\"mapbox\":{\"style\":\"light\"}}}},                        {\"responsive\": true}                    ).then(function(){\n",
       "                            \n",
       "var gd = document.getElementById('08fe38dc-e140-413c-8c83-447cfd2fb461');\n",
       "var x = new MutationObserver(function (mutations, observer) {{\n",
       "        var display = window.getComputedStyle(gd).display;\n",
       "        if (!display || display === 'none') {{\n",
       "            console.log([gd, 'removed!']);\n",
       "            Plotly.purge(gd);\n",
       "            observer.disconnect();\n",
       "        }}\n",
       "}});\n",
       "\n",
       "// Listen for the removal of the full notebook cells\n",
       "var notebookContainer = gd.closest('#notebook-container');\n",
       "if (notebookContainer) {{\n",
       "    x.observe(notebookContainer, {childList: true});\n",
       "}}\n",
       "\n",
       "// Listen for the clearing of the current output cell\n",
       "var outputEl = gd.closest('.output');\n",
       "if (outputEl) {{\n",
       "    x.observe(outputEl, {childList: true});\n",
       "}}\n",
       "\n",
       "                        })                };                });            </script>        </div>"
      ]
     },
     "metadata": {},
     "output_type": "display_data"
    }
   ],
   "source": [
    "fig.show()"
   ]
  },
  {
   "cell_type": "markdown",
   "id": "3bdf627e",
   "metadata": {},
   "source": [
    "There is a spike on January 02, 2021 which declines instantly followed by another spike on January 14, 2021 where the spike is maintained until the 18th of that month. There are no further spikes after that date. "
   ]
  },
  {
   "cell_type": "code",
   "execution_count": 131,
   "id": "37a1964c",
   "metadata": {},
   "outputs": [
    {
     "data": {
      "text/plain": [
       "(-0.5, 399.5, 199.5, -0.5)"
      ]
     },
     "execution_count": 131,
     "metadata": {},
     "output_type": "execute_result"
    },
    {
     "data": {
      "image/png": "[encoded data removed]",
      "text/plain": [
       "<Figure size 640x480 with 1 Axes>"
      ]
     },
     "metadata": {},
     "output_type": "display_data"
    }
   ],
   "source": [
    "#Assessing the Wordcloud\n",
    "\n",
    "spike2_df = tweets_df[(tweets_df['Date']>='2021-01-01') & (tweets_df['Date']<='2021-02-28')]\n",
    "negative = spike2_df[spike2_df['sentiment_category']=='negative']\n",
    "wordcloud = WordCloud(max_font_size=50, max_words=500, background_color=\"white\").generate(str(negative['tweet_clean']))\n",
    "plt.figure()\n",
    "plt.imshow(wordcloud, interpolation=\"bilinear\")\n",
    "plt.axis(\"off\")"
   ]
  },
  {
   "cell_type": "code",
   "execution_count": 132,
   "id": "a8a3245e",
   "metadata": {},
   "outputs": [],
   "source": [
    "plt.show()"
   ]
  },
  {
   "cell_type": "markdown",
   "id": "3df3b309",
   "metadata": {},
   "source": [
    "There are substantially more words generated for this time period. Words such as 'mental health', 'anxiety',  'hate and 'control' are more prominent in the cloud. The word 'Conference' is also prominent which could indicate that there was a summit of sorts on mental health during this time period. At the time we were entering into Year 2 of the pandemic and so the conference could have been an attempt to raise awareness on the importance of mental health care."
   ]
  },
  {
   "cell_type": "code",
   "execution_count": 133,
   "id": "c7cdb265",
   "metadata": {},
   "outputs": [],
   "source": [
    "#Checking the final spike \n",
    "\n",
    "spike3_df = tweets_df[(tweets_df['Date']>='2021-10-01') & (tweets_df['Date']<='2021-11-30')]\n",
    "\n",
    "neg = spike3_df[spike3_df['sentiment_category']=='negative']\n",
    "neg = neg.groupby(['Date'],as_index=False).count()\n",
    "\n",
    "pos = spike3_df[spike3_df['sentiment_category']=='positive']\n",
    "pos = pos.groupby(['Date'],as_index=False).count()\n",
    "\n",
    "pos = pos[['Date','ID']]\n",
    "neg = neg[['Date','ID']]"
   ]
  },
  {
   "cell_type": "code",
   "execution_count": 134,
   "id": "2b1f1210",
   "metadata": {},
   "outputs": [],
   "source": [
    "fig = go.Figure()\n",
    "for col in pos.columns:\n",
    "    fig.add_trace(go.Scatter(x=pos['Date'], y=pos['ID'],\n",
    "                             name = col,\n",
    "                             mode = 'markers+lines',\n",
    "                             line=dict(shape='linear'),\n",
    "                             connectgaps=True,\n",
    "                             line_color='green'\n",
    "                             )\n",
    "                 )\n",
    "\n",
    "for col in neg.columns:\n",
    "    fig.add_trace(go.Scatter(x=neg['Date'], y=neg['ID'],\n",
    "                             name = col,\n",
    "                             mode = 'markers+lines',\n",
    "                             line=dict(shape='linear'),\n",
    "                             connectgaps=True,\n",
    "                             line_color='red'\n",
    "                             )\n",
    "                 )"
   ]
  },
  {
   "cell_type": "code",
   "execution_count": 135,
   "id": "6af7610a",
   "metadata": {},
   "outputs": [
    {
     "data": {
      "application/vnd.plotly.v1+json": {
       "config": {
        "plotlyServerURL": "https://plot.ly"
       },
       "data": [
        {
         "connectgaps": true,
         "line": {
          "color": "green",
          "shape": "linear"
         },
         "mode": "markers+lines",
         "name": "Date",
         "type": "scatter",
         "x": [
          "2021-10-09T14:23:54+00:00",
          "2021-10-10T13:01:14+00:00",
          "2021-10-10T14:00:23+00:00",
          "2021-10-10T14:00:24+00:00",
          "2021-10-10T14:36:15+00:00",
          "2021-10-11T00:41:35+00:00",
          "2021-10-12T05:06:42+00:00",
          "2021-10-12T14:45:58+00:00",
          "2021-10-12T15:46:39+00:00",
          "2021-10-13T11:57:59+00:00",
          "2021-10-13T12:05:14+00:00",
          "2021-10-23T22:43:21+00:00",
          "2021-10-24T14:13:31+00:00",
          "2021-10-26T17:08:46+00:00",
          "2021-10-26T21:22:17+00:00",
          "2021-10-27T15:48:39+00:00",
          "2021-10-31T17:27:18+00:00",
          "2021-10-31T21:30:57+00:00",
          "2021-11-02T00:09:07+00:00",
          "2021-11-02T22:40:38+00:00",
          "2021-11-03T08:42:46+00:00",
          "2021-11-03T08:57:18+00:00",
          "2021-11-03T20:54:13+00:00",
          "2021-11-06T00:41:36+00:00",
          "2021-11-06T02:16:39+00:00",
          "2021-11-10T19:47:19+00:00",
          "2021-11-11T02:41:39+00:00",
          "2021-11-14T14:12:49+00:00",
          "2021-11-15T21:48:28+00:00",
          "2021-11-16T13:05:58+00:00",
          "2021-11-19T12:48:42+00:00",
          "2021-11-21T19:09:44+00:00",
          "2021-11-24T12:28:39+00:00",
          "2021-11-29T01:35:58+00:00",
          "2021-11-29T20:33:16+00:00"
         ],
         "y": [
          1,
          1,
          1,
          1,
          1,
          1,
          1,
          1,
          1,
          1,
          1,
          1,
          1,
          1,
          1,
          1,
          1,
          1,
          1,
          1,
          1,
          1,
          1,
          1,
          1,
          1,
          1,
          1,
          1,
          1,
          1,
          1,
          1,
          1,
          1
         ]
        },
        {
         "connectgaps": true,
         "line": {
          "color": "green",
          "shape": "linear"
         },
         "mode": "markers+lines",
         "name": "ID",
         "type": "scatter",
         "x": [
          "2021-10-09T14:23:54+00:00",
          "2021-10-10T13:01:14+00:00",
          "2021-10-10T14:00:23+00:00",
          "2021-10-10T14:00:24+00:00",
          "2021-10-10T14:36:15+00:00",
          "2021-10-11T00:41:35+00:00",
          "2021-10-12T05:06:42+00:00",
          "2021-10-12T14:45:58+00:00",
          "2021-10-12T15:46:39+00:00",
          "2021-10-13T11:57:59+00:00",
          "2021-10-13T12:05:14+00:00",
          "2021-10-23T22:43:21+00:00",
          "2021-10-24T14:13:31+00:00",
          "2021-10-26T17:08:46+00:00",
          "2021-10-26T21:22:17+00:00",
          "2021-10-27T15:48:39+00:00",
          "2021-10-31T17:27:18+00:00",
          "2021-10-31T21:30:57+00:00",
          "2021-11-02T00:09:07+00:00",
          "2021-11-02T22:40:38+00:00",
          "2021-11-03T08:42:46+00:00",
          "2021-11-03T08:57:18+00:00",
          "2021-11-03T20:54:13+00:00",
          "2021-11-06T00:41:36+00:00",
          "2021-11-06T02:16:39+00:00",
          "2021-11-10T19:47:19+00:00",
          "2021-11-11T02:41:39+00:00",
          "2021-11-14T14:12:49+00:00",
          "2021-11-15T21:48:28+00:00",
          "2021-11-16T13:05:58+00:00",
          "2021-11-19T12:48:42+00:00",
          "2021-11-21T19:09:44+00:00",
          "2021-11-24T12:28:39+00:00",
          "2021-11-29T01:35:58+00:00",
          "2021-11-29T20:33:16+00:00"
         ],
         "y": [
          1,
          1,
          1,
          1,
          1,
          1,
          1,
          1,
          1,
          1,
          1,
          1,
          1,
          1,
          1,
          1,
          1,
          1,
          1,
          1,
          1,
          1,
          1,
          1,
          1,
          1,
          1,
          1,
          1,
          1,
          1,
          1,
          1,
          1,
          1
         ]
        },
        {
         "connectgaps": true,
         "line": {
          "color": "red",
          "shape": "linear"
         },
         "mode": "markers+lines",
         "name": "Date",
         "type": "scatter",
         "x": [
          "2021-10-04T23:19:45+00:00",
          "2021-10-07T16:22:09+00:00",
          "2021-10-08T18:31:18+00:00",
          "2021-10-10T12:43:03+00:00",
          "2021-10-12T04:34:16+00:00",
          "2021-10-13T12:50:58+00:00",
          "2021-10-17T22:08:48+00:00",
          "2021-10-20T23:46:53+00:00",
          "2021-10-21T14:51:53+00:00",
          "2021-10-22T11:47:20+00:00",
          "2021-10-25T15:33:17+00:00",
          "2021-10-25T23:13:14+00:00",
          "2021-10-26T18:51:51+00:00",
          "2021-10-27T01:32:48+00:00",
          "2021-10-28T01:44:53+00:00",
          "2021-10-30T19:30:32+00:00",
          "2021-10-31T22:44:43+00:00",
          "2021-10-31T22:45:56+00:00",
          "2021-11-01T02:02:49+00:00",
          "2021-11-02T16:26:53+00:00",
          "2021-11-04T22:01:37+00:00",
          "2021-11-04T22:42:50+00:00",
          "2021-11-07T10:45:50+00:00",
          "2021-11-08T21:16:36+00:00",
          "2021-11-09T02:46:48+00:00",
          "2021-11-13T10:34:40+00:00",
          "2021-11-14T00:14:01+00:00",
          "2021-11-14T15:20:52+00:00",
          "2021-11-15T21:45:05+00:00",
          "2021-11-19T02:25:19+00:00",
          "2021-11-22T03:13:56+00:00",
          "2021-11-26T15:42:58+00:00",
          "2021-11-27T18:58:42+00:00",
          "2021-11-27T23:01:01+00:00"
         ],
         "y": [
          1,
          1,
          1,
          2,
          1,
          1,
          1,
          1,
          1,
          1,
          1,
          1,
          1,
          1,
          1,
          1,
          1,
          1,
          1,
          1,
          1,
          1,
          1,
          1,
          1,
          1,
          1,
          1,
          1,
          1,
          1,
          1,
          1,
          1
         ]
        },
        {
         "connectgaps": true,
         "line": {
          "color": "red",
          "shape": "linear"
         },
         "mode": "markers+lines",
         "name": "ID",
         "type": "scatter",
         "x": [
          "2021-10-04T23:19:45+00:00",
          "2021-10-07T16:22:09+00:00",
          "2021-10-08T18:31:18+00:00",
          "2021-10-10T12:43:03+00:00",
          "2021-10-12T04:34:16+00:00",
          "2021-10-13T12:50:58+00:00",
          "2021-10-17T22:08:48+00:00",
          "2021-10-20T23:46:53+00:00",
          "2021-10-21T14:51:53+00:00",
          "2021-10-22T11:47:20+00:00",
          "2021-10-25T15:33:17+00:00",
          "2021-10-25T23:13:14+00:00",
          "2021-10-26T18:51:51+00:00",
          "2021-10-27T01:32:48+00:00",
          "2021-10-28T01:44:53+00:00",
          "2021-10-30T19:30:32+00:00",
          "2021-10-31T22:44:43+00:00",
          "2021-10-31T22:45:56+00:00",
          "2021-11-01T02:02:49+00:00",
          "2021-11-02T16:26:53+00:00",
          "2021-11-04T22:01:37+00:00",
          "2021-11-04T22:42:50+00:00",
          "2021-11-07T10:45:50+00:00",
          "2021-11-08T21:16:36+00:00",
          "2021-11-09T02:46:48+00:00",
          "2021-11-13T10:34:40+00:00",
          "2021-11-14T00:14:01+00:00",
          "2021-11-14T15:20:52+00:00",
          "2021-11-15T21:45:05+00:00",
          "2021-11-19T02:25:19+00:00",
          "2021-11-22T03:13:56+00:00",
          "2021-11-26T15:42:58+00:00",
          "2021-11-27T18:58:42+00:00",
          "2021-11-27T23:01:01+00:00"
         ],
         "y": [
          1,
          1,
          1,
          2,
          1,
          1,
          1,
          1,
          1,
          1,
          1,
          1,
          1,
          1,
          1,
          1,
          1,
          1,
          1,
          1,
          1,
          1,
          1,
          1,
          1,
          1,
          1,
          1,
          1,
          1,
          1,
          1,
          1,
          1
         ]
        }
       ],
       "layout": {
        "template": {
         "data": {
          "bar": [
           {
            "error_x": {
             "color": "#2a3f5f"
            },
            "error_y": {
             "color": "#2a3f5f"
            },
            "marker": {
             "line": {
              "color": "#E5ECF6",
              "width": 0.5
             },
             "pattern": {
              "fillmode": "overlay",
              "size": 10,
              "solidity": 0.2
             }
            },
            "type": "bar"
           }
          ],
          "barpolar": [
           {
            "marker": {
             "line": {
              "color": "#E5ECF6",
              "width": 0.5
             },
             "pattern": {
              "fillmode": "overlay",
              "size": 10,
              "solidity": 0.2
             }
            },
            "type": "barpolar"
           }
          ],
          "carpet": [
           {
            "aaxis": {
             "endlinecolor": "#2a3f5f",
             "gridcolor": "white",
             "linecolor": "white",
             "minorgridcolor": "white",
             "startlinecolor": "#2a3f5f"
            },
            "baxis": {
             "endlinecolor": "#2a3f5f",
             "gridcolor": "white",
             "linecolor": "white",
             "minorgridcolor": "white",
             "startlinecolor": "#2a3f5f"
            },
            "type": "carpet"
           }
          ],
          "choropleth": [
           {
            "colorbar": {
             "outlinewidth": 0,
             "ticks": ""
            },
            "type": "choropleth"
           }
          ],
          "contour": [
           {
            "colorbar": {
             "outlinewidth": 0,
             "ticks": ""
            },
            "colorscale": [
             [
              0,
              "#0d0887"
             ],
             [
              0.1111111111111111,
              "#46039f"
             ],
             [
              0.2222222222222222,
              "#7201a8"
             ],
             [
              0.3333333333333333,
              "#9c179e"
             ],
             [
              0.4444444444444444,
              "#bd3786"
             ],
             [
              0.5555555555555556,
              "#d8576b"
             ],
             [
              0.6666666666666666,
              "#ed7953"
             ],
             [
              0.7777777777777778,
              "#fb9f3a"
             ],
             [
              0.8888888888888888,
              "#fdca26"
             ],
             [
              1,
              "#f0f921"
             ]
            ],
            "type": "contour"
           }
          ],
          "contourcarpet": [
           {
            "colorbar": {
             "outlinewidth": 0,
             "ticks": ""
            },
            "type": "contourcarpet"
           }
          ],
          "heatmap": [
           {
            "colorbar": {
             "outlinewidth": 0,
             "ticks": ""
            },
            "colorscale": [
             [
              0,
              "#0d0887"
             ],
             [
              0.1111111111111111,
              "#46039f"
             ],
             [
              0.2222222222222222,
              "#7201a8"
             ],
             [
              0.3333333333333333,
              "#9c179e"
             ],
             [
              0.4444444444444444,
              "#bd3786"
             ],
             [
              0.5555555555555556,
              "#d8576b"
             ],
             [
              0.6666666666666666,
              "#ed7953"
             ],
             [
              0.7777777777777778,
              "#fb9f3a"
             ],
             [
              0.8888888888888888,
              "#fdca26"
             ],
             [
              1,
              "#f0f921"
             ]
            ],
            "type": "heatmap"
           }
          ],
          "heatmapgl": [
           {
            "colorbar": {
             "outlinewidth": 0,
             "ticks": ""
            },
            "colorscale": [
             [
              0,
              "#0d0887"
             ],
             [
              0.1111111111111111,
              "#46039f"
             ],
             [
              0.2222222222222222,
              "#7201a8"
             ],
             [
              0.3333333333333333,
              "#9c179e"
             ],
             [
              0.4444444444444444,
              "#bd3786"
             ],
             [
              0.5555555555555556,
              "#d8576b"
             ],
             [
              0.6666666666666666,
              "#ed7953"
             ],
             [
              0.7777777777777778,
              "#fb9f3a"
             ],
             [
              0.8888888888888888,
              "#fdca26"
             ],
             [
              1,
              "#f0f921"
             ]
            ],
            "type": "heatmapgl"
           }
          ],
          "histogram": [
           {
            "marker": {
             "pattern": {
              "fillmode": "overlay",
              "size": 10,
              "solidity": 0.2
             }
            },
            "type": "histogram"
           }
          ],
          "histogram2d": [
           {
            "colorbar": {
             "outlinewidth": 0,
             "ticks": ""
            },
            "colorscale": [
             [
              0,
              "#0d0887"
             ],
             [
              0.1111111111111111,
              "#46039f"
             ],
             [
              0.2222222222222222,
              "#7201a8"
             ],
             [
              0.3333333333333333,
              "#9c179e"
             ],
             [
              0.4444444444444444,
              "#bd3786"
             ],
             [
              0.5555555555555556,
              "#d8576b"
             ],
             [
              0.6666666666666666,
              "#ed7953"
             ],
             [
              0.7777777777777778,
              "#fb9f3a"
             ],
             [
              0.8888888888888888,
              "#fdca26"
             ],
             [
              1,
              "#f0f921"
             ]
            ],
            "type": "histogram2d"
           }
          ],
          "histogram2dcontour": [
           {
            "colorbar": {
             "outlinewidth": 0,
             "ticks": ""
            },
            "colorscale": [
             [
              0,
              "#0d0887"
             ],
             [
              0.1111111111111111,
              "#46039f"
             ],
             [
              0.2222222222222222,
              "#7201a8"
             ],
             [
              0.3333333333333333,
              "#9c179e"
             ],
             [
              0.4444444444444444,
              "#bd3786"
             ],
             [
              0.5555555555555556,
              "#d8576b"
             ],
             [
              0.6666666666666666,
              "#ed7953"
             ],
             [
              0.7777777777777778,
              "#fb9f3a"
             ],
             [
              0.8888888888888888,
              "#fdca26"
             ],
             [
              1,
              "#f0f921"
             ]
            ],
            "type": "histogram2dcontour"
           }
          ],
          "mesh3d": [
           {
            "colorbar": {
             "outlinewidth": 0,
             "ticks": ""
            },
            "type": "mesh3d"
           }
          ],
          "parcoords": [
           {
            "line": {
             "colorbar": {
              "outlinewidth": 0,
              "ticks": ""
             }
            },
            "type": "parcoords"
           }
          ],
          "pie": [
           {
            "automargin": true,
            "type": "pie"
           }
          ],
          "scatter": [
           {
            "fillpattern": {
             "fillmode": "overlay",
             "size": 10,
             "solidity": 0.2
            },
            "type": "scatter"
           }
          ],
          "scatter3d": [
           {
            "line": {
             "colorbar": {
              "outlinewidth": 0,
              "ticks": ""
             }
            },
            "marker": {
             "colorbar": {
              "outlinewidth": 0,
              "ticks": ""
             }
            },
            "type": "scatter3d"
           }
          ],
          "scattercarpet": [
           {
            "marker": {
             "colorbar": {
              "outlinewidth": 0,
              "ticks": ""
             }
            },
            "type": "scattercarpet"
           }
          ],
          "scattergeo": [
           {
            "marker": {
             "colorbar": {
              "outlinewidth": 0,
              "ticks": ""
             }
            },
            "type": "scattergeo"
           }
          ],
          "scattergl": [
           {
            "marker": {
             "colorbar": {
              "outlinewidth": 0,
              "ticks": ""
             }
            },
            "type": "scattergl"
           }
          ],
          "scattermapbox": [
           {
            "marker": {
             "colorbar": {
              "outlinewidth": 0,
              "ticks": ""
             }
            },
            "type": "scattermapbox"
           }
          ],
          "scatterpolar": [
           {
            "marker": {
             "colorbar": {
              "outlinewidth": 0,
              "ticks": ""
             }
            },
            "type": "scatterpolar"
           }
          ],
          "scatterpolargl": [
           {
            "marker": {
             "colorbar": {
              "outlinewidth": 0,
              "ticks": ""
             }
            },
            "type": "scatterpolargl"
           }
          ],
          "scatterternary": [
           {
            "marker": {
             "colorbar": {
              "outlinewidth": 0,
              "ticks": ""
             }
            },
            "type": "scatterternary"
           }
          ],
          "surface": [
           {
            "colorbar": {
             "outlinewidth": 0,
             "ticks": ""
            },
            "colorscale": [
             [
              0,
              "#0d0887"
             ],
             [
              0.1111111111111111,
              "#46039f"
             ],
             [
              0.2222222222222222,
              "#7201a8"
             ],
             [
              0.3333333333333333,
              "#9c179e"
             ],
             [
              0.4444444444444444,
              "#bd3786"
             ],
             [
              0.5555555555555556,
              "#d8576b"
             ],
             [
              0.6666666666666666,
              "#ed7953"
             ],
             [
              0.7777777777777778,
              "#fb9f3a"
             ],
             [
              0.8888888888888888,
              "#fdca26"
             ],
             [
              1,
              "#f0f921"
             ]
            ],
            "type": "surface"
           }
          ],
          "table": [
           {
            "cells": {
             "fill": {
              "color": "#EBF0F8"
             },
             "line": {
              "color": "white"
             }
            },
            "header": {
             "fill": {
              "color": "#C8D4E3"
             },
             "line": {
              "color": "white"
             }
            },
            "type": "table"
           }
          ]
         },
         "layout": {
          "annotationdefaults": {
           "arrowcolor": "#2a3f5f",
           "arrowhead": 0,
           "arrowwidth": 1
          },
          "autotypenumbers": "strict",
          "coloraxis": {
           "colorbar": {
            "outlinewidth": 0,
            "ticks": ""
           }
          },
          "colorscale": {
           "diverging": [
            [
             0,
             "#8e0152"
            ],
            [
             0.1,
             "#c51b7d"
            ],
            [
             0.2,
             "#de77ae"
            ],
            [
             0.3,
             "#f1b6da"
            ],
            [
             0.4,
             "#fde0ef"
            ],
            [
             0.5,
             "#f7f7f7"
            ],
            [
             0.6,
             "#e6f5d0"
            ],
            [
             0.7,
             "#b8e186"
            ],
            [
             0.8,
             "#7fbc41"
            ],
            [
             0.9,
             "#4d9221"
            ],
            [
             1,
             "#276419"
            ]
           ],
           "sequential": [
            [
             0,
             "#0d0887"
            ],
            [
             0.1111111111111111,
             "#46039f"
            ],
            [
             0.2222222222222222,
             "#7201a8"
            ],
            [
             0.3333333333333333,
             "#9c179e"
            ],
            [
             0.4444444444444444,
             "#bd3786"
            ],
            [
             0.5555555555555556,
             "#d8576b"
            ],
            [
             0.6666666666666666,
             "#ed7953"
            ],
            [
             0.7777777777777778,
             "#fb9f3a"
            ],
            [
             0.8888888888888888,
             "#fdca26"
            ],
            [
             1,
             "#f0f921"
            ]
           ],
           "sequentialminus": [
            [
             0,
             "#0d0887"
            ],
            [
             0.1111111111111111,
             "#46039f"
            ],
            [
             0.2222222222222222,
             "#7201a8"
            ],
            [
             0.3333333333333333,
             "#9c179e"
            ],
            [
             0.4444444444444444,
             "#bd3786"
            ],
            [
             0.5555555555555556,
             "#d8576b"
            ],
            [
             0.6666666666666666,
             "#ed7953"
            ],
            [
             0.7777777777777778,
             "#fb9f3a"
            ],
            [
             0.8888888888888888,
             "#fdca26"
            ],
            [
             1,
             "#f0f921"
            ]
           ]
          },
          "colorway": [
           "#636efa",
           "#EF553B",
           "#00cc96",
           "#ab63fa",
           "#FFA15A",
           "#19d3f3",
           "#FF6692",
           "#B6E880",
           "#FF97FF",
           "#FECB52"
          ],
          "font": {
           "color": "#2a3f5f"
          },
          "geo": {
           "bgcolor": "white",
           "lakecolor": "white",
           "landcolor": "#E5ECF6",
           "showlakes": true,
           "showland": true,
           "subunitcolor": "white"
          },
          "hoverlabel": {
           "align": "left"
          },
          "hovermode": "closest",
          "mapbox": {
           "style": "light"
          },
          "paper_bgcolor": "white",
          "plot_bgcolor": "#E5ECF6",
          "polar": {
           "angularaxis": {
            "gridcolor": "white",
            "linecolor": "white",
            "ticks": ""
           },
           "bgcolor": "#E5ECF6",
           "radialaxis": {
            "gridcolor": "white",
            "linecolor": "white",
            "ticks": ""
           }
          },
          "scene": {
           "xaxis": {
            "backgroundcolor": "#E5ECF6",
            "gridcolor": "white",
            "gridwidth": 2,
            "linecolor": "white",
            "showbackground": true,
            "ticks": "",
            "zerolinecolor": "white"
           },
           "yaxis": {
            "backgroundcolor": "#E5ECF6",
            "gridcolor": "white",
            "gridwidth": 2,
            "linecolor": "white",
            "showbackground": true,
            "ticks": "",
            "zerolinecolor": "white"
           },
           "zaxis": {
            "backgroundcolor": "#E5ECF6",
            "gridcolor": "white",
            "gridwidth": 2,
            "linecolor": "white",
            "showbackground": true,
            "ticks": "",
            "zerolinecolor": "white"
           }
          },
          "shapedefaults": {
           "line": {
            "color": "#2a3f5f"
           }
          },
          "ternary": {
           "aaxis": {
            "gridcolor": "white",
            "linecolor": "white",
            "ticks": ""
           },
           "baxis": {
            "gridcolor": "white",
            "linecolor": "white",
            "ticks": ""
           },
           "bgcolor": "#E5ECF6",
           "caxis": {
            "gridcolor": "white",
            "linecolor": "white",
            "ticks": ""
           }
          },
          "title": {
           "x": 0.05
          },
          "xaxis": {
           "automargin": true,
           "gridcolor": "white",
           "linecolor": "white",
           "ticks": "",
           "title": {
            "standoff": 15
           },
           "zerolinecolor": "white",
           "zerolinewidth": 2
          },
          "yaxis": {
           "automargin": true,
           "gridcolor": "white",
           "linecolor": "white",
           "ticks": "",
           "title": {
            "standoff": 15
           },
           "zerolinecolor": "white",
           "zerolinewidth": 2
          }
         }
        }
       }
      },
      "text/html": [
       "<div>                            <div id=\"6d4c7b53-d09d-4d3f-98e7-364768a15fce\" class=\"plotly-graph-div\" style=\"height:525px; width:100%;\"></div>            <script type=\"text/javascript\">                require([\"plotly\"], function(Plotly) {                    window.PLOTLYENV=window.PLOTLYENV || {};                                    if (document.getElementById(\"6d4c7b53-d09d-4d3f-98e7-364768a15fce\")) {                    Plotly.newPlot(                        \"6d4c7b53-d09d-4d3f-98e7-364768a15fce\",                        [{\"connectgaps\":true,\"line\":{\"color\":\"green\",\"shape\":\"linear\"},\"mode\":\"markers+lines\",\"name\":\"Date\",\"x\":[\"2021-10-09T14:23:54+00:00\",\"2021-10-10T13:01:14+00:00\",\"2021-10-10T14:00:23+00:00\",\"2021-10-10T14:00:24+00:00\",\"2021-10-10T14:36:15+00:00\",\"2021-10-11T00:41:35+00:00\",\"2021-10-12T05:06:42+00:00\",\"2021-10-12T14:45:58+00:00\",\"2021-10-12T15:46:39+00:00\",\"2021-10-13T11:57:59+00:00\",\"2021-10-13T12:05:14+00:00\",\"2021-10-23T22:43:21+00:00\",\"2021-10-24T14:13:31+00:00\",\"2021-10-26T17:08:46+00:00\",\"2021-10-26T21:22:17+00:00\",\"2021-10-27T15:48:39+00:00\",\"2021-10-31T17:27:18+00:00\",\"2021-10-31T21:30:57+00:00\",\"2021-11-02T00:09:07+00:00\",\"2021-11-02T22:40:38+00:00\",\"2021-11-03T08:42:46+00:00\",\"2021-11-03T08:57:18+00:00\",\"2021-11-03T20:54:13+00:00\",\"2021-11-06T00:41:36+00:00\",\"2021-11-06T02:16:39+00:00\",\"2021-11-10T19:47:19+00:00\",\"2021-11-11T02:41:39+00:00\",\"2021-11-14T14:12:49+00:00\",\"2021-11-15T21:48:28+00:00\",\"2021-11-16T13:05:58+00:00\",\"2021-11-19T12:48:42+00:00\",\"2021-11-21T19:09:44+00:00\",\"2021-11-24T12:28:39+00:00\",\"2021-11-29T01:35:58+00:00\",\"2021-11-29T20:33:16+00:00\"],\"y\":[1,1,1,1,1,1,1,1,1,1,1,1,1,1,1,1,1,1,1,1,1,1,1,1,1,1,1,1,1,1,1,1,1,1,1],\"type\":\"scatter\"},{\"connectgaps\":true,\"line\":{\"color\":\"green\",\"shape\":\"linear\"},\"mode\":\"markers+lines\",\"name\":\"ID\",\"x\":[\"2021-10-09T14:23:54+00:00\",\"2021-10-10T13:01:14+00:00\",\"2021-10-10T14:00:23+00:00\",\"2021-10-10T14:00:24+00:00\",\"2021-10-10T14:36:15+00:00\",\"2021-10-11T00:41:35+00:00\",\"2021-10-12T05:06:42+00:00\",\"2021-10-12T14:45:58+00:00\",\"2021-10-12T15:46:39+00:00\",\"2021-10-13T11:57:59+00:00\",\"2021-10-13T12:05:14+00:00\",\"2021-10-23T22:43:21+00:00\",\"2021-10-24T14:13:31+00:00\",\"2021-10-26T17:08:46+00:00\",\"2021-10-26T21:22:17+00:00\",\"2021-10-27T15:48:39+00:00\",\"2021-10-31T17:27:18+00:00\",\"2021-10-31T21:30:57+00:00\",\"2021-11-02T00:09:07+00:00\",\"2021-11-02T22:40:38+00:00\",\"2021-11-03T08:42:46+00:00\",\"2021-11-03T08:57:18+00:00\",\"2021-11-03T20:54:13+00:00\",\"2021-11-06T00:41:36+00:00\",\"2021-11-06T02:16:39+00:00\",\"2021-11-10T19:47:19+00:00\",\"2021-11-11T02:41:39+00:00\",\"2021-11-14T14:12:49+00:00\",\"2021-11-15T21:48:28+00:00\",\"2021-11-16T13:05:58+00:00\",\"2021-11-19T12:48:42+00:00\",\"2021-11-21T19:09:44+00:00\",\"2021-11-24T12:28:39+00:00\",\"2021-11-29T01:35:58+00:00\",\"2021-11-29T20:33:16+00:00\"],\"y\":[1,1,1,1,1,1,1,1,1,1,1,1,1,1,1,1,1,1,1,1,1,1,1,1,1,1,1,1,1,1,1,1,1,1,1],\"type\":\"scatter\"},{\"connectgaps\":true,\"line\":{\"color\":\"red\",\"shape\":\"linear\"},\"mode\":\"markers+lines\",\"name\":\"Date\",\"x\":[\"2021-10-04T23:19:45+00:00\",\"2021-10-07T16:22:09+00:00\",\"2021-10-08T18:31:18+00:00\",\"2021-10-10T12:43:03+00:00\",\"2021-10-12T04:34:16+00:00\",\"2021-10-13T12:50:58+00:00\",\"2021-10-17T22:08:48+00:00\",\"2021-10-20T23:46:53+00:00\",\"2021-10-21T14:51:53+00:00\",\"2021-10-22T11:47:20+00:00\",\"2021-10-25T15:33:17+00:00\",\"2021-10-25T23:13:14+00:00\",\"2021-10-26T18:51:51+00:00\",\"2021-10-27T01:32:48+00:00\",\"2021-10-28T01:44:53+00:00\",\"2021-10-30T19:30:32+00:00\",\"2021-10-31T22:44:43+00:00\",\"2021-10-31T22:45:56+00:00\",\"2021-11-01T02:02:49+00:00\",\"2021-11-02T16:26:53+00:00\",\"2021-11-04T22:01:37+00:00\",\"2021-11-04T22:42:50+00:00\",\"2021-11-07T10:45:50+00:00\",\"2021-11-08T21:16:36+00:00\",\"2021-11-09T02:46:48+00:00\",\"2021-11-13T10:34:40+00:00\",\"2021-11-14T00:14:01+00:00\",\"2021-11-14T15:20:52+00:00\",\"2021-11-15T21:45:05+00:00\",\"2021-11-19T02:25:19+00:00\",\"2021-11-22T03:13:56+00:00\",\"2021-11-26T15:42:58+00:00\",\"2021-11-27T18:58:42+00:00\",\"2021-11-27T23:01:01+00:00\"],\"y\":[1,1,1,2,1,1,1,1,1,1,1,1,1,1,1,1,1,1,1,1,1,1,1,1,1,1,1,1,1,1,1,1,1,1],\"type\":\"scatter\"},{\"connectgaps\":true,\"line\":{\"color\":\"red\",\"shape\":\"linear\"},\"mode\":\"markers+lines\",\"name\":\"ID\",\"x\":[\"2021-10-04T23:19:45+00:00\",\"2021-10-07T16:22:09+00:00\",\"2021-10-08T18:31:18+00:00\",\"2021-10-10T12:43:03+00:00\",\"2021-10-12T04:34:16+00:00\",\"2021-10-13T12:50:58+00:00\",\"2021-10-17T22:08:48+00:00\",\"2021-10-20T23:46:53+00:00\",\"2021-10-21T14:51:53+00:00\",\"2021-10-22T11:47:20+00:00\",\"2021-10-25T15:33:17+00:00\",\"2021-10-25T23:13:14+00:00\",\"2021-10-26T18:51:51+00:00\",\"2021-10-27T01:32:48+00:00\",\"2021-10-28T01:44:53+00:00\",\"2021-10-30T19:30:32+00:00\",\"2021-10-31T22:44:43+00:00\",\"2021-10-31T22:45:56+00:00\",\"2021-11-01T02:02:49+00:00\",\"2021-11-02T16:26:53+00:00\",\"2021-11-04T22:01:37+00:00\",\"2021-11-04T22:42:50+00:00\",\"2021-11-07T10:45:50+00:00\",\"2021-11-08T21:16:36+00:00\",\"2021-11-09T02:46:48+00:00\",\"2021-11-13T10:34:40+00:00\",\"2021-11-14T00:14:01+00:00\",\"2021-11-14T15:20:52+00:00\",\"2021-11-15T21:45:05+00:00\",\"2021-11-19T02:25:19+00:00\",\"2021-11-22T03:13:56+00:00\",\"2021-11-26T15:42:58+00:00\",\"2021-11-27T18:58:42+00:00\",\"2021-11-27T23:01:01+00:00\"],\"y\":[1,1,1,2,1,1,1,1,1,1,1,1,1,1,1,1,1,1,1,1,1,1,1,1,1,1,1,1,1,1,1,1,1,1],\"type\":\"scatter\"}],                        {\"template\":{\"data\":{\"histogram2dcontour\":[{\"type\":\"histogram2dcontour\",\"colorbar\":{\"outlinewidth\":0,\"ticks\":\"\"},\"colorscale\":[[0.0,\"#0d0887\"],[0.1111111111111111,\"#46039f\"],[0.2222222222222222,\"#7201a8\"],[0.3333333333333333,\"#9c179e\"],[0.4444444444444444,\"#bd3786\"],[0.5555555555555556,\"#d8576b\"],[0.6666666666666666,\"#ed7953\"],[0.7777777777777778,\"#fb9f3a\"],[0.8888888888888888,\"#fdca26\"],[1.0,\"#f0f921\"]]}],\"choropleth\":[{\"type\":\"choropleth\",\"colorbar\":{\"outlinewidth\":0,\"ticks\":\"\"}}],\"histogram2d\":[{\"type\":\"histogram2d\",\"colorbar\":{\"outlinewidth\":0,\"ticks\":\"\"},\"colorscale\":[[0.0,\"#0d0887\"],[0.1111111111111111,\"#46039f\"],[0.2222222222222222,\"#7201a8\"],[0.3333333333333333,\"#9c179e\"],[0.4444444444444444,\"#bd3786\"],[0.5555555555555556,\"#d8576b\"],[0.6666666666666666,\"#ed7953\"],[0.7777777777777778,\"#fb9f3a\"],[0.8888888888888888,\"#fdca26\"],[1.0,\"#f0f921\"]]}],\"heatmap\":[{\"type\":\"heatmap\",\"colorbar\":{\"outlinewidth\":0,\"ticks\":\"\"},\"colorscale\":[[0.0,\"#0d0887\"],[0.1111111111111111,\"#46039f\"],[0.2222222222222222,\"#7201a8\"],[0.3333333333333333,\"#9c179e\"],[0.4444444444444444,\"#bd3786\"],[0.5555555555555556,\"#d8576b\"],[0.6666666666666666,\"#ed7953\"],[0.7777777777777778,\"#fb9f3a\"],[0.8888888888888888,\"#fdca26\"],[1.0,\"#f0f921\"]]}],\"heatmapgl\":[{\"type\":\"heatmapgl\",\"colorbar\":{\"outlinewidth\":0,\"ticks\":\"\"},\"colorscale\":[[0.0,\"#0d0887\"],[0.1111111111111111,\"#46039f\"],[0.2222222222222222,\"#7201a8\"],[0.3333333333333333,\"#9c179e\"],[0.4444444444444444,\"#bd3786\"],[0.5555555555555556,\"#d8576b\"],[0.6666666666666666,\"#ed7953\"],[0.7777777777777778,\"#fb9f3a\"],[0.8888888888888888,\"#fdca26\"],[1.0,\"#f0f921\"]]}],\"contourcarpet\":[{\"type\":\"contourcarpet\",\"colorbar\":{\"outlinewidth\":0,\"ticks\":\"\"}}],\"contour\":[{\"type\":\"contour\",\"colorbar\":{\"outlinewidth\":0,\"ticks\":\"\"},\"colorscale\":[[0.0,\"#0d0887\"],[0.1111111111111111,\"#46039f\"],[0.2222222222222222,\"#7201a8\"],[0.3333333333333333,\"#9c179e\"],[0.4444444444444444,\"#bd3786\"],[0.5555555555555556,\"#d8576b\"],[0.6666666666666666,\"#ed7953\"],[0.7777777777777778,\"#fb9f3a\"],[0.8888888888888888,\"#fdca26\"],[1.0,\"#f0f921\"]]}],\"surface\":[{\"type\":\"surface\",\"colorbar\":{\"outlinewidth\":0,\"ticks\":\"\"},\"colorscale\":[[0.0,\"#0d0887\"],[0.1111111111111111,\"#46039f\"],[0.2222222222222222,\"#7201a8\"],[0.3333333333333333,\"#9c179e\"],[0.4444444444444444,\"#bd3786\"],[0.5555555555555556,\"#d8576b\"],[0.6666666666666666,\"#ed7953\"],[0.7777777777777778,\"#fb9f3a\"],[0.8888888888888888,\"#fdca26\"],[1.0,\"#f0f921\"]]}],\"mesh3d\":[{\"type\":\"mesh3d\",\"colorbar\":{\"outlinewidth\":0,\"ticks\":\"\"}}],\"scatter\":[{\"fillpattern\":{\"fillmode\":\"overlay\",\"size\":10,\"solidity\":0.2},\"type\":\"scatter\"}],\"parcoords\":[{\"type\":\"parcoords\",\"line\":{\"colorbar\":{\"outlinewidth\":0,\"ticks\":\"\"}}}],\"scatterpolargl\":[{\"type\":\"scatterpolargl\",\"marker\":{\"colorbar\":{\"outlinewidth\":0,\"ticks\":\"\"}}}],\"bar\":[{\"error_x\":{\"color\":\"#2a3f5f\"},\"error_y\":{\"color\":\"#2a3f5f\"},\"marker\":{\"line\":{\"color\":\"#E5ECF6\",\"width\":0.5},\"pattern\":{\"fillmode\":\"overlay\",\"size\":10,\"solidity\":0.2}},\"type\":\"bar\"}],\"scattergeo\":[{\"type\":\"scattergeo\",\"marker\":{\"colorbar\":{\"outlinewidth\":0,\"ticks\":\"\"}}}],\"scatterpolar\":[{\"type\":\"scatterpolar\",\"marker\":{\"colorbar\":{\"outlinewidth\":0,\"ticks\":\"\"}}}],\"histogram\":[{\"marker\":{\"pattern\":{\"fillmode\":\"overlay\",\"size\":10,\"solidity\":0.2}},\"type\":\"histogram\"}],\"scattergl\":[{\"type\":\"scattergl\",\"marker\":{\"colorbar\":{\"outlinewidth\":0,\"ticks\":\"\"}}}],\"scatter3d\":[{\"type\":\"scatter3d\",\"line\":{\"colorbar\":{\"outlinewidth\":0,\"ticks\":\"\"}},\"marker\":{\"colorbar\":{\"outlinewidth\":0,\"ticks\":\"\"}}}],\"scattermapbox\":[{\"type\":\"scattermapbox\",\"marker\":{\"colorbar\":{\"outlinewidth\":0,\"ticks\":\"\"}}}],\"scatterternary\":[{\"type\":\"scatterternary\",\"marker\":{\"colorbar\":{\"outlinewidth\":0,\"ticks\":\"\"}}}],\"scattercarpet\":[{\"type\":\"scattercarpet\",\"marker\":{\"colorbar\":{\"outlinewidth\":0,\"ticks\":\"\"}}}],\"carpet\":[{\"aaxis\":{\"endlinecolor\":\"#2a3f5f\",\"gridcolor\":\"white\",\"linecolor\":\"white\",\"minorgridcolor\":\"white\",\"startlinecolor\":\"#2a3f5f\"},\"baxis\":{\"endlinecolor\":\"#2a3f5f\",\"gridcolor\":\"white\",\"linecolor\":\"white\",\"minorgridcolor\":\"white\",\"startlinecolor\":\"#2a3f5f\"},\"type\":\"carpet\"}],\"table\":[{\"cells\":{\"fill\":{\"color\":\"#EBF0F8\"},\"line\":{\"color\":\"white\"}},\"header\":{\"fill\":{\"color\":\"#C8D4E3\"},\"line\":{\"color\":\"white\"}},\"type\":\"table\"}],\"barpolar\":[{\"marker\":{\"line\":{\"color\":\"#E5ECF6\",\"width\":0.5},\"pattern\":{\"fillmode\":\"overlay\",\"size\":10,\"solidity\":0.2}},\"type\":\"barpolar\"}],\"pie\":[{\"automargin\":true,\"type\":\"pie\"}]},\"layout\":{\"autotypenumbers\":\"strict\",\"colorway\":[\"#636efa\",\"#EF553B\",\"#00cc96\",\"#ab63fa\",\"#FFA15A\",\"#19d3f3\",\"#FF6692\",\"#B6E880\",\"#FF97FF\",\"#FECB52\"],\"font\":{\"color\":\"#2a3f5f\"},\"hovermode\":\"closest\",\"hoverlabel\":{\"align\":\"left\"},\"paper_bgcolor\":\"white\",\"plot_bgcolor\":\"#E5ECF6\",\"polar\":{\"bgcolor\":\"#E5ECF6\",\"angularaxis\":{\"gridcolor\":\"white\",\"linecolor\":\"white\",\"ticks\":\"\"},\"radialaxis\":{\"gridcolor\":\"white\",\"linecolor\":\"white\",\"ticks\":\"\"}},\"ternary\":{\"bgcolor\":\"#E5ECF6\",\"aaxis\":{\"gridcolor\":\"white\",\"linecolor\":\"white\",\"ticks\":\"\"},\"baxis\":{\"gridcolor\":\"white\",\"linecolor\":\"white\",\"ticks\":\"\"},\"caxis\":{\"gridcolor\":\"white\",\"linecolor\":\"white\",\"ticks\":\"\"}},\"coloraxis\":{\"colorbar\":{\"outlinewidth\":0,\"ticks\":\"\"}},\"colorscale\":{\"sequential\":[[0.0,\"#0d0887\"],[0.1111111111111111,\"#46039f\"],[0.2222222222222222,\"#7201a8\"],[0.3333333333333333,\"#9c179e\"],[0.4444444444444444,\"#bd3786\"],[0.5555555555555556,\"#d8576b\"],[0.6666666666666666,\"#ed7953\"],[0.7777777777777778,\"#fb9f3a\"],[0.8888888888888888,\"#fdca26\"],[1.0,\"#f0f921\"]],\"sequentialminus\":[[0.0,\"#0d0887\"],[0.1111111111111111,\"#46039f\"],[0.2222222222222222,\"#7201a8\"],[0.3333333333333333,\"#9c179e\"],[0.4444444444444444,\"#bd3786\"],[0.5555555555555556,\"#d8576b\"],[0.6666666666666666,\"#ed7953\"],[0.7777777777777778,\"#fb9f3a\"],[0.8888888888888888,\"#fdca26\"],[1.0,\"#f0f921\"]],\"diverging\":[[0,\"#8e0152\"],[0.1,\"#c51b7d\"],[0.2,\"#de77ae\"],[0.3,\"#f1b6da\"],[0.4,\"#fde0ef\"],[0.5,\"#f7f7f7\"],[0.6,\"#e6f5d0\"],[0.7,\"#b8e186\"],[0.8,\"#7fbc41\"],[0.9,\"#4d9221\"],[1,\"#276419\"]]},\"xaxis\":{\"gridcolor\":\"white\",\"linecolor\":\"white\",\"ticks\":\"\",\"title\":{\"standoff\":15},\"zerolinecolor\":\"white\",\"automargin\":true,\"zerolinewidth\":2},\"yaxis\":{\"gridcolor\":\"white\",\"linecolor\":\"white\",\"ticks\":\"\",\"title\":{\"standoff\":15},\"zerolinecolor\":\"white\",\"automargin\":true,\"zerolinewidth\":2},\"scene\":{\"xaxis\":{\"backgroundcolor\":\"#E5ECF6\",\"gridcolor\":\"white\",\"linecolor\":\"white\",\"showbackground\":true,\"ticks\":\"\",\"zerolinecolor\":\"white\",\"gridwidth\":2},\"yaxis\":{\"backgroundcolor\":\"#E5ECF6\",\"gridcolor\":\"white\",\"linecolor\":\"white\",\"showbackground\":true,\"ticks\":\"\",\"zerolinecolor\":\"white\",\"gridwidth\":2},\"zaxis\":{\"backgroundcolor\":\"#E5ECF6\",\"gridcolor\":\"white\",\"linecolor\":\"white\",\"showbackground\":true,\"ticks\":\"\",\"zerolinecolor\":\"white\",\"gridwidth\":2}},\"shapedefaults\":{\"line\":{\"color\":\"#2a3f5f\"}},\"annotationdefaults\":{\"arrowcolor\":\"#2a3f5f\",\"arrowhead\":0,\"arrowwidth\":1},\"geo\":{\"bgcolor\":\"white\",\"landcolor\":\"#E5ECF6\",\"subunitcolor\":\"white\",\"showland\":true,\"showlakes\":true,\"lakecolor\":\"white\"},\"title\":{\"x\":0.05},\"mapbox\":{\"style\":\"light\"}}}},                        {\"responsive\": true}                    ).then(function(){\n",
       "                            \n",
       "var gd = document.getElementById('6d4c7b53-d09d-4d3f-98e7-364768a15fce');\n",
       "var x = new MutationObserver(function (mutations, observer) {{\n",
       "        var display = window.getComputedStyle(gd).display;\n",
       "        if (!display || display === 'none') {{\n",
       "            console.log([gd, 'removed!']);\n",
       "            Plotly.purge(gd);\n",
       "            observer.disconnect();\n",
       "        }}\n",
       "}});\n",
       "\n",
       "// Listen for the removal of the full notebook cells\n",
       "var notebookContainer = gd.closest('#notebook-container');\n",
       "if (notebookContainer) {{\n",
       "    x.observe(notebookContainer, {childList: true});\n",
       "}}\n",
       "\n",
       "// Listen for the clearing of the current output cell\n",
       "var outputEl = gd.closest('.output');\n",
       "if (outputEl) {{\n",
       "    x.observe(outputEl, {childList: true});\n",
       "}}\n",
       "\n",
       "                        })                };                });            </script>        </div>"
      ]
     },
     "metadata": {},
     "output_type": "display_data"
    }
   ],
   "source": [
    "fig.show()"
   ]
  },
  {
   "cell_type": "markdown",
   "id": "3fd29db9",
   "metadata": {},
   "source": [
    "The spike occurred on October 08th and was back to base levels by October 10th. "
   ]
  },
  {
   "cell_type": "code",
   "execution_count": 136,
   "id": "7867681e",
   "metadata": {},
   "outputs": [
    {
     "data": {
      "text/plain": [
       "(-0.5, 399.5, 199.5, -0.5)"
      ]
     },
     "execution_count": 136,
     "metadata": {},
     "output_type": "execute_result"
    },
    {
     "data": {
      "image/png": "[encoded data removed]",
      "text/plain": [
       "<Figure size 640x480 with 1 Axes>"
      ]
     },
     "metadata": {},
     "output_type": "display_data"
    }
   ],
   "source": [
    "#Assessing the Wordcloud\n",
    "\n",
    "spike3_df = tweets_df[(tweets_df['Date']>='2021-10-01') & (tweets_df['Date']<='2021-11-30')]\n",
    "negative = spike3_df[spike3_df['sentiment_category']=='negative']\n",
    "wordcloud = WordCloud(max_font_size=50, max_words=500, background_color=\"white\").generate(str(negative['tweet_clean']))\n",
    "plt.figure()\n",
    "plt.imshow(wordcloud, interpolation=\"bilinear\")\n",
    "plt.axis(\"off\")"
   ]
  },
  {
   "cell_type": "code",
   "execution_count": 137,
   "id": "24654058",
   "metadata": {},
   "outputs": [],
   "source": [
    "plt.show()"
   ]
  },
  {
   "cell_type": "markdown",
   "id": "3719e0af",
   "metadata": {},
   "source": [
    "There are some similar words shown in this cloud as with the previous cloud. There are new additions here such as 'depressed', 'anxiety', 'evil', 'listening' and 'young'. Interestingly, the word 'elderly' can also be seen in this cloud. "
   ]
  },
  {
   "cell_type": "code",
   "execution_count": 138,
   "id": "9b749093",
   "metadata": {},
   "outputs": [
    {
     "data": {
      "text/html": [
       "<div>\n",
       "<style scoped>\n",
       "    .dataframe tbody tr th:only-of-type {\n",
       "        vertical-align: middle;\n",
       "    }\n",
       "\n",
       "    .dataframe tbody tr th {\n",
       "        vertical-align: top;\n",
       "    }\n",
       "\n",
       "    .dataframe thead th {\n",
       "        text-align: right;\n",
       "    }\n",
       "</style>\n",
       "<table border=\"1\" class=\"dataframe\">\n",
       "  <thead>\n",
       "    <tr style=\"text-align: right;\">\n",
       "      <th></th>\n",
       "      <th>ID</th>\n",
       "      <th>Date</th>\n",
       "      <th>Content</th>\n",
       "      <th>Reply Count</th>\n",
       "      <th>Likes</th>\n",
       "      <th>Retweets</th>\n",
       "      <th>Quotes</th>\n",
       "      <th>tweet_clean</th>\n",
       "      <th>sentiment</th>\n",
       "      <th>sentiment_category</th>\n",
       "    </tr>\n",
       "  </thead>\n",
       "  <tbody>\n",
       "    <tr>\n",
       "      <th>24</th>\n",
       "      <td>1579646441374425088</td>\n",
       "      <td>2022-10-11 01:33:54+00:00</td>\n",
       "      <td>And ofc I’m depressed on World Mental Health Day</td>\n",
       "      <td>0</td>\n",
       "      <td>12</td>\n",
       "      <td>1</td>\n",
       "      <td>None</td>\n",
       "      <td>And I ’ m depressed on World Mental Health Day</td>\n",
       "      <td>-0.5106</td>\n",
       "      <td>negative</td>\n",
       "    </tr>\n",
       "    <tr>\n",
       "      <th>40</th>\n",
       "      <td>1543795294088957953</td>\n",
       "      <td>2022-07-04 03:14:15+00:00</td>\n",
       "      <td>Not my mom and I talking about my brother's me...</td>\n",
       "      <td>0</td>\n",
       "      <td>1</td>\n",
       "      <td>0</td>\n",
       "      <td>None</td>\n",
       "      <td>Not my and I talking about my brother ' s ment...</td>\n",
       "      <td>-0.8316</td>\n",
       "      <td>negative</td>\n",
       "    </tr>\n",
       "    <tr>\n",
       "      <th>84</th>\n",
       "      <td>1427768511020085250</td>\n",
       "      <td>2021-08-17 23:05:14+00:00</td>\n",
       "      <td>Fitness really does help your mental health🥺 I...</td>\n",
       "      <td>0</td>\n",
       "      <td>0</td>\n",
       "      <td>0</td>\n",
       "      <td>None</td>\n",
       "      <td>Fitness really does help your mental health 🥺 ...</td>\n",
       "      <td>0.1606</td>\n",
       "      <td>positive</td>\n",
       "    </tr>\n",
       "    <tr>\n",
       "      <th>146</th>\n",
       "      <td>1324354893155602436</td>\n",
       "      <td>2020-11-05 14:16:26+00:00</td>\n",
       "      <td>@Keishacamps I’ve honestly been depressed sinc...</td>\n",
       "      <td>0</td>\n",
       "      <td>1</td>\n",
       "      <td>0</td>\n",
       "      <td>None</td>\n",
       "      <td>I ’ honestly been depressed since so this was ...</td>\n",
       "      <td>0.6666</td>\n",
       "      <td>positive</td>\n",
       "    </tr>\n",
       "    <tr>\n",
       "      <th>152</th>\n",
       "      <td>1319859064915042305</td>\n",
       "      <td>2020-10-24 04:31:37+00:00</td>\n",
       "      <td>I've never been one to be depressed but damn U...</td>\n",
       "      <td>0</td>\n",
       "      <td>2</td>\n",
       "      <td>0</td>\n",
       "      <td>None</td>\n",
       "      <td>I ' never been one to be depressed but damn an...</td>\n",
       "      <td>-0.6908</td>\n",
       "      <td>negative</td>\n",
       "    </tr>\n",
       "    <tr>\n",
       "      <th>385</th>\n",
       "      <td>1447180880494092294</td>\n",
       "      <td>2021-10-10 12:43:03+00:00</td>\n",
       "      <td>Health workers, children, young people &amp;amp; e...</td>\n",
       "      <td>0</td>\n",
       "      <td>6</td>\n",
       "      <td>2</td>\n",
       "      <td>None</td>\n",
       "      <td>Health , , young people &amp; ; elderly have been ...</td>\n",
       "      <td>-0.4588</td>\n",
       "      <td>negative</td>\n",
       "    </tr>\n",
       "    <tr>\n",
       "      <th>387</th>\n",
       "      <td>1441763074197921792</td>\n",
       "      <td>2021-09-25 13:54:38+00:00</td>\n",
       "      <td>May Allah protect us all from mental health pr...</td>\n",
       "      <td>1</td>\n",
       "      <td>17</td>\n",
       "      <td>3</td>\n",
       "      <td>None</td>\n",
       "      <td>May protect us all from mental health , anxiet...</td>\n",
       "      <td>-0.2942</td>\n",
       "      <td>negative</td>\n",
       "    </tr>\n",
       "    <tr>\n",
       "      <th>417</th>\n",
       "      <td>1406466951816298499</td>\n",
       "      <td>2021-06-20 04:20:26+00:00</td>\n",
       "      <td>Gave myself a pedicure and it really helped wi...</td>\n",
       "      <td>0</td>\n",
       "      <td>0</td>\n",
       "      <td>0</td>\n",
       "      <td>None</td>\n",
       "      <td>Gave myself a pedicure and it really with my a...</td>\n",
       "      <td>0.3811</td>\n",
       "      <td>positive</td>\n",
       "    </tr>\n",
       "    <tr>\n",
       "      <th>466</th>\n",
       "      <td>1350241460604567553</td>\n",
       "      <td>2021-01-16 00:40:25+00:00</td>\n",
       "      <td>I'm proud that I've gotten to a place in my me...</td>\n",
       "      <td>1</td>\n",
       "      <td>3</td>\n",
       "      <td>0</td>\n",
       "      <td>None</td>\n",
       "      <td>I ' m that I ' gotten to a place in my mental ...</td>\n",
       "      <td>-0.6597</td>\n",
       "      <td>negative</td>\n",
       "    </tr>\n",
       "    <tr>\n",
       "      <th>471</th>\n",
       "      <td>1345196670120820736</td>\n",
       "      <td>2021-01-02 02:34:13+00:00</td>\n",
       "      <td>My mental health went spiralling out of contro...</td>\n",
       "      <td>0</td>\n",
       "      <td>0</td>\n",
       "      <td>0</td>\n",
       "      <td>None</td>\n",
       "      <td>My mental health went out of control in the fi...</td>\n",
       "      <td>-0.1280</td>\n",
       "      <td>negative</td>\n",
       "    </tr>\n",
       "  </tbody>\n",
       "</table>\n",
       "</div>"
      ],
      "text/plain": [
       "                      ID                      Date  \\\n",
       "24   1579646441374425088 2022-10-11 01:33:54+00:00   \n",
       "40   1543795294088957953 2022-07-04 03:14:15+00:00   \n",
       "84   1427768511020085250 2021-08-17 23:05:14+00:00   \n",
       "146  1324354893155602436 2020-11-05 14:16:26+00:00   \n",
       "152  1319859064915042305 2020-10-24 04:31:37+00:00   \n",
       "385  1447180880494092294 2021-10-10 12:43:03+00:00   \n",
       "387  1441763074197921792 2021-09-25 13:54:38+00:00   \n",
       "417  1406466951816298499 2021-06-20 04:20:26+00:00   \n",
       "466  1350241460604567553 2021-01-16 00:40:25+00:00   \n",
       "471  1345196670120820736 2021-01-02 02:34:13+00:00   \n",
       "\n",
       "                                               Content  Reply Count  Likes  \\\n",
       "24    And ofc I’m depressed on World Mental Health Day            0     12   \n",
       "40   Not my mom and I talking about my brother's me...            0      1   \n",
       "84   Fitness really does help your mental health🥺 I...            0      0   \n",
       "146  @Keishacamps I’ve honestly been depressed sinc...            0      1   \n",
       "152  I've never been one to be depressed but damn U...            0      2   \n",
       "385  Health workers, children, young people &amp; e...            0      6   \n",
       "387  May Allah protect us all from mental health pr...            1     17   \n",
       "417  Gave myself a pedicure and it really helped wi...            0      0   \n",
       "466  I'm proud that I've gotten to a place in my me...            1      3   \n",
       "471  My mental health went spiralling out of contro...            0      0   \n",
       "\n",
       "     Retweets Quotes                                        tweet_clean  \\\n",
       "24          1   None     And I ’ m depressed on World Mental Health Day   \n",
       "40          0   None  Not my and I talking about my brother ' s ment...   \n",
       "84          0   None  Fitness really does help your mental health 🥺 ...   \n",
       "146         0   None  I ’ honestly been depressed since so this was ...   \n",
       "152         0   None  I ' never been one to be depressed but damn an...   \n",
       "385         2   None  Health , , young people & ; elderly have been ...   \n",
       "387         3   None  May protect us all from mental health , anxiet...   \n",
       "417         0   None  Gave myself a pedicure and it really with my a...   \n",
       "466         0   None  I ' m that I ' gotten to a place in my mental ...   \n",
       "471         0   None  My mental health went out of control in the fi...   \n",
       "\n",
       "     sentiment sentiment_category  \n",
       "24     -0.5106           negative  \n",
       "40     -0.8316           negative  \n",
       "84      0.1606           positive  \n",
       "146     0.6666           positive  \n",
       "152    -0.6908           negative  \n",
       "385    -0.4588           negative  \n",
       "387    -0.2942           negative  \n",
       "417     0.3811           positive  \n",
       "466    -0.6597           negative  \n",
       "471    -0.1280           negative  "
      ]
     },
     "execution_count": 138,
     "metadata": {},
     "output_type": "execute_result"
    }
   ],
   "source": [
    "#Extracting tweets with term 'mental health' from original dataset to create new dataset\n",
    "\n",
    "health = tweets_df['tweet_clean'].str.contains('mental health', case=False)#case removes any case sensitivity\n",
    "\n",
    "mental_health = tweets_df[health]\n",
    "\n",
    "# mental_health = m_health.drop('Content', axis=1, inplace=True) #Attempting to drop the 'Content' column so as to remove the identifiers such as '@'\n",
    "\n",
    "mental_health.head(10)"
   ]
  },
  {
   "cell_type": "code",
   "execution_count": 139,
   "id": "18c66fa2",
   "metadata": {},
   "outputs": [
    {
     "data": {
      "text/html": [
       "<div>\n",
       "<style scoped>\n",
       "    .dataframe tbody tr th:only-of-type {\n",
       "        vertical-align: middle;\n",
       "    }\n",
       "\n",
       "    .dataframe tbody tr th {\n",
       "        vertical-align: top;\n",
       "    }\n",
       "\n",
       "    .dataframe thead th {\n",
       "        text-align: right;\n",
       "    }\n",
       "</style>\n",
       "<table border=\"1\" class=\"dataframe\">\n",
       "  <thead>\n",
       "    <tr style=\"text-align: right;\">\n",
       "      <th></th>\n",
       "      <th>ID</th>\n",
       "      <th>Reply Count</th>\n",
       "      <th>Likes</th>\n",
       "      <th>Retweets</th>\n",
       "      <th>sentiment</th>\n",
       "    </tr>\n",
       "  </thead>\n",
       "  <tbody>\n",
       "    <tr>\n",
       "      <th>count</th>\n",
       "      <td>6.440000e+02</td>\n",
       "      <td>644.000000</td>\n",
       "      <td>644.000000</td>\n",
       "      <td>644.000000</td>\n",
       "      <td>644.000000</td>\n",
       "    </tr>\n",
       "    <tr>\n",
       "      <th>mean</th>\n",
       "      <td>1.397358e+18</td>\n",
       "      <td>0.399068</td>\n",
       "      <td>8.481366</td>\n",
       "      <td>1.911491</td>\n",
       "      <td>0.166995</td>\n",
       "    </tr>\n",
       "    <tr>\n",
       "      <th>std</th>\n",
       "      <td>1.591536e+17</td>\n",
       "      <td>1.045199</td>\n",
       "      <td>36.785596</td>\n",
       "      <td>8.874620</td>\n",
       "      <td>0.481927</td>\n",
       "    </tr>\n",
       "    <tr>\n",
       "      <th>min</th>\n",
       "      <td>2.725108e+17</td>\n",
       "      <td>0.000000</td>\n",
       "      <td>0.000000</td>\n",
       "      <td>0.000000</td>\n",
       "      <td>-0.973100</td>\n",
       "    </tr>\n",
       "    <tr>\n",
       "      <th>25%</th>\n",
       "      <td>1.317401e+18</td>\n",
       "      <td>0.000000</td>\n",
       "      <td>0.000000</td>\n",
       "      <td>0.000000</td>\n",
       "      <td>-0.077200</td>\n",
       "    </tr>\n",
       "    <tr>\n",
       "      <th>50%</th>\n",
       "      <td>1.416380e+18</td>\n",
       "      <td>0.000000</td>\n",
       "      <td>1.000000</td>\n",
       "      <td>0.000000</td>\n",
       "      <td>0.152200</td>\n",
       "    </tr>\n",
       "    <tr>\n",
       "      <th>75%</th>\n",
       "      <td>1.511067e+18</td>\n",
       "      <td>1.000000</td>\n",
       "      <td>4.000000</td>\n",
       "      <td>0.000000</td>\n",
       "      <td>0.587600</td>\n",
       "    </tr>\n",
       "    <tr>\n",
       "      <th>max</th>\n",
       "      <td>1.591529e+18</td>\n",
       "      <td>15.000000</td>\n",
       "      <td>591.000000</td>\n",
       "      <td>99.000000</td>\n",
       "      <td>0.985200</td>\n",
       "    </tr>\n",
       "  </tbody>\n",
       "</table>\n",
       "</div>"
      ],
      "text/plain": [
       "                 ID  Reply Count       Likes    Retweets   sentiment\n",
       "count  6.440000e+02   644.000000  644.000000  644.000000  644.000000\n",
       "mean   1.397358e+18     0.399068    8.481366    1.911491    0.166995\n",
       "std    1.591536e+17     1.045199   36.785596    8.874620    0.481927\n",
       "min    2.725108e+17     0.000000    0.000000    0.000000   -0.973100\n",
       "25%    1.317401e+18     0.000000    0.000000    0.000000   -0.077200\n",
       "50%    1.416380e+18     0.000000    1.000000    0.000000    0.152200\n",
       "75%    1.511067e+18     1.000000    4.000000    0.000000    0.587600\n",
       "max    1.591529e+18    15.000000  591.000000   99.000000    0.985200"
      ]
     },
     "execution_count": 139,
     "metadata": {},
     "output_type": "execute_result"
    }
   ],
   "source": [
    "#Carrying out a quick stats reviews\n",
    "\n",
    "mental_health.describe()"
   ]
  },
  {
   "cell_type": "markdown",
   "id": "856d7d21",
   "metadata": {},
   "source": [
    "Similar to the larger dataset, the standard deviation is larger than the mean across numeric values which means that the data is spread out. "
   ]
  },
  {
   "cell_type": "code",
   "execution_count": 140,
   "id": "5862a032",
   "metadata": {},
   "outputs": [
    {
     "data": {
      "text/plain": [
       "positive    335\n",
       "negative    170\n",
       "neutral     139\n",
       "Name: sentiment_category, dtype: int64"
      ]
     },
     "execution_count": 140,
     "metadata": {},
     "output_type": "execute_result"
    }
   ],
   "source": [
    "#Checking the sentiment analysis across this dataset\n",
    "\n",
    "mental_health['sentiment_category'].value_counts()"
   ]
  },
  {
   "cell_type": "markdown",
   "id": "b4b638a7",
   "metadata": {},
   "source": [
    "Assessing this term, there are twice the amount of positive tweets to negative tweets which differs from the main dataset that had a majority of negative tweets. From a quick analysis of the sample above, the majority of the tweets are mostly championing user progress in terms of their mental health or public events surrounding mental health. While this is a good sign, it should not be taken to mean that the countries are without mental health concerns. A much more plausible explanation is that users would refrain from publicizing any health issues on a public platform but encourage themselves and others generally."
   ]
  },
  {
   "cell_type": "code",
   "execution_count": 141,
   "id": "602b92d0",
   "metadata": {},
   "outputs": [],
   "source": [
    "#Assessing any spikes\n",
    "\n",
    "neg = mental_health[mental_health['sentiment_category']=='negative']\n",
    "neg = neg.groupby(['Date'],as_index=False).count()\n",
    "\n",
    "pos = mental_health[mental_health['sentiment_category']=='positive']\n",
    "pos = pos.groupby(['Date'],as_index=False).count()\n",
    "\n",
    "pos = pos[['Date','ID']]\n",
    "neg = neg[['Date','ID']]"
   ]
  },
  {
   "cell_type": "code",
   "execution_count": 111,
   "id": "51a53f31",
   "metadata": {},
   "outputs": [],
   "source": [
    "fig = go.Figure()\n",
    "for col in pos.columns:\n",
    "    fig.add_trace(go.Scatter(x=pos['Date'], y=pos['ID'],\n",
    "                             name = col,\n",
    "                             mode = 'markers+lines',\n",
    "                             line=dict(shape='linear'),\n",
    "                             connectgaps=True,\n",
    "                             line_color='green'\n",
    "                             )\n",
    "                 )\n",
    "\n",
    "for col in neg.columns:\n",
    "    fig.add_trace(go.Scatter(x=neg['Date'], y=neg['ID'],\n",
    "                             name = col,\n",
    "                             mode = 'markers+lines',\n",
    "                             line=dict(shape='linear'),\n",
    "                             connectgaps=True,\n",
    "                             line_color='red'\n",
    "                             )\n",
    "                 )"
   ]
  },
  {
   "cell_type": "code",
   "execution_count": 142,
   "id": "0dbd8c48",
   "metadata": {},
   "outputs": [
    {
     "data": {
      "application/vnd.plotly.v1+json": {
       "config": {
        "plotlyServerURL": "https://plot.ly"
       },
       "data": [
        {
         "connectgaps": true,
         "line": {
          "color": "green",
          "shape": "linear"
         },
         "mode": "markers+lines",
         "name": "Date",
         "type": "scatter",
         "x": [
          "2021-10-09T14:23:54+00:00",
          "2021-10-10T13:01:14+00:00",
          "2021-10-10T14:00:23+00:00",
          "2021-10-10T14:00:24+00:00",
          "2021-10-10T14:36:15+00:00",
          "2021-10-11T00:41:35+00:00",
          "2021-10-12T05:06:42+00:00",
          "2021-10-12T14:45:58+00:00",
          "2021-10-12T15:46:39+00:00",
          "2021-10-13T11:57:59+00:00",
          "2021-10-13T12:05:14+00:00",
          "2021-10-23T22:43:21+00:00",
          "2021-10-24T14:13:31+00:00",
          "2021-10-26T17:08:46+00:00",
          "2021-10-26T21:22:17+00:00",
          "2021-10-27T15:48:39+00:00",
          "2021-10-31T17:27:18+00:00",
          "2021-10-31T21:30:57+00:00",
          "2021-11-02T00:09:07+00:00",
          "2021-11-02T22:40:38+00:00",
          "2021-11-03T08:42:46+00:00",
          "2021-11-03T08:57:18+00:00",
          "2021-11-03T20:54:13+00:00",
          "2021-11-06T00:41:36+00:00",
          "2021-11-06T02:16:39+00:00",
          "2021-11-10T19:47:19+00:00",
          "2021-11-11T02:41:39+00:00",
          "2021-11-14T14:12:49+00:00",
          "2021-11-15T21:48:28+00:00",
          "2021-11-16T13:05:58+00:00",
          "2021-11-19T12:48:42+00:00",
          "2021-11-21T19:09:44+00:00",
          "2021-11-24T12:28:39+00:00",
          "2021-11-29T01:35:58+00:00",
          "2021-11-29T20:33:16+00:00"
         ],
         "y": [
          1,
          1,
          1,
          1,
          1,
          1,
          1,
          1,
          1,
          1,
          1,
          1,
          1,
          1,
          1,
          1,
          1,
          1,
          1,
          1,
          1,
          1,
          1,
          1,
          1,
          1,
          1,
          1,
          1,
          1,
          1,
          1,
          1,
          1,
          1
         ]
        },
        {
         "connectgaps": true,
         "line": {
          "color": "green",
          "shape": "linear"
         },
         "mode": "markers+lines",
         "name": "ID",
         "type": "scatter",
         "x": [
          "2021-10-09T14:23:54+00:00",
          "2021-10-10T13:01:14+00:00",
          "2021-10-10T14:00:23+00:00",
          "2021-10-10T14:00:24+00:00",
          "2021-10-10T14:36:15+00:00",
          "2021-10-11T00:41:35+00:00",
          "2021-10-12T05:06:42+00:00",
          "2021-10-12T14:45:58+00:00",
          "2021-10-12T15:46:39+00:00",
          "2021-10-13T11:57:59+00:00",
          "2021-10-13T12:05:14+00:00",
          "2021-10-23T22:43:21+00:00",
          "2021-10-24T14:13:31+00:00",
          "2021-10-26T17:08:46+00:00",
          "2021-10-26T21:22:17+00:00",
          "2021-10-27T15:48:39+00:00",
          "2021-10-31T17:27:18+00:00",
          "2021-10-31T21:30:57+00:00",
          "2021-11-02T00:09:07+00:00",
          "2021-11-02T22:40:38+00:00",
          "2021-11-03T08:42:46+00:00",
          "2021-11-03T08:57:18+00:00",
          "2021-11-03T20:54:13+00:00",
          "2021-11-06T00:41:36+00:00",
          "2021-11-06T02:16:39+00:00",
          "2021-11-10T19:47:19+00:00",
          "2021-11-11T02:41:39+00:00",
          "2021-11-14T14:12:49+00:00",
          "2021-11-15T21:48:28+00:00",
          "2021-11-16T13:05:58+00:00",
          "2021-11-19T12:48:42+00:00",
          "2021-11-21T19:09:44+00:00",
          "2021-11-24T12:28:39+00:00",
          "2021-11-29T01:35:58+00:00",
          "2021-11-29T20:33:16+00:00"
         ],
         "y": [
          1,
          1,
          1,
          1,
          1,
          1,
          1,
          1,
          1,
          1,
          1,
          1,
          1,
          1,
          1,
          1,
          1,
          1,
          1,
          1,
          1,
          1,
          1,
          1,
          1,
          1,
          1,
          1,
          1,
          1,
          1,
          1,
          1,
          1,
          1
         ]
        },
        {
         "connectgaps": true,
         "line": {
          "color": "red",
          "shape": "linear"
         },
         "mode": "markers+lines",
         "name": "Date",
         "type": "scatter",
         "x": [
          "2021-10-04T23:19:45+00:00",
          "2021-10-07T16:22:09+00:00",
          "2021-10-08T18:31:18+00:00",
          "2021-10-10T12:43:03+00:00",
          "2021-10-12T04:34:16+00:00",
          "2021-10-13T12:50:58+00:00",
          "2021-10-17T22:08:48+00:00",
          "2021-10-20T23:46:53+00:00",
          "2021-10-21T14:51:53+00:00",
          "2021-10-22T11:47:20+00:00",
          "2021-10-25T15:33:17+00:00",
          "2021-10-25T23:13:14+00:00",
          "2021-10-26T18:51:51+00:00",
          "2021-10-27T01:32:48+00:00",
          "2021-10-28T01:44:53+00:00",
          "2021-10-30T19:30:32+00:00",
          "2021-10-31T22:44:43+00:00",
          "2021-10-31T22:45:56+00:00",
          "2021-11-01T02:02:49+00:00",
          "2021-11-02T16:26:53+00:00",
          "2021-11-04T22:01:37+00:00",
          "2021-11-04T22:42:50+00:00",
          "2021-11-07T10:45:50+00:00",
          "2021-11-08T21:16:36+00:00",
          "2021-11-09T02:46:48+00:00",
          "2021-11-13T10:34:40+00:00",
          "2021-11-14T00:14:01+00:00",
          "2021-11-14T15:20:52+00:00",
          "2021-11-15T21:45:05+00:00",
          "2021-11-19T02:25:19+00:00",
          "2021-11-22T03:13:56+00:00",
          "2021-11-26T15:42:58+00:00",
          "2021-11-27T18:58:42+00:00",
          "2021-11-27T23:01:01+00:00"
         ],
         "y": [
          1,
          1,
          1,
          2,
          1,
          1,
          1,
          1,
          1,
          1,
          1,
          1,
          1,
          1,
          1,
          1,
          1,
          1,
          1,
          1,
          1,
          1,
          1,
          1,
          1,
          1,
          1,
          1,
          1,
          1,
          1,
          1,
          1,
          1
         ]
        },
        {
         "connectgaps": true,
         "line": {
          "color": "red",
          "shape": "linear"
         },
         "mode": "markers+lines",
         "name": "ID",
         "type": "scatter",
         "x": [
          "2021-10-04T23:19:45+00:00",
          "2021-10-07T16:22:09+00:00",
          "2021-10-08T18:31:18+00:00",
          "2021-10-10T12:43:03+00:00",
          "2021-10-12T04:34:16+00:00",
          "2021-10-13T12:50:58+00:00",
          "2021-10-17T22:08:48+00:00",
          "2021-10-20T23:46:53+00:00",
          "2021-10-21T14:51:53+00:00",
          "2021-10-22T11:47:20+00:00",
          "2021-10-25T15:33:17+00:00",
          "2021-10-25T23:13:14+00:00",
          "2021-10-26T18:51:51+00:00",
          "2021-10-27T01:32:48+00:00",
          "2021-10-28T01:44:53+00:00",
          "2021-10-30T19:30:32+00:00",
          "2021-10-31T22:44:43+00:00",
          "2021-10-31T22:45:56+00:00",
          "2021-11-01T02:02:49+00:00",
          "2021-11-02T16:26:53+00:00",
          "2021-11-04T22:01:37+00:00",
          "2021-11-04T22:42:50+00:00",
          "2021-11-07T10:45:50+00:00",
          "2021-11-08T21:16:36+00:00",
          "2021-11-09T02:46:48+00:00",
          "2021-11-13T10:34:40+00:00",
          "2021-11-14T00:14:01+00:00",
          "2021-11-14T15:20:52+00:00",
          "2021-11-15T21:45:05+00:00",
          "2021-11-19T02:25:19+00:00",
          "2021-11-22T03:13:56+00:00",
          "2021-11-26T15:42:58+00:00",
          "2021-11-27T18:58:42+00:00",
          "2021-11-27T23:01:01+00:00"
         ],
         "y": [
          1,
          1,
          1,
          2,
          1,
          1,
          1,
          1,
          1,
          1,
          1,
          1,
          1,
          1,
          1,
          1,
          1,
          1,
          1,
          1,
          1,
          1,
          1,
          1,
          1,
          1,
          1,
          1,
          1,
          1,
          1,
          1,
          1,
          1
         ]
        }
       ],
       "layout": {
        "template": {
         "data": {
          "bar": [
           {
            "error_x": {
             "color": "#2a3f5f"
            },
            "error_y": {
             "color": "#2a3f5f"
            },
            "marker": {
             "line": {
              "color": "#E5ECF6",
              "width": 0.5
             },
             "pattern": {
              "fillmode": "overlay",
              "size": 10,
              "solidity": 0.2
             }
            },
            "type": "bar"
           }
          ],
          "barpolar": [
           {
            "marker": {
             "line": {
              "color": "#E5ECF6",
              "width": 0.5
             },
             "pattern": {
              "fillmode": "overlay",
              "size": 10,
              "solidity": 0.2
             }
            },
            "type": "barpolar"
           }
          ],
          "carpet": [
           {
            "aaxis": {
             "endlinecolor": "#2a3f5f",
             "gridcolor": "white",
             "linecolor": "white",
             "minorgridcolor": "white",
             "startlinecolor": "#2a3f5f"
            },
            "baxis": {
             "endlinecolor": "#2a3f5f",
             "gridcolor": "white",
             "linecolor": "white",
             "minorgridcolor": "white",
             "startlinecolor": "#2a3f5f"
            },
            "type": "carpet"
           }
          ],
          "choropleth": [
           {
            "colorbar": {
             "outlinewidth": 0,
             "ticks": ""
            },
            "type": "choropleth"
           }
          ],
          "contour": [
           {
            "colorbar": {
             "outlinewidth": 0,
             "ticks": ""
            },
            "colorscale": [
             [
              0,
              "#0d0887"
             ],
             [
              0.1111111111111111,
              "#46039f"
             ],
             [
              0.2222222222222222,
              "#7201a8"
             ],
             [
              0.3333333333333333,
              "#9c179e"
             ],
             [
              0.4444444444444444,
              "#bd3786"
             ],
             [
              0.5555555555555556,
              "#d8576b"
             ],
             [
              0.6666666666666666,
              "#ed7953"
             ],
             [
              0.7777777777777778,
              "#fb9f3a"
             ],
             [
              0.8888888888888888,
              "#fdca26"
             ],
             [
              1,
              "#f0f921"
             ]
            ],
            "type": "contour"
           }
          ],
          "contourcarpet": [
           {
            "colorbar": {
             "outlinewidth": 0,
             "ticks": ""
            },
            "type": "contourcarpet"
           }
          ],
          "heatmap": [
           {
            "colorbar": {
             "outlinewidth": 0,
             "ticks": ""
            },
            "colorscale": [
             [
              0,
              "#0d0887"
             ],
             [
              0.1111111111111111,
              "#46039f"
             ],
             [
              0.2222222222222222,
              "#7201a8"
             ],
             [
              0.3333333333333333,
              "#9c179e"
             ],
             [
              0.4444444444444444,
              "#bd3786"
             ],
             [
              0.5555555555555556,
              "#d8576b"
             ],
             [
              0.6666666666666666,
              "#ed7953"
             ],
             [
              0.7777777777777778,
              "#fb9f3a"
             ],
             [
              0.8888888888888888,
              "#fdca26"
             ],
             [
              1,
              "#f0f921"
             ]
            ],
            "type": "heatmap"
           }
          ],
          "heatmapgl": [
           {
            "colorbar": {
             "outlinewidth": 0,
             "ticks": ""
            },
            "colorscale": [
             [
              0,
              "#0d0887"
             ],
             [
              0.1111111111111111,
              "#46039f"
             ],
             [
              0.2222222222222222,
              "#7201a8"
             ],
             [
              0.3333333333333333,
              "#9c179e"
             ],
             [
              0.4444444444444444,
              "#bd3786"
             ],
             [
              0.5555555555555556,
              "#d8576b"
             ],
             [
              0.6666666666666666,
              "#ed7953"
             ],
             [
              0.7777777777777778,
              "#fb9f3a"
             ],
             [
              0.8888888888888888,
              "#fdca26"
             ],
             [
              1,
              "#f0f921"
             ]
            ],
            "type": "heatmapgl"
           }
          ],
          "histogram": [
           {
            "marker": {
             "pattern": {
              "fillmode": "overlay",
              "size": 10,
              "solidity": 0.2
             }
            },
            "type": "histogram"
           }
          ],
          "histogram2d": [
           {
            "colorbar": {
             "outlinewidth": 0,
             "ticks": ""
            },
            "colorscale": [
             [
              0,
              "#0d0887"
             ],
             [
              0.1111111111111111,
              "#46039f"
             ],
             [
              0.2222222222222222,
              "#7201a8"
             ],
             [
              0.3333333333333333,
              "#9c179e"
             ],
             [
              0.4444444444444444,
              "#bd3786"
             ],
             [
              0.5555555555555556,
              "#d8576b"
             ],
             [
              0.6666666666666666,
              "#ed7953"
             ],
             [
              0.7777777777777778,
              "#fb9f3a"
             ],
             [
              0.8888888888888888,
              "#fdca26"
             ],
             [
              1,
              "#f0f921"
             ]
            ],
            "type": "histogram2d"
           }
          ],
          "histogram2dcontour": [
           {
            "colorbar": {
             "outlinewidth": 0,
             "ticks": ""
            },
            "colorscale": [
             [
              0,
              "#0d0887"
             ],
             [
              0.1111111111111111,
              "#46039f"
             ],
             [
              0.2222222222222222,
              "#7201a8"
             ],
             [
              0.3333333333333333,
              "#9c179e"
             ],
             [
              0.4444444444444444,
              "#bd3786"
             ],
             [
              0.5555555555555556,
              "#d8576b"
             ],
             [
              0.6666666666666666,
              "#ed7953"
             ],
             [
              0.7777777777777778,
              "#fb9f3a"
             ],
             [
              0.8888888888888888,
              "#fdca26"
             ],
             [
              1,
              "#f0f921"
             ]
            ],
            "type": "histogram2dcontour"
           }
          ],
          "mesh3d": [
           {
            "colorbar": {
             "outlinewidth": 0,
             "ticks": ""
            },
            "type": "mesh3d"
           }
          ],
          "parcoords": [
           {
            "line": {
             "colorbar": {
              "outlinewidth": 0,
              "ticks": ""
             }
            },
            "type": "parcoords"
           }
          ],
          "pie": [
           {
            "automargin": true,
            "type": "pie"
           }
          ],
          "scatter": [
           {
            "fillpattern": {
             "fillmode": "overlay",
             "size": 10,
             "solidity": 0.2
            },
            "type": "scatter"
           }
          ],
          "scatter3d": [
           {
            "line": {
             "colorbar": {
              "outlinewidth": 0,
              "ticks": ""
             }
            },
            "marker": {
             "colorbar": {
              "outlinewidth": 0,
              "ticks": ""
             }
            },
            "type": "scatter3d"
           }
          ],
          "scattercarpet": [
           {
            "marker": {
             "colorbar": {
              "outlinewidth": 0,
              "ticks": ""
             }
            },
            "type": "scattercarpet"
           }
          ],
          "scattergeo": [
           {
            "marker": {
             "colorbar": {
              "outlinewidth": 0,
              "ticks": ""
             }
            },
            "type": "scattergeo"
           }
          ],
          "scattergl": [
           {
            "marker": {
             "colorbar": {
              "outlinewidth": 0,
              "ticks": ""
             }
            },
            "type": "scattergl"
           }
          ],
          "scattermapbox": [
           {
            "marker": {
             "colorbar": {
              "outlinewidth": 0,
              "ticks": ""
             }
            },
            "type": "scattermapbox"
           }
          ],
          "scatterpolar": [
           {
            "marker": {
             "colorbar": {
              "outlinewidth": 0,
              "ticks": ""
             }
            },
            "type": "scatterpolar"
           }
          ],
          "scatterpolargl": [
           {
            "marker": {
             "colorbar": {
              "outlinewidth": 0,
              "ticks": ""
             }
            },
            "type": "scatterpolargl"
           }
          ],
          "scatterternary": [
           {
            "marker": {
             "colorbar": {
              "outlinewidth": 0,
              "ticks": ""
             }
            },
            "type": "scatterternary"
           }
          ],
          "surface": [
           {
            "colorbar": {
             "outlinewidth": 0,
             "ticks": ""
            },
            "colorscale": [
             [
              0,
              "#0d0887"
             ],
             [
              0.1111111111111111,
              "#46039f"
             ],
             [
              0.2222222222222222,
              "#7201a8"
             ],
             [
              0.3333333333333333,
              "#9c179e"
             ],
             [
              0.4444444444444444,
              "#bd3786"
             ],
             [
              0.5555555555555556,
              "#d8576b"
             ],
             [
              0.6666666666666666,
              "#ed7953"
             ],
             [
              0.7777777777777778,
              "#fb9f3a"
             ],
             [
              0.8888888888888888,
              "#fdca26"
             ],
             [
              1,
              "#f0f921"
             ]
            ],
            "type": "surface"
           }
          ],
          "table": [
           {
            "cells": {
             "fill": {
              "color": "#EBF0F8"
             },
             "line": {
              "color": "white"
             }
            },
            "header": {
             "fill": {
              "color": "#C8D4E3"
             },
             "line": {
              "color": "white"
             }
            },
            "type": "table"
           }
          ]
         },
         "layout": {
          "annotationdefaults": {
           "arrowcolor": "#2a3f5f",
           "arrowhead": 0,
           "arrowwidth": 1
          },
          "autotypenumbers": "strict",
          "coloraxis": {
           "colorbar": {
            "outlinewidth": 0,
            "ticks": ""
           }
          },
          "colorscale": {
           "diverging": [
            [
             0,
             "#8e0152"
            ],
            [
             0.1,
             "#c51b7d"
            ],
            [
             0.2,
             "#de77ae"
            ],
            [
             0.3,
             "#f1b6da"
            ],
            [
             0.4,
             "#fde0ef"
            ],
            [
             0.5,
             "#f7f7f7"
            ],
            [
             0.6,
             "#e6f5d0"
            ],
            [
             0.7,
             "#b8e186"
            ],
            [
             0.8,
             "#7fbc41"
            ],
            [
             0.9,
             "#4d9221"
            ],
            [
             1,
             "#276419"
            ]
           ],
           "sequential": [
            [
             0,
             "#0d0887"
            ],
            [
             0.1111111111111111,
             "#46039f"
            ],
            [
             0.2222222222222222,
             "#7201a8"
            ],
            [
             0.3333333333333333,
             "#9c179e"
            ],
            [
             0.4444444444444444,
             "#bd3786"
            ],
            [
             0.5555555555555556,
             "#d8576b"
            ],
            [
             0.6666666666666666,
             "#ed7953"
            ],
            [
             0.7777777777777778,
             "#fb9f3a"
            ],
            [
             0.8888888888888888,
             "#fdca26"
            ],
            [
             1,
             "#f0f921"
            ]
           ],
           "sequentialminus": [
            [
             0,
             "#0d0887"
            ],
            [
             0.1111111111111111,
             "#46039f"
            ],
            [
             0.2222222222222222,
             "#7201a8"
            ],
            [
             0.3333333333333333,
             "#9c179e"
            ],
            [
             0.4444444444444444,
             "#bd3786"
            ],
            [
             0.5555555555555556,
             "#d8576b"
            ],
            [
             0.6666666666666666,
             "#ed7953"
            ],
            [
             0.7777777777777778,
             "#fb9f3a"
            ],
            [
             0.8888888888888888,
             "#fdca26"
            ],
            [
             1,
             "#f0f921"
            ]
           ]
          },
          "colorway": [
           "#636efa",
           "#EF553B",
           "#00cc96",
           "#ab63fa",
           "#FFA15A",
           "#19d3f3",
           "#FF6692",
           "#B6E880",
           "#FF97FF",
           "#FECB52"
          ],
          "font": {
           "color": "#2a3f5f"
          },
          "geo": {
           "bgcolor": "white",
           "lakecolor": "white",
           "landcolor": "#E5ECF6",
           "showlakes": true,
           "showland": true,
           "subunitcolor": "white"
          },
          "hoverlabel": {
           "align": "left"
          },
          "hovermode": "closest",
          "mapbox": {
           "style": "light"
          },
          "paper_bgcolor": "white",
          "plot_bgcolor": "#E5ECF6",
          "polar": {
           "angularaxis": {
            "gridcolor": "white",
            "linecolor": "white",
            "ticks": ""
           },
           "bgcolor": "#E5ECF6",
           "radialaxis": {
            "gridcolor": "white",
            "linecolor": "white",
            "ticks": ""
           }
          },
          "scene": {
           "xaxis": {
            "backgroundcolor": "#E5ECF6",
            "gridcolor": "white",
            "gridwidth": 2,
            "linecolor": "white",
            "showbackground": true,
            "ticks": "",
            "zerolinecolor": "white"
           },
           "yaxis": {
            "backgroundcolor": "#E5ECF6",
            "gridcolor": "white",
            "gridwidth": 2,
            "linecolor": "white",
            "showbackground": true,
            "ticks": "",
            "zerolinecolor": "white"
           },
           "zaxis": {
            "backgroundcolor": "#E5ECF6",
            "gridcolor": "white",
            "gridwidth": 2,
            "linecolor": "white",
            "showbackground": true,
            "ticks": "",
            "zerolinecolor": "white"
           }
          },
          "shapedefaults": {
           "line": {
            "color": "#2a3f5f"
           }
          },
          "ternary": {
           "aaxis": {
            "gridcolor": "white",
            "linecolor": "white",
            "ticks": ""
           },
           "baxis": {
            "gridcolor": "white",
            "linecolor": "white",
            "ticks": ""
           },
           "bgcolor": "#E5ECF6",
           "caxis": {
            "gridcolor": "white",
            "linecolor": "white",
            "ticks": ""
           }
          },
          "title": {
           "x": 0.05
          },
          "xaxis": {
           "automargin": true,
           "gridcolor": "white",
           "linecolor": "white",
           "ticks": "",
           "title": {
            "standoff": 15
           },
           "zerolinecolor": "white",
           "zerolinewidth": 2
          },
          "yaxis": {
           "automargin": true,
           "gridcolor": "white",
           "linecolor": "white",
           "ticks": "",
           "title": {
            "standoff": 15
           },
           "zerolinecolor": "white",
           "zerolinewidth": 2
          }
         }
        }
       }
      },
      "text/html": [
       "<div>                            <div id=\"9c1457f5-2725-474f-ad43-f633239660f1\" class=\"plotly-graph-div\" style=\"height:525px; width:100%;\"></div>            <script type=\"text/javascript\">                require([\"plotly\"], function(Plotly) {                    window.PLOTLYENV=window.PLOTLYENV || {};                                    if (document.getElementById(\"9c1457f5-2725-474f-ad43-f633239660f1\")) {                    Plotly.newPlot(                        \"9c1457f5-2725-474f-ad43-f633239660f1\",                        [{\"connectgaps\":true,\"line\":{\"color\":\"green\",\"shape\":\"linear\"},\"mode\":\"markers+lines\",\"name\":\"Date\",\"x\":[\"2021-10-09T14:23:54+00:00\",\"2021-10-10T13:01:14+00:00\",\"2021-10-10T14:00:23+00:00\",\"2021-10-10T14:00:24+00:00\",\"2021-10-10T14:36:15+00:00\",\"2021-10-11T00:41:35+00:00\",\"2021-10-12T05:06:42+00:00\",\"2021-10-12T14:45:58+00:00\",\"2021-10-12T15:46:39+00:00\",\"2021-10-13T11:57:59+00:00\",\"2021-10-13T12:05:14+00:00\",\"2021-10-23T22:43:21+00:00\",\"2021-10-24T14:13:31+00:00\",\"2021-10-26T17:08:46+00:00\",\"2021-10-26T21:22:17+00:00\",\"2021-10-27T15:48:39+00:00\",\"2021-10-31T17:27:18+00:00\",\"2021-10-31T21:30:57+00:00\",\"2021-11-02T00:09:07+00:00\",\"2021-11-02T22:40:38+00:00\",\"2021-11-03T08:42:46+00:00\",\"2021-11-03T08:57:18+00:00\",\"2021-11-03T20:54:13+00:00\",\"2021-11-06T00:41:36+00:00\",\"2021-11-06T02:16:39+00:00\",\"2021-11-10T19:47:19+00:00\",\"2021-11-11T02:41:39+00:00\",\"2021-11-14T14:12:49+00:00\",\"2021-11-15T21:48:28+00:00\",\"2021-11-16T13:05:58+00:00\",\"2021-11-19T12:48:42+00:00\",\"2021-11-21T19:09:44+00:00\",\"2021-11-24T12:28:39+00:00\",\"2021-11-29T01:35:58+00:00\",\"2021-11-29T20:33:16+00:00\"],\"y\":[1,1,1,1,1,1,1,1,1,1,1,1,1,1,1,1,1,1,1,1,1,1,1,1,1,1,1,1,1,1,1,1,1,1,1],\"type\":\"scatter\"},{\"connectgaps\":true,\"line\":{\"color\":\"green\",\"shape\":\"linear\"},\"mode\":\"markers+lines\",\"name\":\"ID\",\"x\":[\"2021-10-09T14:23:54+00:00\",\"2021-10-10T13:01:14+00:00\",\"2021-10-10T14:00:23+00:00\",\"2021-10-10T14:00:24+00:00\",\"2021-10-10T14:36:15+00:00\",\"2021-10-11T00:41:35+00:00\",\"2021-10-12T05:06:42+00:00\",\"2021-10-12T14:45:58+00:00\",\"2021-10-12T15:46:39+00:00\",\"2021-10-13T11:57:59+00:00\",\"2021-10-13T12:05:14+00:00\",\"2021-10-23T22:43:21+00:00\",\"2021-10-24T14:13:31+00:00\",\"2021-10-26T17:08:46+00:00\",\"2021-10-26T21:22:17+00:00\",\"2021-10-27T15:48:39+00:00\",\"2021-10-31T17:27:18+00:00\",\"2021-10-31T21:30:57+00:00\",\"2021-11-02T00:09:07+00:00\",\"2021-11-02T22:40:38+00:00\",\"2021-11-03T08:42:46+00:00\",\"2021-11-03T08:57:18+00:00\",\"2021-11-03T20:54:13+00:00\",\"2021-11-06T00:41:36+00:00\",\"2021-11-06T02:16:39+00:00\",\"2021-11-10T19:47:19+00:00\",\"2021-11-11T02:41:39+00:00\",\"2021-11-14T14:12:49+00:00\",\"2021-11-15T21:48:28+00:00\",\"2021-11-16T13:05:58+00:00\",\"2021-11-19T12:48:42+00:00\",\"2021-11-21T19:09:44+00:00\",\"2021-11-24T12:28:39+00:00\",\"2021-11-29T01:35:58+00:00\",\"2021-11-29T20:33:16+00:00\"],\"y\":[1,1,1,1,1,1,1,1,1,1,1,1,1,1,1,1,1,1,1,1,1,1,1,1,1,1,1,1,1,1,1,1,1,1,1],\"type\":\"scatter\"},{\"connectgaps\":true,\"line\":{\"color\":\"red\",\"shape\":\"linear\"},\"mode\":\"markers+lines\",\"name\":\"Date\",\"x\":[\"2021-10-04T23:19:45+00:00\",\"2021-10-07T16:22:09+00:00\",\"2021-10-08T18:31:18+00:00\",\"2021-10-10T12:43:03+00:00\",\"2021-10-12T04:34:16+00:00\",\"2021-10-13T12:50:58+00:00\",\"2021-10-17T22:08:48+00:00\",\"2021-10-20T23:46:53+00:00\",\"2021-10-21T14:51:53+00:00\",\"2021-10-22T11:47:20+00:00\",\"2021-10-25T15:33:17+00:00\",\"2021-10-25T23:13:14+00:00\",\"2021-10-26T18:51:51+00:00\",\"2021-10-27T01:32:48+00:00\",\"2021-10-28T01:44:53+00:00\",\"2021-10-30T19:30:32+00:00\",\"2021-10-31T22:44:43+00:00\",\"2021-10-31T22:45:56+00:00\",\"2021-11-01T02:02:49+00:00\",\"2021-11-02T16:26:53+00:00\",\"2021-11-04T22:01:37+00:00\",\"2021-11-04T22:42:50+00:00\",\"2021-11-07T10:45:50+00:00\",\"2021-11-08T21:16:36+00:00\",\"2021-11-09T02:46:48+00:00\",\"2021-11-13T10:34:40+00:00\",\"2021-11-14T00:14:01+00:00\",\"2021-11-14T15:20:52+00:00\",\"2021-11-15T21:45:05+00:00\",\"2021-11-19T02:25:19+00:00\",\"2021-11-22T03:13:56+00:00\",\"2021-11-26T15:42:58+00:00\",\"2021-11-27T18:58:42+00:00\",\"2021-11-27T23:01:01+00:00\"],\"y\":[1,1,1,2,1,1,1,1,1,1,1,1,1,1,1,1,1,1,1,1,1,1,1,1,1,1,1,1,1,1,1,1,1,1],\"type\":\"scatter\"},{\"connectgaps\":true,\"line\":{\"color\":\"red\",\"shape\":\"linear\"},\"mode\":\"markers+lines\",\"name\":\"ID\",\"x\":[\"2021-10-04T23:19:45+00:00\",\"2021-10-07T16:22:09+00:00\",\"2021-10-08T18:31:18+00:00\",\"2021-10-10T12:43:03+00:00\",\"2021-10-12T04:34:16+00:00\",\"2021-10-13T12:50:58+00:00\",\"2021-10-17T22:08:48+00:00\",\"2021-10-20T23:46:53+00:00\",\"2021-10-21T14:51:53+00:00\",\"2021-10-22T11:47:20+00:00\",\"2021-10-25T15:33:17+00:00\",\"2021-10-25T23:13:14+00:00\",\"2021-10-26T18:51:51+00:00\",\"2021-10-27T01:32:48+00:00\",\"2021-10-28T01:44:53+00:00\",\"2021-10-30T19:30:32+00:00\",\"2021-10-31T22:44:43+00:00\",\"2021-10-31T22:45:56+00:00\",\"2021-11-01T02:02:49+00:00\",\"2021-11-02T16:26:53+00:00\",\"2021-11-04T22:01:37+00:00\",\"2021-11-04T22:42:50+00:00\",\"2021-11-07T10:45:50+00:00\",\"2021-11-08T21:16:36+00:00\",\"2021-11-09T02:46:48+00:00\",\"2021-11-13T10:34:40+00:00\",\"2021-11-14T00:14:01+00:00\",\"2021-11-14T15:20:52+00:00\",\"2021-11-15T21:45:05+00:00\",\"2021-11-19T02:25:19+00:00\",\"2021-11-22T03:13:56+00:00\",\"2021-11-26T15:42:58+00:00\",\"2021-11-27T18:58:42+00:00\",\"2021-11-27T23:01:01+00:00\"],\"y\":[1,1,1,2,1,1,1,1,1,1,1,1,1,1,1,1,1,1,1,1,1,1,1,1,1,1,1,1,1,1,1,1,1,1],\"type\":\"scatter\"}],                        {\"template\":{\"data\":{\"histogram2dcontour\":[{\"type\":\"histogram2dcontour\",\"colorbar\":{\"outlinewidth\":0,\"ticks\":\"\"},\"colorscale\":[[0.0,\"#0d0887\"],[0.1111111111111111,\"#46039f\"],[0.2222222222222222,\"#7201a8\"],[0.3333333333333333,\"#9c179e\"],[0.4444444444444444,\"#bd3786\"],[0.5555555555555556,\"#d8576b\"],[0.6666666666666666,\"#ed7953\"],[0.7777777777777778,\"#fb9f3a\"],[0.8888888888888888,\"#fdca26\"],[1.0,\"#f0f921\"]]}],\"choropleth\":[{\"type\":\"choropleth\",\"colorbar\":{\"outlinewidth\":0,\"ticks\":\"\"}}],\"histogram2d\":[{\"type\":\"histogram2d\",\"colorbar\":{\"outlinewidth\":0,\"ticks\":\"\"},\"colorscale\":[[0.0,\"#0d0887\"],[0.1111111111111111,\"#46039f\"],[0.2222222222222222,\"#7201a8\"],[0.3333333333333333,\"#9c179e\"],[0.4444444444444444,\"#bd3786\"],[0.5555555555555556,\"#d8576b\"],[0.6666666666666666,\"#ed7953\"],[0.7777777777777778,\"#fb9f3a\"],[0.8888888888888888,\"#fdca26\"],[1.0,\"#f0f921\"]]}],\"heatmap\":[{\"type\":\"heatmap\",\"colorbar\":{\"outlinewidth\":0,\"ticks\":\"\"},\"colorscale\":[[0.0,\"#0d0887\"],[0.1111111111111111,\"#46039f\"],[0.2222222222222222,\"#7201a8\"],[0.3333333333333333,\"#9c179e\"],[0.4444444444444444,\"#bd3786\"],[0.5555555555555556,\"#d8576b\"],[0.6666666666666666,\"#ed7953\"],[0.7777777777777778,\"#fb9f3a\"],[0.8888888888888888,\"#fdca26\"],[1.0,\"#f0f921\"]]}],\"heatmapgl\":[{\"type\":\"heatmapgl\",\"colorbar\":{\"outlinewidth\":0,\"ticks\":\"\"},\"colorscale\":[[0.0,\"#0d0887\"],[0.1111111111111111,\"#46039f\"],[0.2222222222222222,\"#7201a8\"],[0.3333333333333333,\"#9c179e\"],[0.4444444444444444,\"#bd3786\"],[0.5555555555555556,\"#d8576b\"],[0.6666666666666666,\"#ed7953\"],[0.7777777777777778,\"#fb9f3a\"],[0.8888888888888888,\"#fdca26\"],[1.0,\"#f0f921\"]]}],\"contourcarpet\":[{\"type\":\"contourcarpet\",\"colorbar\":{\"outlinewidth\":0,\"ticks\":\"\"}}],\"contour\":[{\"type\":\"contour\",\"colorbar\":{\"outlinewidth\":0,\"ticks\":\"\"},\"colorscale\":[[0.0,\"#0d0887\"],[0.1111111111111111,\"#46039f\"],[0.2222222222222222,\"#7201a8\"],[0.3333333333333333,\"#9c179e\"],[0.4444444444444444,\"#bd3786\"],[0.5555555555555556,\"#d8576b\"],[0.6666666666666666,\"#ed7953\"],[0.7777777777777778,\"#fb9f3a\"],[0.8888888888888888,\"#fdca26\"],[1.0,\"#f0f921\"]]}],\"surface\":[{\"type\":\"surface\",\"colorbar\":{\"outlinewidth\":0,\"ticks\":\"\"},\"colorscale\":[[0.0,\"#0d0887\"],[0.1111111111111111,\"#46039f\"],[0.2222222222222222,\"#7201a8\"],[0.3333333333333333,\"#9c179e\"],[0.4444444444444444,\"#bd3786\"],[0.5555555555555556,\"#d8576b\"],[0.6666666666666666,\"#ed7953\"],[0.7777777777777778,\"#fb9f3a\"],[0.8888888888888888,\"#fdca26\"],[1.0,\"#f0f921\"]]}],\"mesh3d\":[{\"type\":\"mesh3d\",\"colorbar\":{\"outlinewidth\":0,\"ticks\":\"\"}}],\"scatter\":[{\"fillpattern\":{\"fillmode\":\"overlay\",\"size\":10,\"solidity\":0.2},\"type\":\"scatter\"}],\"parcoords\":[{\"type\":\"parcoords\",\"line\":{\"colorbar\":{\"outlinewidth\":0,\"ticks\":\"\"}}}],\"scatterpolargl\":[{\"type\":\"scatterpolargl\",\"marker\":{\"colorbar\":{\"outlinewidth\":0,\"ticks\":\"\"}}}],\"bar\":[{\"error_x\":{\"color\":\"#2a3f5f\"},\"error_y\":{\"color\":\"#2a3f5f\"},\"marker\":{\"line\":{\"color\":\"#E5ECF6\",\"width\":0.5},\"pattern\":{\"fillmode\":\"overlay\",\"size\":10,\"solidity\":0.2}},\"type\":\"bar\"}],\"scattergeo\":[{\"type\":\"scattergeo\",\"marker\":{\"colorbar\":{\"outlinewidth\":0,\"ticks\":\"\"}}}],\"scatterpolar\":[{\"type\":\"scatterpolar\",\"marker\":{\"colorbar\":{\"outlinewidth\":0,\"ticks\":\"\"}}}],\"histogram\":[{\"marker\":{\"pattern\":{\"fillmode\":\"overlay\",\"size\":10,\"solidity\":0.2}},\"type\":\"histogram\"}],\"scattergl\":[{\"type\":\"scattergl\",\"marker\":{\"colorbar\":{\"outlinewidth\":0,\"ticks\":\"\"}}}],\"scatter3d\":[{\"type\":\"scatter3d\",\"line\":{\"colorbar\":{\"outlinewidth\":0,\"ticks\":\"\"}},\"marker\":{\"colorbar\":{\"outlinewidth\":0,\"ticks\":\"\"}}}],\"scattermapbox\":[{\"type\":\"scattermapbox\",\"marker\":{\"colorbar\":{\"outlinewidth\":0,\"ticks\":\"\"}}}],\"scatterternary\":[{\"type\":\"scatterternary\",\"marker\":{\"colorbar\":{\"outlinewidth\":0,\"ticks\":\"\"}}}],\"scattercarpet\":[{\"type\":\"scattercarpet\",\"marker\":{\"colorbar\":{\"outlinewidth\":0,\"ticks\":\"\"}}}],\"carpet\":[{\"aaxis\":{\"endlinecolor\":\"#2a3f5f\",\"gridcolor\":\"white\",\"linecolor\":\"white\",\"minorgridcolor\":\"white\",\"startlinecolor\":\"#2a3f5f\"},\"baxis\":{\"endlinecolor\":\"#2a3f5f\",\"gridcolor\":\"white\",\"linecolor\":\"white\",\"minorgridcolor\":\"white\",\"startlinecolor\":\"#2a3f5f\"},\"type\":\"carpet\"}],\"table\":[{\"cells\":{\"fill\":{\"color\":\"#EBF0F8\"},\"line\":{\"color\":\"white\"}},\"header\":{\"fill\":{\"color\":\"#C8D4E3\"},\"line\":{\"color\":\"white\"}},\"type\":\"table\"}],\"barpolar\":[{\"marker\":{\"line\":{\"color\":\"#E5ECF6\",\"width\":0.5},\"pattern\":{\"fillmode\":\"overlay\",\"size\":10,\"solidity\":0.2}},\"type\":\"barpolar\"}],\"pie\":[{\"automargin\":true,\"type\":\"pie\"}]},\"layout\":{\"autotypenumbers\":\"strict\",\"colorway\":[\"#636efa\",\"#EF553B\",\"#00cc96\",\"#ab63fa\",\"#FFA15A\",\"#19d3f3\",\"#FF6692\",\"#B6E880\",\"#FF97FF\",\"#FECB52\"],\"font\":{\"color\":\"#2a3f5f\"},\"hovermode\":\"closest\",\"hoverlabel\":{\"align\":\"left\"},\"paper_bgcolor\":\"white\",\"plot_bgcolor\":\"#E5ECF6\",\"polar\":{\"bgcolor\":\"#E5ECF6\",\"angularaxis\":{\"gridcolor\":\"white\",\"linecolor\":\"white\",\"ticks\":\"\"},\"radialaxis\":{\"gridcolor\":\"white\",\"linecolor\":\"white\",\"ticks\":\"\"}},\"ternary\":{\"bgcolor\":\"#E5ECF6\",\"aaxis\":{\"gridcolor\":\"white\",\"linecolor\":\"white\",\"ticks\":\"\"},\"baxis\":{\"gridcolor\":\"white\",\"linecolor\":\"white\",\"ticks\":\"\"},\"caxis\":{\"gridcolor\":\"white\",\"linecolor\":\"white\",\"ticks\":\"\"}},\"coloraxis\":{\"colorbar\":{\"outlinewidth\":0,\"ticks\":\"\"}},\"colorscale\":{\"sequential\":[[0.0,\"#0d0887\"],[0.1111111111111111,\"#46039f\"],[0.2222222222222222,\"#7201a8\"],[0.3333333333333333,\"#9c179e\"],[0.4444444444444444,\"#bd3786\"],[0.5555555555555556,\"#d8576b\"],[0.6666666666666666,\"#ed7953\"],[0.7777777777777778,\"#fb9f3a\"],[0.8888888888888888,\"#fdca26\"],[1.0,\"#f0f921\"]],\"sequentialminus\":[[0.0,\"#0d0887\"],[0.1111111111111111,\"#46039f\"],[0.2222222222222222,\"#7201a8\"],[0.3333333333333333,\"#9c179e\"],[0.4444444444444444,\"#bd3786\"],[0.5555555555555556,\"#d8576b\"],[0.6666666666666666,\"#ed7953\"],[0.7777777777777778,\"#fb9f3a\"],[0.8888888888888888,\"#fdca26\"],[1.0,\"#f0f921\"]],\"diverging\":[[0,\"#8e0152\"],[0.1,\"#c51b7d\"],[0.2,\"#de77ae\"],[0.3,\"#f1b6da\"],[0.4,\"#fde0ef\"],[0.5,\"#f7f7f7\"],[0.6,\"#e6f5d0\"],[0.7,\"#b8e186\"],[0.8,\"#7fbc41\"],[0.9,\"#4d9221\"],[1,\"#276419\"]]},\"xaxis\":{\"gridcolor\":\"white\",\"linecolor\":\"white\",\"ticks\":\"\",\"title\":{\"standoff\":15},\"zerolinecolor\":\"white\",\"automargin\":true,\"zerolinewidth\":2},\"yaxis\":{\"gridcolor\":\"white\",\"linecolor\":\"white\",\"ticks\":\"\",\"title\":{\"standoff\":15},\"zerolinecolor\":\"white\",\"automargin\":true,\"zerolinewidth\":2},\"scene\":{\"xaxis\":{\"backgroundcolor\":\"#E5ECF6\",\"gridcolor\":\"white\",\"linecolor\":\"white\",\"showbackground\":true,\"ticks\":\"\",\"zerolinecolor\":\"white\",\"gridwidth\":2},\"yaxis\":{\"backgroundcolor\":\"#E5ECF6\",\"gridcolor\":\"white\",\"linecolor\":\"white\",\"showbackground\":true,\"ticks\":\"\",\"zerolinecolor\":\"white\",\"gridwidth\":2},\"zaxis\":{\"backgroundcolor\":\"#E5ECF6\",\"gridcolor\":\"white\",\"linecolor\":\"white\",\"showbackground\":true,\"ticks\":\"\",\"zerolinecolor\":\"white\",\"gridwidth\":2}},\"shapedefaults\":{\"line\":{\"color\":\"#2a3f5f\"}},\"annotationdefaults\":{\"arrowcolor\":\"#2a3f5f\",\"arrowhead\":0,\"arrowwidth\":1},\"geo\":{\"bgcolor\":\"white\",\"landcolor\":\"#E5ECF6\",\"subunitcolor\":\"white\",\"showland\":true,\"showlakes\":true,\"lakecolor\":\"white\"},\"title\":{\"x\":0.05},\"mapbox\":{\"style\":\"light\"}}}},                        {\"responsive\": true}                    ).then(function(){\n",
       "                            \n",
       "var gd = document.getElementById('9c1457f5-2725-474f-ad43-f633239660f1');\n",
       "var x = new MutationObserver(function (mutations, observer) {{\n",
       "        var display = window.getComputedStyle(gd).display;\n",
       "        if (!display || display === 'none') {{\n",
       "            console.log([gd, 'removed!']);\n",
       "            Plotly.purge(gd);\n",
       "            observer.disconnect();\n",
       "        }}\n",
       "}});\n",
       "\n",
       "// Listen for the removal of the full notebook cells\n",
       "var notebookContainer = gd.closest('#notebook-container');\n",
       "if (notebookContainer) {{\n",
       "    x.observe(notebookContainer, {childList: true});\n",
       "}}\n",
       "\n",
       "// Listen for the clearing of the current output cell\n",
       "var outputEl = gd.closest('.output');\n",
       "if (outputEl) {{\n",
       "    x.observe(outputEl, {childList: true});\n",
       "}}\n",
       "\n",
       "                        })                };                });            </script>        </div>"
      ]
     },
     "metadata": {},
     "output_type": "display_data"
    }
   ],
   "source": [
    "fig.show()"
   ]
  },
  {
   "cell_type": "markdown",
   "id": "63d2a953",
   "metadata": {},
   "source": [
    "The spikes in negative sentiment shown above are almost the same as the original dataset. This signifies that any Wordclouds would be the same. It is interesting to note that there were much more negative sentiments in the larger dataset that assessed more terms. It should not be assumed that this is indicative of a large prevalence of mental health disorders within select Caribbean countries as Twitter users sometimes use these terms very flippantly. However, given that there are siginificantly more spikes of negative sentiments than positive, this should be taken into consideration and investigated further by health authorities. "
   ]
  },
  {
   "cell_type": "markdown",
   "id": "7b33f076",
   "metadata": {},
   "source": [
    "To conclude this analysis on mental health in the Caribbean, this part of the project confirmed that depression and anxiety are the more prevalent disorders but there is a recognition, among some Twitter users, of the importance of mental wellness. The 25 Year Mental Health dashboard showed that disorder levels have been more or less constant over the years but it appears that this may not be accurate given the prevalence of negative emotions. The WordCloud showed that there was a conference held on mental health and there were tweets with high likes and retweets that championed mental health care which means that more persons may be encouraged to seek care for their struggles. Again, health practitioners can use this as an indication of the openness of a considerable amount of the population to seek care and so they could devise treatment options around this. "
   ]
  },
  {
   "cell_type": "code",
   "execution_count": null,
   "id": "9c1f544e",
   "metadata": {},
   "outputs": [],
   "source": []
  },
  {
   "cell_type": "code",
   "execution_count": null,
   "id": "8f7a8074",
   "metadata": {},
   "outputs": [],
   "source": []
  }
 ],
 "metadata": {
  "kernelspec": {
   "display_name": "Python 3 (ipykernel)",
   "language": "python",
   "name": "python3"
  },
  "language_info": {
   "codemirror_mode": {
    "name": "ipython",
    "version": 3
   },
   "file_extension": ".py",
   "mimetype": "text/x-python",
   "name": "python",
   "nbconvert_exporter": "python",
   "pygments_lexer": "ipython3",
   "version": "3.9.13"
  }
 },
 "nbformat": 4,
 "nbformat_minor": 5
}
